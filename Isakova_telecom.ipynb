{
 "cells": [
  {
   "cell_type": "markdown",
   "id": "54e6f77d",
   "metadata": {
    "toc": true
   },
   "source": [
    "<h1>Статистический анализ данных<span class=\"tocSkip\"></span></h1>\n",
    "<div class=\"toc\"><ul class=\"toc-item\"><li><span><a href=\"#Определение-перспективного-тарифа-для-оператора-сотовой-связи\" data-toc-modified-id=\"Определение-перспективного-тарифа-для-оператора-сотовой-связи-0\">Определение перспективного тарифа для оператора сотовой связи</a></span><ul class=\"toc-item\"><li><span><a href=\"#Первичное-изучение-данных\" data-toc-modified-id=\"Первичное-изучение-данных-0.1\">Первичное изучение данных</a></span></li><li><span><a href=\"#Предобработка-данных\" data-toc-modified-id=\"Предобработка-данных-0.2\">Предобработка данных</a></span><ul class=\"toc-item\"><li><span><a href=\"#Звонки\" data-toc-modified-id=\"Звонки-0.2.1\">Звонки</a></span></li><li><span><a href=\"#Сообщения\" data-toc-modified-id=\"Сообщения-0.2.2\">Сообщения</a></span></li><li><span><a href=\"#Интернет-трафик\" data-toc-modified-id=\"Интернет-трафик-0.2.3\">Интернет-трафик</a></span></li></ul></li><li><span><a href=\"#Расчеты-агрегированных-данных\" data-toc-modified-id=\"Расчеты-агрегированных-данных-0.3\">Расчеты агрегированных данных</a></span></li><li><span><a href=\"#Объединение-данных\" data-toc-modified-id=\"Объединение-данных-0.4\">Объединение данных</a></span></li><li><span><a href=\"#Расчет-выручки\" data-toc-modified-id=\"Расчет-выручки-0.5\">Расчет выручки</a></span></li><li><span><a href=\"#Статистический-анализ-данных\" data-toc-modified-id=\"Статистический-анализ-данных-0.6\">Статистический анализ данных</a></span></li><li><span><a href=\"#Гипотезы\" data-toc-modified-id=\"Гипотезы-0.7\">Гипотезы</a></span><ul class=\"toc-item\"><li><span><a href=\"#Средняя-выручка-пользователей-тарифов-Ультра-и-Смарт-различаются\" data-toc-modified-id=\"Средняя-выручка-пользователей-тарифов-Ультра-и-Смарт-различаются-0.7.1\">Средняя выручка пользователей тарифов Ультра и Смарт различаются</a></span></li><li><span><a href=\"#Cредняя-выручка-пользователей-из-Москвы-равна-средней-выручке-пользователей-из-других-регионов\" data-toc-modified-id=\"Cредняя-выручка-пользователей-из-Москвы-равна-средней-выручке-пользователей-из-других-регионов-0.7.2\">Cредняя выручка пользователей из Москвы равна средней выручке пользователей из других регионов</a></span></li></ul></li></ul></li><li><span><a href=\"#Итоговый-вывод\" data-toc-modified-id=\"Итоговый-вывод-1\">Итоговый вывод</a></span></li></ul></div>"
   ]
  },
  {
   "cell_type": "markdown",
   "id": "ffb58a8e",
   "metadata": {},
   "source": [
    "# Определение перспективного тарифа для оператора сотовой связи\n",
    "\n",
    "\n",
    "Вы аналитик федерального оператора сотовой связи. \n",
    "Клиентам предлагают два тарифных плана: «Смарт» и «Ультра». Чтобы скорректировать рекламный бюджет, коммерческий департамент хочет понять, какой тариф приносит больше денег.\n",
    "\n",
    "\n",
    "Вам предстоит сделать предварительный анализ тарифов на небольшой выборке клиентов. \n",
    "\n",
    "В вашем распоряжении данные 500 пользователей: кто они, откуда, каким тарифом пользуются, сколько звонков и сообщений каждый отправил за 2018 год. Нужно проанализировать поведение клиентов и сделать вывод — какой тариф лучше."
   ]
  },
  {
   "cell_type": "markdown",
   "id": "a8535832",
   "metadata": {},
   "source": [
    "Тариф «Смарт»\n",
    "\n",
    "\n",
    "Ежемесячная плата: 550 рублей\n",
    "Включено 500 минут разговора, 50 сообщений и 15 Гб интернет-трафика\n",
    "Стоимость услуг сверх тарифного пакета:\n",
    "минута разговора: 3 рубля\n",
    "сообщение: 3 рубля\n",
    "1 Гб интернет-трафика: 200 рублей\n",
    "\n",
    "\n",
    "Тариф «Ультра»\n",
    "\n",
    "\n",
    "Ежемесячная плата: 1950 рублей\n",
    "Включено 3000 минут разговора, 1000 сообщений и 30 Гб интернет-трафика\n",
    "Стоимость услуг сверх тарифного пакета:\n",
    "минута разговора: 1 рубль\n",
    "сообщение: 1 рубль\n",
    "1 Гб интернет-трафика: 150 рублей"
   ]
  },
  {
   "cell_type": "markdown",
   "id": "239b0953",
   "metadata": {},
   "source": [
    "## Первичное изучение данных\n",
    "\n",
    "Загружаем датасеты и изучаем общую информацию"
   ]
  },
  {
   "cell_type": "code",
   "execution_count": 2,
   "id": "d063581b",
   "metadata": {},
   "outputs": [],
   "source": [
    "#загружаем необходимые библиотеки\n",
    "import pandas as pd\n",
    "import matplotlib.pyplot as plt\n",
    "import numpy as np\n",
    "from scipy import stats as st\n",
    "import seaborn as sns\n",
    "import math"
   ]
  },
  {
   "cell_type": "code",
   "execution_count": 3,
   "id": "4cb630ea",
   "metadata": {},
   "outputs": [
    {
     "ename": "FileNotFoundError",
     "evalue": "[Errno 2] No such file or directory: '/datasets/calls.csv'",
     "output_type": "error",
     "traceback": [
      "\u001b[1;31m---------------------------------------------------------------------------\u001b[0m",
      "\u001b[1;31mFileNotFoundError\u001b[0m                         Traceback (most recent call last)",
      "Input \u001b[1;32mIn [3]\u001b[0m, in \u001b[0;36m<cell line: 2>\u001b[1;34m()\u001b[0m\n\u001b[0;32m      2\u001b[0m \u001b[38;5;28;01mtry\u001b[39;00m:\n\u001b[1;32m----> 3\u001b[0m     data_calls \u001b[38;5;241m=\u001b[39m \u001b[43mpd\u001b[49m\u001b[38;5;241;43m.\u001b[39;49m\u001b[43mread_csv\u001b[49m\u001b[43m(\u001b[49m\u001b[38;5;124;43m'\u001b[39;49m\u001b[38;5;124;43m/datasets/calls.csv\u001b[39;49m\u001b[38;5;124;43m'\u001b[39;49m\u001b[43m)\u001b[49m\n\u001b[0;32m      4\u001b[0m     data_internet \u001b[38;5;241m=\u001b[39m pd\u001b[38;5;241m.\u001b[39mread_csv(\u001b[38;5;124m'\u001b[39m\u001b[38;5;124m/datasets/internet.csv\u001b[39m\u001b[38;5;124m'\u001b[39m)\n",
      "File \u001b[1;32m~\\anaconda3\\lib\\site-packages\\pandas\\util\\_decorators.py:311\u001b[0m, in \u001b[0;36mdeprecate_nonkeyword_arguments.<locals>.decorate.<locals>.wrapper\u001b[1;34m(*args, **kwargs)\u001b[0m\n\u001b[0;32m    306\u001b[0m     warnings\u001b[38;5;241m.\u001b[39mwarn(\n\u001b[0;32m    307\u001b[0m         msg\u001b[38;5;241m.\u001b[39mformat(arguments\u001b[38;5;241m=\u001b[39marguments),\n\u001b[0;32m    308\u001b[0m         \u001b[38;5;167;01mFutureWarning\u001b[39;00m,\n\u001b[0;32m    309\u001b[0m         stacklevel\u001b[38;5;241m=\u001b[39mstacklevel,\n\u001b[0;32m    310\u001b[0m     )\n\u001b[1;32m--> 311\u001b[0m \u001b[38;5;28;01mreturn\u001b[39;00m func(\u001b[38;5;241m*\u001b[39margs, \u001b[38;5;241m*\u001b[39m\u001b[38;5;241m*\u001b[39mkwargs)\n",
      "File \u001b[1;32m~\\anaconda3\\lib\\site-packages\\pandas\\io\\parsers\\readers.py:680\u001b[0m, in \u001b[0;36mread_csv\u001b[1;34m(filepath_or_buffer, sep, delimiter, header, names, index_col, usecols, squeeze, prefix, mangle_dupe_cols, dtype, engine, converters, true_values, false_values, skipinitialspace, skiprows, skipfooter, nrows, na_values, keep_default_na, na_filter, verbose, skip_blank_lines, parse_dates, infer_datetime_format, keep_date_col, date_parser, dayfirst, cache_dates, iterator, chunksize, compression, thousands, decimal, lineterminator, quotechar, quoting, doublequote, escapechar, comment, encoding, encoding_errors, dialect, error_bad_lines, warn_bad_lines, on_bad_lines, delim_whitespace, low_memory, memory_map, float_precision, storage_options)\u001b[0m\n\u001b[0;32m    678\u001b[0m kwds\u001b[38;5;241m.\u001b[39mupdate(kwds_defaults)\n\u001b[1;32m--> 680\u001b[0m \u001b[38;5;28;01mreturn\u001b[39;00m \u001b[43m_read\u001b[49m\u001b[43m(\u001b[49m\u001b[43mfilepath_or_buffer\u001b[49m\u001b[43m,\u001b[49m\u001b[43m \u001b[49m\u001b[43mkwds\u001b[49m\u001b[43m)\u001b[49m\n",
      "File \u001b[1;32m~\\anaconda3\\lib\\site-packages\\pandas\\io\\parsers\\readers.py:575\u001b[0m, in \u001b[0;36m_read\u001b[1;34m(filepath_or_buffer, kwds)\u001b[0m\n\u001b[0;32m    574\u001b[0m \u001b[38;5;66;03m# Create the parser.\u001b[39;00m\n\u001b[1;32m--> 575\u001b[0m parser \u001b[38;5;241m=\u001b[39m TextFileReader(filepath_or_buffer, \u001b[38;5;241m*\u001b[39m\u001b[38;5;241m*\u001b[39mkwds)\n\u001b[0;32m    577\u001b[0m \u001b[38;5;28;01mif\u001b[39;00m chunksize \u001b[38;5;129;01mor\u001b[39;00m iterator:\n",
      "File \u001b[1;32m~\\anaconda3\\lib\\site-packages\\pandas\\io\\parsers\\readers.py:933\u001b[0m, in \u001b[0;36mTextFileReader.__init__\u001b[1;34m(self, f, engine, **kwds)\u001b[0m\n\u001b[0;32m    932\u001b[0m \u001b[38;5;28mself\u001b[39m\u001b[38;5;241m.\u001b[39mhandles: IOHandles \u001b[38;5;241m|\u001b[39m \u001b[38;5;28;01mNone\u001b[39;00m \u001b[38;5;241m=\u001b[39m \u001b[38;5;28;01mNone\u001b[39;00m\n\u001b[1;32m--> 933\u001b[0m \u001b[38;5;28mself\u001b[39m\u001b[38;5;241m.\u001b[39m_engine \u001b[38;5;241m=\u001b[39m \u001b[38;5;28;43mself\u001b[39;49m\u001b[38;5;241;43m.\u001b[39;49m\u001b[43m_make_engine\u001b[49m\u001b[43m(\u001b[49m\u001b[43mf\u001b[49m\u001b[43m,\u001b[49m\u001b[43m \u001b[49m\u001b[38;5;28;43mself\u001b[39;49m\u001b[38;5;241;43m.\u001b[39;49m\u001b[43mengine\u001b[49m\u001b[43m)\u001b[49m\n",
      "File \u001b[1;32m~\\anaconda3\\lib\\site-packages\\pandas\\io\\parsers\\readers.py:1217\u001b[0m, in \u001b[0;36mTextFileReader._make_engine\u001b[1;34m(self, f, engine)\u001b[0m\n\u001b[0;32m   1214\u001b[0m \u001b[38;5;66;03m# error: No overload variant of \"get_handle\" matches argument types\u001b[39;00m\n\u001b[0;32m   1215\u001b[0m \u001b[38;5;66;03m# \"Union[str, PathLike[str], ReadCsvBuffer[bytes], ReadCsvBuffer[str]]\"\u001b[39;00m\n\u001b[0;32m   1216\u001b[0m \u001b[38;5;66;03m# , \"str\", \"bool\", \"Any\", \"Any\", \"Any\", \"Any\", \"Any\"\u001b[39;00m\n\u001b[1;32m-> 1217\u001b[0m \u001b[38;5;28mself\u001b[39m\u001b[38;5;241m.\u001b[39mhandles \u001b[38;5;241m=\u001b[39m \u001b[43mget_handle\u001b[49m\u001b[43m(\u001b[49m\u001b[43m  \u001b[49m\u001b[38;5;66;43;03m# type: ignore[call-overload]\u001b[39;49;00m\n\u001b[0;32m   1218\u001b[0m \u001b[43m    \u001b[49m\u001b[43mf\u001b[49m\u001b[43m,\u001b[49m\n\u001b[0;32m   1219\u001b[0m \u001b[43m    \u001b[49m\u001b[43mmode\u001b[49m\u001b[43m,\u001b[49m\n\u001b[0;32m   1220\u001b[0m \u001b[43m    \u001b[49m\u001b[43mencoding\u001b[49m\u001b[38;5;241;43m=\u001b[39;49m\u001b[38;5;28;43mself\u001b[39;49m\u001b[38;5;241;43m.\u001b[39;49m\u001b[43moptions\u001b[49m\u001b[38;5;241;43m.\u001b[39;49m\u001b[43mget\u001b[49m\u001b[43m(\u001b[49m\u001b[38;5;124;43m\"\u001b[39;49m\u001b[38;5;124;43mencoding\u001b[39;49m\u001b[38;5;124;43m\"\u001b[39;49m\u001b[43m,\u001b[49m\u001b[43m \u001b[49m\u001b[38;5;28;43;01mNone\u001b[39;49;00m\u001b[43m)\u001b[49m\u001b[43m,\u001b[49m\n\u001b[0;32m   1221\u001b[0m \u001b[43m    \u001b[49m\u001b[43mcompression\u001b[49m\u001b[38;5;241;43m=\u001b[39;49m\u001b[38;5;28;43mself\u001b[39;49m\u001b[38;5;241;43m.\u001b[39;49m\u001b[43moptions\u001b[49m\u001b[38;5;241;43m.\u001b[39;49m\u001b[43mget\u001b[49m\u001b[43m(\u001b[49m\u001b[38;5;124;43m\"\u001b[39;49m\u001b[38;5;124;43mcompression\u001b[39;49m\u001b[38;5;124;43m\"\u001b[39;49m\u001b[43m,\u001b[49m\u001b[43m \u001b[49m\u001b[38;5;28;43;01mNone\u001b[39;49;00m\u001b[43m)\u001b[49m\u001b[43m,\u001b[49m\n\u001b[0;32m   1222\u001b[0m \u001b[43m    \u001b[49m\u001b[43mmemory_map\u001b[49m\u001b[38;5;241;43m=\u001b[39;49m\u001b[38;5;28;43mself\u001b[39;49m\u001b[38;5;241;43m.\u001b[39;49m\u001b[43moptions\u001b[49m\u001b[38;5;241;43m.\u001b[39;49m\u001b[43mget\u001b[49m\u001b[43m(\u001b[49m\u001b[38;5;124;43m\"\u001b[39;49m\u001b[38;5;124;43mmemory_map\u001b[39;49m\u001b[38;5;124;43m\"\u001b[39;49m\u001b[43m,\u001b[49m\u001b[43m \u001b[49m\u001b[38;5;28;43;01mFalse\u001b[39;49;00m\u001b[43m)\u001b[49m\u001b[43m,\u001b[49m\n\u001b[0;32m   1223\u001b[0m \u001b[43m    \u001b[49m\u001b[43mis_text\u001b[49m\u001b[38;5;241;43m=\u001b[39;49m\u001b[43mis_text\u001b[49m\u001b[43m,\u001b[49m\n\u001b[0;32m   1224\u001b[0m \u001b[43m    \u001b[49m\u001b[43merrors\u001b[49m\u001b[38;5;241;43m=\u001b[39;49m\u001b[38;5;28;43mself\u001b[39;49m\u001b[38;5;241;43m.\u001b[39;49m\u001b[43moptions\u001b[49m\u001b[38;5;241;43m.\u001b[39;49m\u001b[43mget\u001b[49m\u001b[43m(\u001b[49m\u001b[38;5;124;43m\"\u001b[39;49m\u001b[38;5;124;43mencoding_errors\u001b[39;49m\u001b[38;5;124;43m\"\u001b[39;49m\u001b[43m,\u001b[49m\u001b[43m \u001b[49m\u001b[38;5;124;43m\"\u001b[39;49m\u001b[38;5;124;43mstrict\u001b[39;49m\u001b[38;5;124;43m\"\u001b[39;49m\u001b[43m)\u001b[49m\u001b[43m,\u001b[49m\n\u001b[0;32m   1225\u001b[0m \u001b[43m    \u001b[49m\u001b[43mstorage_options\u001b[49m\u001b[38;5;241;43m=\u001b[39;49m\u001b[38;5;28;43mself\u001b[39;49m\u001b[38;5;241;43m.\u001b[39;49m\u001b[43moptions\u001b[49m\u001b[38;5;241;43m.\u001b[39;49m\u001b[43mget\u001b[49m\u001b[43m(\u001b[49m\u001b[38;5;124;43m\"\u001b[39;49m\u001b[38;5;124;43mstorage_options\u001b[39;49m\u001b[38;5;124;43m\"\u001b[39;49m\u001b[43m,\u001b[49m\u001b[43m \u001b[49m\u001b[38;5;28;43;01mNone\u001b[39;49;00m\u001b[43m)\u001b[49m\u001b[43m,\u001b[49m\n\u001b[0;32m   1226\u001b[0m \u001b[43m\u001b[49m\u001b[43m)\u001b[49m\n\u001b[0;32m   1227\u001b[0m \u001b[38;5;28;01massert\u001b[39;00m \u001b[38;5;28mself\u001b[39m\u001b[38;5;241m.\u001b[39mhandles \u001b[38;5;129;01mis\u001b[39;00m \u001b[38;5;129;01mnot\u001b[39;00m \u001b[38;5;28;01mNone\u001b[39;00m\n",
      "File \u001b[1;32m~\\anaconda3\\lib\\site-packages\\pandas\\io\\common.py:789\u001b[0m, in \u001b[0;36mget_handle\u001b[1;34m(path_or_buf, mode, encoding, compression, memory_map, is_text, errors, storage_options)\u001b[0m\n\u001b[0;32m    787\u001b[0m \u001b[38;5;28;01mif\u001b[39;00m ioargs\u001b[38;5;241m.\u001b[39mencoding \u001b[38;5;129;01mand\u001b[39;00m \u001b[38;5;124m\"\u001b[39m\u001b[38;5;124mb\u001b[39m\u001b[38;5;124m\"\u001b[39m \u001b[38;5;129;01mnot\u001b[39;00m \u001b[38;5;129;01min\u001b[39;00m ioargs\u001b[38;5;241m.\u001b[39mmode:\n\u001b[0;32m    788\u001b[0m     \u001b[38;5;66;03m# Encoding\u001b[39;00m\n\u001b[1;32m--> 789\u001b[0m     handle \u001b[38;5;241m=\u001b[39m \u001b[38;5;28;43mopen\u001b[39;49m\u001b[43m(\u001b[49m\n\u001b[0;32m    790\u001b[0m \u001b[43m        \u001b[49m\u001b[43mhandle\u001b[49m\u001b[43m,\u001b[49m\n\u001b[0;32m    791\u001b[0m \u001b[43m        \u001b[49m\u001b[43mioargs\u001b[49m\u001b[38;5;241;43m.\u001b[39;49m\u001b[43mmode\u001b[49m\u001b[43m,\u001b[49m\n\u001b[0;32m    792\u001b[0m \u001b[43m        \u001b[49m\u001b[43mencoding\u001b[49m\u001b[38;5;241;43m=\u001b[39;49m\u001b[43mioargs\u001b[49m\u001b[38;5;241;43m.\u001b[39;49m\u001b[43mencoding\u001b[49m\u001b[43m,\u001b[49m\n\u001b[0;32m    793\u001b[0m \u001b[43m        \u001b[49m\u001b[43merrors\u001b[49m\u001b[38;5;241;43m=\u001b[39;49m\u001b[43merrors\u001b[49m\u001b[43m,\u001b[49m\n\u001b[0;32m    794\u001b[0m \u001b[43m        \u001b[49m\u001b[43mnewline\u001b[49m\u001b[38;5;241;43m=\u001b[39;49m\u001b[38;5;124;43m\"\u001b[39;49m\u001b[38;5;124;43m\"\u001b[39;49m\u001b[43m,\u001b[49m\n\u001b[0;32m    795\u001b[0m \u001b[43m    \u001b[49m\u001b[43m)\u001b[49m\n\u001b[0;32m    796\u001b[0m \u001b[38;5;28;01melse\u001b[39;00m:\n\u001b[0;32m    797\u001b[0m     \u001b[38;5;66;03m# Binary mode\u001b[39;00m\n",
      "\u001b[1;31mFileNotFoundError\u001b[0m: [Errno 2] No such file or directory: '/datasets/calls.csv'",
      "\nDuring handling of the above exception, another exception occurred:\n",
      "\u001b[1;31mFileNotFoundError\u001b[0m                         Traceback (most recent call last)",
      "Input \u001b[1;32mIn [3]\u001b[0m, in \u001b[0;36m<cell line: 2>\u001b[1;34m()\u001b[0m\n\u001b[0;32m      7\u001b[0m     data_users \u001b[38;5;241m=\u001b[39m pd\u001b[38;5;241m.\u001b[39mread_csv(\u001b[38;5;124m'\u001b[39m\u001b[38;5;124m/datasets/users.csv\u001b[39m\u001b[38;5;124m'\u001b[39m)\n\u001b[0;32m      8\u001b[0m \u001b[38;5;28;01mexcept\u001b[39;00m:\n\u001b[1;32m----> 9\u001b[0m     data_calls \u001b[38;5;241m=\u001b[39m \u001b[43mpd\u001b[49m\u001b[38;5;241;43m.\u001b[39;49m\u001b[43mread_csv\u001b[49m\u001b[43m(\u001b[49m\u001b[38;5;124;43m'\u001b[39;49m\u001b[38;5;124;43m/datasets/calls.csv\u001b[39;49m\u001b[38;5;124;43m'\u001b[39;49m\u001b[43m)\u001b[49m\n\u001b[0;32m     10\u001b[0m     data_internet \u001b[38;5;241m=\u001b[39m pd\u001b[38;5;241m.\u001b[39mread_csv(\u001b[38;5;124m'\u001b[39m\u001b[38;5;124m/datasets/internet.csv\u001b[39m\u001b[38;5;124m'\u001b[39m)\n\u001b[0;32m     11\u001b[0m     data_message \u001b[38;5;241m=\u001b[39m pd\u001b[38;5;241m.\u001b[39mread_csv(\u001b[38;5;124m'\u001b[39m\u001b[38;5;124m/datasets/messages.csv\u001b[39m\u001b[38;5;124m'\u001b[39m)\n",
      "File \u001b[1;32m~\\anaconda3\\lib\\site-packages\\pandas\\util\\_decorators.py:311\u001b[0m, in \u001b[0;36mdeprecate_nonkeyword_arguments.<locals>.decorate.<locals>.wrapper\u001b[1;34m(*args, **kwargs)\u001b[0m\n\u001b[0;32m    305\u001b[0m \u001b[38;5;28;01mif\u001b[39;00m \u001b[38;5;28mlen\u001b[39m(args) \u001b[38;5;241m>\u001b[39m num_allow_args:\n\u001b[0;32m    306\u001b[0m     warnings\u001b[38;5;241m.\u001b[39mwarn(\n\u001b[0;32m    307\u001b[0m         msg\u001b[38;5;241m.\u001b[39mformat(arguments\u001b[38;5;241m=\u001b[39marguments),\n\u001b[0;32m    308\u001b[0m         \u001b[38;5;167;01mFutureWarning\u001b[39;00m,\n\u001b[0;32m    309\u001b[0m         stacklevel\u001b[38;5;241m=\u001b[39mstacklevel,\n\u001b[0;32m    310\u001b[0m     )\n\u001b[1;32m--> 311\u001b[0m \u001b[38;5;28;01mreturn\u001b[39;00m func(\u001b[38;5;241m*\u001b[39margs, \u001b[38;5;241m*\u001b[39m\u001b[38;5;241m*\u001b[39mkwargs)\n",
      "File \u001b[1;32m~\\anaconda3\\lib\\site-packages\\pandas\\io\\parsers\\readers.py:680\u001b[0m, in \u001b[0;36mread_csv\u001b[1;34m(filepath_or_buffer, sep, delimiter, header, names, index_col, usecols, squeeze, prefix, mangle_dupe_cols, dtype, engine, converters, true_values, false_values, skipinitialspace, skiprows, skipfooter, nrows, na_values, keep_default_na, na_filter, verbose, skip_blank_lines, parse_dates, infer_datetime_format, keep_date_col, date_parser, dayfirst, cache_dates, iterator, chunksize, compression, thousands, decimal, lineterminator, quotechar, quoting, doublequote, escapechar, comment, encoding, encoding_errors, dialect, error_bad_lines, warn_bad_lines, on_bad_lines, delim_whitespace, low_memory, memory_map, float_precision, storage_options)\u001b[0m\n\u001b[0;32m    665\u001b[0m kwds_defaults \u001b[38;5;241m=\u001b[39m _refine_defaults_read(\n\u001b[0;32m    666\u001b[0m     dialect,\n\u001b[0;32m    667\u001b[0m     delimiter,\n\u001b[1;32m   (...)\u001b[0m\n\u001b[0;32m    676\u001b[0m     defaults\u001b[38;5;241m=\u001b[39m{\u001b[38;5;124m\"\u001b[39m\u001b[38;5;124mdelimiter\u001b[39m\u001b[38;5;124m\"\u001b[39m: \u001b[38;5;124m\"\u001b[39m\u001b[38;5;124m,\u001b[39m\u001b[38;5;124m\"\u001b[39m},\n\u001b[0;32m    677\u001b[0m )\n\u001b[0;32m    678\u001b[0m kwds\u001b[38;5;241m.\u001b[39mupdate(kwds_defaults)\n\u001b[1;32m--> 680\u001b[0m \u001b[38;5;28;01mreturn\u001b[39;00m \u001b[43m_read\u001b[49m\u001b[43m(\u001b[49m\u001b[43mfilepath_or_buffer\u001b[49m\u001b[43m,\u001b[49m\u001b[43m \u001b[49m\u001b[43mkwds\u001b[49m\u001b[43m)\u001b[49m\n",
      "File \u001b[1;32m~\\anaconda3\\lib\\site-packages\\pandas\\io\\parsers\\readers.py:575\u001b[0m, in \u001b[0;36m_read\u001b[1;34m(filepath_or_buffer, kwds)\u001b[0m\n\u001b[0;32m    572\u001b[0m _validate_names(kwds\u001b[38;5;241m.\u001b[39mget(\u001b[38;5;124m\"\u001b[39m\u001b[38;5;124mnames\u001b[39m\u001b[38;5;124m\"\u001b[39m, \u001b[38;5;28;01mNone\u001b[39;00m))\n\u001b[0;32m    574\u001b[0m \u001b[38;5;66;03m# Create the parser.\u001b[39;00m\n\u001b[1;32m--> 575\u001b[0m parser \u001b[38;5;241m=\u001b[39m TextFileReader(filepath_or_buffer, \u001b[38;5;241m*\u001b[39m\u001b[38;5;241m*\u001b[39mkwds)\n\u001b[0;32m    577\u001b[0m \u001b[38;5;28;01mif\u001b[39;00m chunksize \u001b[38;5;129;01mor\u001b[39;00m iterator:\n\u001b[0;32m    578\u001b[0m     \u001b[38;5;28;01mreturn\u001b[39;00m parser\n",
      "File \u001b[1;32m~\\anaconda3\\lib\\site-packages\\pandas\\io\\parsers\\readers.py:933\u001b[0m, in \u001b[0;36mTextFileReader.__init__\u001b[1;34m(self, f, engine, **kwds)\u001b[0m\n\u001b[0;32m    930\u001b[0m     \u001b[38;5;28mself\u001b[39m\u001b[38;5;241m.\u001b[39moptions[\u001b[38;5;124m\"\u001b[39m\u001b[38;5;124mhas_index_names\u001b[39m\u001b[38;5;124m\"\u001b[39m] \u001b[38;5;241m=\u001b[39m kwds[\u001b[38;5;124m\"\u001b[39m\u001b[38;5;124mhas_index_names\u001b[39m\u001b[38;5;124m\"\u001b[39m]\n\u001b[0;32m    932\u001b[0m \u001b[38;5;28mself\u001b[39m\u001b[38;5;241m.\u001b[39mhandles: IOHandles \u001b[38;5;241m|\u001b[39m \u001b[38;5;28;01mNone\u001b[39;00m \u001b[38;5;241m=\u001b[39m \u001b[38;5;28;01mNone\u001b[39;00m\n\u001b[1;32m--> 933\u001b[0m \u001b[38;5;28mself\u001b[39m\u001b[38;5;241m.\u001b[39m_engine \u001b[38;5;241m=\u001b[39m \u001b[38;5;28;43mself\u001b[39;49m\u001b[38;5;241;43m.\u001b[39;49m\u001b[43m_make_engine\u001b[49m\u001b[43m(\u001b[49m\u001b[43mf\u001b[49m\u001b[43m,\u001b[49m\u001b[43m \u001b[49m\u001b[38;5;28;43mself\u001b[39;49m\u001b[38;5;241;43m.\u001b[39;49m\u001b[43mengine\u001b[49m\u001b[43m)\u001b[49m\n",
      "File \u001b[1;32m~\\anaconda3\\lib\\site-packages\\pandas\\io\\parsers\\readers.py:1217\u001b[0m, in \u001b[0;36mTextFileReader._make_engine\u001b[1;34m(self, f, engine)\u001b[0m\n\u001b[0;32m   1213\u001b[0m     mode \u001b[38;5;241m=\u001b[39m \u001b[38;5;124m\"\u001b[39m\u001b[38;5;124mrb\u001b[39m\u001b[38;5;124m\"\u001b[39m\n\u001b[0;32m   1214\u001b[0m \u001b[38;5;66;03m# error: No overload variant of \"get_handle\" matches argument types\u001b[39;00m\n\u001b[0;32m   1215\u001b[0m \u001b[38;5;66;03m# \"Union[str, PathLike[str], ReadCsvBuffer[bytes], ReadCsvBuffer[str]]\"\u001b[39;00m\n\u001b[0;32m   1216\u001b[0m \u001b[38;5;66;03m# , \"str\", \"bool\", \"Any\", \"Any\", \"Any\", \"Any\", \"Any\"\u001b[39;00m\n\u001b[1;32m-> 1217\u001b[0m \u001b[38;5;28mself\u001b[39m\u001b[38;5;241m.\u001b[39mhandles \u001b[38;5;241m=\u001b[39m \u001b[43mget_handle\u001b[49m\u001b[43m(\u001b[49m\u001b[43m  \u001b[49m\u001b[38;5;66;43;03m# type: ignore[call-overload]\u001b[39;49;00m\n\u001b[0;32m   1218\u001b[0m \u001b[43m    \u001b[49m\u001b[43mf\u001b[49m\u001b[43m,\u001b[49m\n\u001b[0;32m   1219\u001b[0m \u001b[43m    \u001b[49m\u001b[43mmode\u001b[49m\u001b[43m,\u001b[49m\n\u001b[0;32m   1220\u001b[0m \u001b[43m    \u001b[49m\u001b[43mencoding\u001b[49m\u001b[38;5;241;43m=\u001b[39;49m\u001b[38;5;28;43mself\u001b[39;49m\u001b[38;5;241;43m.\u001b[39;49m\u001b[43moptions\u001b[49m\u001b[38;5;241;43m.\u001b[39;49m\u001b[43mget\u001b[49m\u001b[43m(\u001b[49m\u001b[38;5;124;43m\"\u001b[39;49m\u001b[38;5;124;43mencoding\u001b[39;49m\u001b[38;5;124;43m\"\u001b[39;49m\u001b[43m,\u001b[49m\u001b[43m \u001b[49m\u001b[38;5;28;43;01mNone\u001b[39;49;00m\u001b[43m)\u001b[49m\u001b[43m,\u001b[49m\n\u001b[0;32m   1221\u001b[0m \u001b[43m    \u001b[49m\u001b[43mcompression\u001b[49m\u001b[38;5;241;43m=\u001b[39;49m\u001b[38;5;28;43mself\u001b[39;49m\u001b[38;5;241;43m.\u001b[39;49m\u001b[43moptions\u001b[49m\u001b[38;5;241;43m.\u001b[39;49m\u001b[43mget\u001b[49m\u001b[43m(\u001b[49m\u001b[38;5;124;43m\"\u001b[39;49m\u001b[38;5;124;43mcompression\u001b[39;49m\u001b[38;5;124;43m\"\u001b[39;49m\u001b[43m,\u001b[49m\u001b[43m \u001b[49m\u001b[38;5;28;43;01mNone\u001b[39;49;00m\u001b[43m)\u001b[49m\u001b[43m,\u001b[49m\n\u001b[0;32m   1222\u001b[0m \u001b[43m    \u001b[49m\u001b[43mmemory_map\u001b[49m\u001b[38;5;241;43m=\u001b[39;49m\u001b[38;5;28;43mself\u001b[39;49m\u001b[38;5;241;43m.\u001b[39;49m\u001b[43moptions\u001b[49m\u001b[38;5;241;43m.\u001b[39;49m\u001b[43mget\u001b[49m\u001b[43m(\u001b[49m\u001b[38;5;124;43m\"\u001b[39;49m\u001b[38;5;124;43mmemory_map\u001b[39;49m\u001b[38;5;124;43m\"\u001b[39;49m\u001b[43m,\u001b[49m\u001b[43m \u001b[49m\u001b[38;5;28;43;01mFalse\u001b[39;49;00m\u001b[43m)\u001b[49m\u001b[43m,\u001b[49m\n\u001b[0;32m   1223\u001b[0m \u001b[43m    \u001b[49m\u001b[43mis_text\u001b[49m\u001b[38;5;241;43m=\u001b[39;49m\u001b[43mis_text\u001b[49m\u001b[43m,\u001b[49m\n\u001b[0;32m   1224\u001b[0m \u001b[43m    \u001b[49m\u001b[43merrors\u001b[49m\u001b[38;5;241;43m=\u001b[39;49m\u001b[38;5;28;43mself\u001b[39;49m\u001b[38;5;241;43m.\u001b[39;49m\u001b[43moptions\u001b[49m\u001b[38;5;241;43m.\u001b[39;49m\u001b[43mget\u001b[49m\u001b[43m(\u001b[49m\u001b[38;5;124;43m\"\u001b[39;49m\u001b[38;5;124;43mencoding_errors\u001b[39;49m\u001b[38;5;124;43m\"\u001b[39;49m\u001b[43m,\u001b[49m\u001b[43m \u001b[49m\u001b[38;5;124;43m\"\u001b[39;49m\u001b[38;5;124;43mstrict\u001b[39;49m\u001b[38;5;124;43m\"\u001b[39;49m\u001b[43m)\u001b[49m\u001b[43m,\u001b[49m\n\u001b[0;32m   1225\u001b[0m \u001b[43m    \u001b[49m\u001b[43mstorage_options\u001b[49m\u001b[38;5;241;43m=\u001b[39;49m\u001b[38;5;28;43mself\u001b[39;49m\u001b[38;5;241;43m.\u001b[39;49m\u001b[43moptions\u001b[49m\u001b[38;5;241;43m.\u001b[39;49m\u001b[43mget\u001b[49m\u001b[43m(\u001b[49m\u001b[38;5;124;43m\"\u001b[39;49m\u001b[38;5;124;43mstorage_options\u001b[39;49m\u001b[38;5;124;43m\"\u001b[39;49m\u001b[43m,\u001b[49m\u001b[43m \u001b[49m\u001b[38;5;28;43;01mNone\u001b[39;49;00m\u001b[43m)\u001b[49m\u001b[43m,\u001b[49m\n\u001b[0;32m   1226\u001b[0m \u001b[43m\u001b[49m\u001b[43m)\u001b[49m\n\u001b[0;32m   1227\u001b[0m \u001b[38;5;28;01massert\u001b[39;00m \u001b[38;5;28mself\u001b[39m\u001b[38;5;241m.\u001b[39mhandles \u001b[38;5;129;01mis\u001b[39;00m \u001b[38;5;129;01mnot\u001b[39;00m \u001b[38;5;28;01mNone\u001b[39;00m\n\u001b[0;32m   1228\u001b[0m f \u001b[38;5;241m=\u001b[39m \u001b[38;5;28mself\u001b[39m\u001b[38;5;241m.\u001b[39mhandles\u001b[38;5;241m.\u001b[39mhandle\n",
      "File \u001b[1;32m~\\anaconda3\\lib\\site-packages\\pandas\\io\\common.py:789\u001b[0m, in \u001b[0;36mget_handle\u001b[1;34m(path_or_buf, mode, encoding, compression, memory_map, is_text, errors, storage_options)\u001b[0m\n\u001b[0;32m    784\u001b[0m \u001b[38;5;28;01melif\u001b[39;00m \u001b[38;5;28misinstance\u001b[39m(handle, \u001b[38;5;28mstr\u001b[39m):\n\u001b[0;32m    785\u001b[0m     \u001b[38;5;66;03m# Check whether the filename is to be opened in binary mode.\u001b[39;00m\n\u001b[0;32m    786\u001b[0m     \u001b[38;5;66;03m# Binary mode does not support 'encoding' and 'newline'.\u001b[39;00m\n\u001b[0;32m    787\u001b[0m     \u001b[38;5;28;01mif\u001b[39;00m ioargs\u001b[38;5;241m.\u001b[39mencoding \u001b[38;5;129;01mand\u001b[39;00m \u001b[38;5;124m\"\u001b[39m\u001b[38;5;124mb\u001b[39m\u001b[38;5;124m\"\u001b[39m \u001b[38;5;129;01mnot\u001b[39;00m \u001b[38;5;129;01min\u001b[39;00m ioargs\u001b[38;5;241m.\u001b[39mmode:\n\u001b[0;32m    788\u001b[0m         \u001b[38;5;66;03m# Encoding\u001b[39;00m\n\u001b[1;32m--> 789\u001b[0m         handle \u001b[38;5;241m=\u001b[39m \u001b[38;5;28;43mopen\u001b[39;49m\u001b[43m(\u001b[49m\n\u001b[0;32m    790\u001b[0m \u001b[43m            \u001b[49m\u001b[43mhandle\u001b[49m\u001b[43m,\u001b[49m\n\u001b[0;32m    791\u001b[0m \u001b[43m            \u001b[49m\u001b[43mioargs\u001b[49m\u001b[38;5;241;43m.\u001b[39;49m\u001b[43mmode\u001b[49m\u001b[43m,\u001b[49m\n\u001b[0;32m    792\u001b[0m \u001b[43m            \u001b[49m\u001b[43mencoding\u001b[49m\u001b[38;5;241;43m=\u001b[39;49m\u001b[43mioargs\u001b[49m\u001b[38;5;241;43m.\u001b[39;49m\u001b[43mencoding\u001b[49m\u001b[43m,\u001b[49m\n\u001b[0;32m    793\u001b[0m \u001b[43m            \u001b[49m\u001b[43merrors\u001b[49m\u001b[38;5;241;43m=\u001b[39;49m\u001b[43merrors\u001b[49m\u001b[43m,\u001b[49m\n\u001b[0;32m    794\u001b[0m \u001b[43m            \u001b[49m\u001b[43mnewline\u001b[49m\u001b[38;5;241;43m=\u001b[39;49m\u001b[38;5;124;43m\"\u001b[39;49m\u001b[38;5;124;43m\"\u001b[39;49m\u001b[43m,\u001b[49m\n\u001b[0;32m    795\u001b[0m \u001b[43m        \u001b[49m\u001b[43m)\u001b[49m\n\u001b[0;32m    796\u001b[0m     \u001b[38;5;28;01melse\u001b[39;00m:\n\u001b[0;32m    797\u001b[0m         \u001b[38;5;66;03m# Binary mode\u001b[39;00m\n\u001b[0;32m    798\u001b[0m         handle \u001b[38;5;241m=\u001b[39m \u001b[38;5;28mopen\u001b[39m(handle, ioargs\u001b[38;5;241m.\u001b[39mmode)\n",
      "\u001b[1;31mFileNotFoundError\u001b[0m: [Errno 2] No such file or directory: '/datasets/calls.csv'"
     ]
    }
   ],
   "source": [
    "#загружаем файлы\n",
    "try:\n",
    "    data_calls = pd.read_csv('/datasets/calls.csv')\n",
    "    data_internet = pd.read_csv('/datasets/internet.csv')\n",
    "    data_message = pd.read_csv('/datasets/messages.csv')\n",
    "    data_tariffs = pd.read_csv('/datasets/tariffs.csv')\n",
    "    data_users = pd.read_csv('/datasets/users.csv')\n",
    "except:\n",
    "    data_calls = pd.read_csv('/datasets/calls.csv')\n",
    "    data_internet = pd.read_csv('/datasets/internet.csv')\n",
    "    data_message = pd.read_csv('/datasets/messages.csv')\n",
    "    data_tariffs = pd.read_csv('/datasets/tariffs.csv')\n",
    "    data_users = pd.read_csv('/datasets/users.csv')\n",
    "    \n"
   ]
  },
  {
   "cell_type": "code",
   "execution_count": 3,
   "id": "9b0b57f6",
   "metadata": {},
   "outputs": [],
   "source": [
    "#для первичного изучения информации напишем функцию, в параметры которой будем вставлять датасеты\n",
    "\n",
    "def first_look(data):\n",
    "    display(data.head())\n",
    "    print(data.info())\n",
    "    count=0\n",
    "    for element in data.columns:\n",
    "        if data[element].isna().sum() > 0:\n",
    "            print(element, data[element].isna().sum(), 'пропусков')\n",
    "            count=+1\n",
    "        if count==0:\n",
    "            print('Пропусков нет')\n",
    "                \n",
    "    if data.duplicated().sum() > 0:\n",
    "        print('Дубликатов: ', data.duplicated().sum())\n",
    "    else:\n",
    "        print ('Дубликатов нет')\n",
    "        "
   ]
  },
  {
   "cell_type": "code",
   "execution_count": 4,
   "id": "ae298888",
   "metadata": {},
   "outputs": [
    {
     "data": {
      "text/html": [
       "<div>\n",
       "<style scoped>\n",
       "    .dataframe tbody tr th:only-of-type {\n",
       "        vertical-align: middle;\n",
       "    }\n",
       "\n",
       "    .dataframe tbody tr th {\n",
       "        vertical-align: top;\n",
       "    }\n",
       "\n",
       "    .dataframe thead th {\n",
       "        text-align: right;\n",
       "    }\n",
       "</style>\n",
       "<table border=\"1\" class=\"dataframe\">\n",
       "  <thead>\n",
       "    <tr style=\"text-align: right;\">\n",
       "      <th></th>\n",
       "      <th>id</th>\n",
       "      <th>call_date</th>\n",
       "      <th>duration</th>\n",
       "      <th>user_id</th>\n",
       "    </tr>\n",
       "  </thead>\n",
       "  <tbody>\n",
       "    <tr>\n",
       "      <th>0</th>\n",
       "      <td>1000_0</td>\n",
       "      <td>2018-07-25</td>\n",
       "      <td>0.00</td>\n",
       "      <td>1000</td>\n",
       "    </tr>\n",
       "    <tr>\n",
       "      <th>1</th>\n",
       "      <td>1000_1</td>\n",
       "      <td>2018-08-17</td>\n",
       "      <td>0.00</td>\n",
       "      <td>1000</td>\n",
       "    </tr>\n",
       "    <tr>\n",
       "      <th>2</th>\n",
       "      <td>1000_2</td>\n",
       "      <td>2018-06-11</td>\n",
       "      <td>2.85</td>\n",
       "      <td>1000</td>\n",
       "    </tr>\n",
       "    <tr>\n",
       "      <th>3</th>\n",
       "      <td>1000_3</td>\n",
       "      <td>2018-09-21</td>\n",
       "      <td>13.80</td>\n",
       "      <td>1000</td>\n",
       "    </tr>\n",
       "    <tr>\n",
       "      <th>4</th>\n",
       "      <td>1000_4</td>\n",
       "      <td>2018-12-15</td>\n",
       "      <td>5.18</td>\n",
       "      <td>1000</td>\n",
       "    </tr>\n",
       "  </tbody>\n",
       "</table>\n",
       "</div>"
      ],
      "text/plain": [
       "       id   call_date  duration  user_id\n",
       "0  1000_0  2018-07-25      0.00     1000\n",
       "1  1000_1  2018-08-17      0.00     1000\n",
       "2  1000_2  2018-06-11      2.85     1000\n",
       "3  1000_3  2018-09-21     13.80     1000\n",
       "4  1000_4  2018-12-15      5.18     1000"
      ]
     },
     "metadata": {},
     "output_type": "display_data"
    },
    {
     "name": "stdout",
     "output_type": "stream",
     "text": [
      "<class 'pandas.core.frame.DataFrame'>\n",
      "RangeIndex: 202607 entries, 0 to 202606\n",
      "Data columns (total 4 columns):\n",
      " #   Column     Non-Null Count   Dtype  \n",
      "---  ------     --------------   -----  \n",
      " 0   id         202607 non-null  object \n",
      " 1   call_date  202607 non-null  object \n",
      " 2   duration   202607 non-null  float64\n",
      " 3   user_id    202607 non-null  int64  \n",
      "dtypes: float64(1), int64(1), object(2)\n",
      "memory usage: 6.2+ MB\n",
      "None\n",
      "Пропусков нет\n",
      "Пропусков нет\n",
      "Пропусков нет\n",
      "Пропусков нет\n",
      "Дубликатов нет\n"
     ]
    }
   ],
   "source": [
    "first_look(data_calls)"
   ]
  },
  {
   "cell_type": "code",
   "execution_count": 5,
   "id": "e48e8ef3",
   "metadata": {},
   "outputs": [
    {
     "data": {
      "text/html": [
       "<div>\n",
       "<style scoped>\n",
       "    .dataframe tbody tr th:only-of-type {\n",
       "        vertical-align: middle;\n",
       "    }\n",
       "\n",
       "    .dataframe tbody tr th {\n",
       "        vertical-align: top;\n",
       "    }\n",
       "\n",
       "    .dataframe thead th {\n",
       "        text-align: right;\n",
       "    }\n",
       "</style>\n",
       "<table border=\"1\" class=\"dataframe\">\n",
       "  <thead>\n",
       "    <tr style=\"text-align: right;\">\n",
       "      <th></th>\n",
       "      <th>Unnamed: 0</th>\n",
       "      <th>id</th>\n",
       "      <th>mb_used</th>\n",
       "      <th>session_date</th>\n",
       "      <th>user_id</th>\n",
       "    </tr>\n",
       "  </thead>\n",
       "  <tbody>\n",
       "    <tr>\n",
       "      <th>0</th>\n",
       "      <td>0</td>\n",
       "      <td>1000_0</td>\n",
       "      <td>112.95</td>\n",
       "      <td>2018-11-25</td>\n",
       "      <td>1000</td>\n",
       "    </tr>\n",
       "    <tr>\n",
       "      <th>1</th>\n",
       "      <td>1</td>\n",
       "      <td>1000_1</td>\n",
       "      <td>1052.81</td>\n",
       "      <td>2018-09-07</td>\n",
       "      <td>1000</td>\n",
       "    </tr>\n",
       "    <tr>\n",
       "      <th>2</th>\n",
       "      <td>2</td>\n",
       "      <td>1000_2</td>\n",
       "      <td>1197.26</td>\n",
       "      <td>2018-06-25</td>\n",
       "      <td>1000</td>\n",
       "    </tr>\n",
       "    <tr>\n",
       "      <th>3</th>\n",
       "      <td>3</td>\n",
       "      <td>1000_3</td>\n",
       "      <td>550.27</td>\n",
       "      <td>2018-08-22</td>\n",
       "      <td>1000</td>\n",
       "    </tr>\n",
       "    <tr>\n",
       "      <th>4</th>\n",
       "      <td>4</td>\n",
       "      <td>1000_4</td>\n",
       "      <td>302.56</td>\n",
       "      <td>2018-09-24</td>\n",
       "      <td>1000</td>\n",
       "    </tr>\n",
       "  </tbody>\n",
       "</table>\n",
       "</div>"
      ],
      "text/plain": [
       "   Unnamed: 0      id  mb_used session_date  user_id\n",
       "0           0  1000_0   112.95   2018-11-25     1000\n",
       "1           1  1000_1  1052.81   2018-09-07     1000\n",
       "2           2  1000_2  1197.26   2018-06-25     1000\n",
       "3           3  1000_3   550.27   2018-08-22     1000\n",
       "4           4  1000_4   302.56   2018-09-24     1000"
      ]
     },
     "metadata": {},
     "output_type": "display_data"
    },
    {
     "name": "stdout",
     "output_type": "stream",
     "text": [
      "<class 'pandas.core.frame.DataFrame'>\n",
      "RangeIndex: 149396 entries, 0 to 149395\n",
      "Data columns (total 5 columns):\n",
      " #   Column        Non-Null Count   Dtype  \n",
      "---  ------        --------------   -----  \n",
      " 0   Unnamed: 0    149396 non-null  int64  \n",
      " 1   id            149396 non-null  object \n",
      " 2   mb_used       149396 non-null  float64\n",
      " 3   session_date  149396 non-null  object \n",
      " 4   user_id       149396 non-null  int64  \n",
      "dtypes: float64(1), int64(2), object(2)\n",
      "memory usage: 5.7+ MB\n",
      "None\n",
      "Пропусков нет\n",
      "Пропусков нет\n",
      "Пропусков нет\n",
      "Пропусков нет\n",
      "Пропусков нет\n",
      "Дубликатов нет\n"
     ]
    }
   ],
   "source": [
    "first_look(data_internet)"
   ]
  },
  {
   "cell_type": "code",
   "execution_count": 6,
   "id": "8349db69",
   "metadata": {},
   "outputs": [
    {
     "data": {
      "text/html": [
       "<div>\n",
       "<style scoped>\n",
       "    .dataframe tbody tr th:only-of-type {\n",
       "        vertical-align: middle;\n",
       "    }\n",
       "\n",
       "    .dataframe tbody tr th {\n",
       "        vertical-align: top;\n",
       "    }\n",
       "\n",
       "    .dataframe thead th {\n",
       "        text-align: right;\n",
       "    }\n",
       "</style>\n",
       "<table border=\"1\" class=\"dataframe\">\n",
       "  <thead>\n",
       "    <tr style=\"text-align: right;\">\n",
       "      <th></th>\n",
       "      <th>id</th>\n",
       "      <th>message_date</th>\n",
       "      <th>user_id</th>\n",
       "    </tr>\n",
       "  </thead>\n",
       "  <tbody>\n",
       "    <tr>\n",
       "      <th>0</th>\n",
       "      <td>1000_0</td>\n",
       "      <td>2018-06-27</td>\n",
       "      <td>1000</td>\n",
       "    </tr>\n",
       "    <tr>\n",
       "      <th>1</th>\n",
       "      <td>1000_1</td>\n",
       "      <td>2018-10-08</td>\n",
       "      <td>1000</td>\n",
       "    </tr>\n",
       "    <tr>\n",
       "      <th>2</th>\n",
       "      <td>1000_2</td>\n",
       "      <td>2018-08-04</td>\n",
       "      <td>1000</td>\n",
       "    </tr>\n",
       "    <tr>\n",
       "      <th>3</th>\n",
       "      <td>1000_3</td>\n",
       "      <td>2018-06-16</td>\n",
       "      <td>1000</td>\n",
       "    </tr>\n",
       "    <tr>\n",
       "      <th>4</th>\n",
       "      <td>1000_4</td>\n",
       "      <td>2018-12-05</td>\n",
       "      <td>1000</td>\n",
       "    </tr>\n",
       "  </tbody>\n",
       "</table>\n",
       "</div>"
      ],
      "text/plain": [
       "       id message_date  user_id\n",
       "0  1000_0   2018-06-27     1000\n",
       "1  1000_1   2018-10-08     1000\n",
       "2  1000_2   2018-08-04     1000\n",
       "3  1000_3   2018-06-16     1000\n",
       "4  1000_4   2018-12-05     1000"
      ]
     },
     "metadata": {},
     "output_type": "display_data"
    },
    {
     "name": "stdout",
     "output_type": "stream",
     "text": [
      "<class 'pandas.core.frame.DataFrame'>\n",
      "RangeIndex: 123036 entries, 0 to 123035\n",
      "Data columns (total 3 columns):\n",
      " #   Column        Non-Null Count   Dtype \n",
      "---  ------        --------------   ----- \n",
      " 0   id            123036 non-null  object\n",
      " 1   message_date  123036 non-null  object\n",
      " 2   user_id       123036 non-null  int64 \n",
      "dtypes: int64(1), object(2)\n",
      "memory usage: 2.8+ MB\n",
      "None\n",
      "Пропусков нет\n",
      "Пропусков нет\n",
      "Пропусков нет\n",
      "Дубликатов нет\n"
     ]
    }
   ],
   "source": [
    "first_look(data_message)"
   ]
  },
  {
   "cell_type": "code",
   "execution_count": 7,
   "id": "2564d9d6",
   "metadata": {},
   "outputs": [
    {
     "data": {
      "text/html": [
       "<div>\n",
       "<style scoped>\n",
       "    .dataframe tbody tr th:only-of-type {\n",
       "        vertical-align: middle;\n",
       "    }\n",
       "\n",
       "    .dataframe tbody tr th {\n",
       "        vertical-align: top;\n",
       "    }\n",
       "\n",
       "    .dataframe thead th {\n",
       "        text-align: right;\n",
       "    }\n",
       "</style>\n",
       "<table border=\"1\" class=\"dataframe\">\n",
       "  <thead>\n",
       "    <tr style=\"text-align: right;\">\n",
       "      <th></th>\n",
       "      <th>messages_included</th>\n",
       "      <th>mb_per_month_included</th>\n",
       "      <th>minutes_included</th>\n",
       "      <th>rub_monthly_fee</th>\n",
       "      <th>rub_per_gb</th>\n",
       "      <th>rub_per_message</th>\n",
       "      <th>rub_per_minute</th>\n",
       "      <th>tariff_name</th>\n",
       "    </tr>\n",
       "  </thead>\n",
       "  <tbody>\n",
       "    <tr>\n",
       "      <th>0</th>\n",
       "      <td>50</td>\n",
       "      <td>15360</td>\n",
       "      <td>500</td>\n",
       "      <td>550</td>\n",
       "      <td>200</td>\n",
       "      <td>3</td>\n",
       "      <td>3</td>\n",
       "      <td>smart</td>\n",
       "    </tr>\n",
       "    <tr>\n",
       "      <th>1</th>\n",
       "      <td>1000</td>\n",
       "      <td>30720</td>\n",
       "      <td>3000</td>\n",
       "      <td>1950</td>\n",
       "      <td>150</td>\n",
       "      <td>1</td>\n",
       "      <td>1</td>\n",
       "      <td>ultra</td>\n",
       "    </tr>\n",
       "  </tbody>\n",
       "</table>\n",
       "</div>"
      ],
      "text/plain": [
       "   messages_included  mb_per_month_included  minutes_included  \\\n",
       "0                 50                  15360               500   \n",
       "1               1000                  30720              3000   \n",
       "\n",
       "   rub_monthly_fee  rub_per_gb  rub_per_message  rub_per_minute tariff_name  \n",
       "0              550         200                3               3       smart  \n",
       "1             1950         150                1               1       ultra  "
      ]
     },
     "metadata": {},
     "output_type": "display_data"
    },
    {
     "name": "stdout",
     "output_type": "stream",
     "text": [
      "<class 'pandas.core.frame.DataFrame'>\n",
      "RangeIndex: 2 entries, 0 to 1\n",
      "Data columns (total 8 columns):\n",
      " #   Column                 Non-Null Count  Dtype \n",
      "---  ------                 --------------  ----- \n",
      " 0   messages_included      2 non-null      int64 \n",
      " 1   mb_per_month_included  2 non-null      int64 \n",
      " 2   minutes_included       2 non-null      int64 \n",
      " 3   rub_monthly_fee        2 non-null      int64 \n",
      " 4   rub_per_gb             2 non-null      int64 \n",
      " 5   rub_per_message        2 non-null      int64 \n",
      " 6   rub_per_minute         2 non-null      int64 \n",
      " 7   tariff_name            2 non-null      object\n",
      "dtypes: int64(7), object(1)\n",
      "memory usage: 256.0+ bytes\n",
      "None\n",
      "Пропусков нет\n",
      "Пропусков нет\n",
      "Пропусков нет\n",
      "Пропусков нет\n",
      "Пропусков нет\n",
      "Пропусков нет\n",
      "Пропусков нет\n",
      "Пропусков нет\n",
      "Дубликатов нет\n"
     ]
    }
   ],
   "source": [
    "first_look(data_tariffs)"
   ]
  },
  {
   "cell_type": "code",
   "execution_count": 8,
   "id": "0eff89e1",
   "metadata": {},
   "outputs": [
    {
     "data": {
      "text/html": [
       "<div>\n",
       "<style scoped>\n",
       "    .dataframe tbody tr th:only-of-type {\n",
       "        vertical-align: middle;\n",
       "    }\n",
       "\n",
       "    .dataframe tbody tr th {\n",
       "        vertical-align: top;\n",
       "    }\n",
       "\n",
       "    .dataframe thead th {\n",
       "        text-align: right;\n",
       "    }\n",
       "</style>\n",
       "<table border=\"1\" class=\"dataframe\">\n",
       "  <thead>\n",
       "    <tr style=\"text-align: right;\">\n",
       "      <th></th>\n",
       "      <th>user_id</th>\n",
       "      <th>age</th>\n",
       "      <th>churn_date</th>\n",
       "      <th>city</th>\n",
       "      <th>first_name</th>\n",
       "      <th>last_name</th>\n",
       "      <th>reg_date</th>\n",
       "      <th>tariff</th>\n",
       "    </tr>\n",
       "  </thead>\n",
       "  <tbody>\n",
       "    <tr>\n",
       "      <th>0</th>\n",
       "      <td>1000</td>\n",
       "      <td>52</td>\n",
       "      <td>NaN</td>\n",
       "      <td>Краснодар</td>\n",
       "      <td>Рафаил</td>\n",
       "      <td>Верещагин</td>\n",
       "      <td>2018-05-25</td>\n",
       "      <td>ultra</td>\n",
       "    </tr>\n",
       "    <tr>\n",
       "      <th>1</th>\n",
       "      <td>1001</td>\n",
       "      <td>41</td>\n",
       "      <td>NaN</td>\n",
       "      <td>Москва</td>\n",
       "      <td>Иван</td>\n",
       "      <td>Ежов</td>\n",
       "      <td>2018-11-01</td>\n",
       "      <td>smart</td>\n",
       "    </tr>\n",
       "    <tr>\n",
       "      <th>2</th>\n",
       "      <td>1002</td>\n",
       "      <td>59</td>\n",
       "      <td>NaN</td>\n",
       "      <td>Стерлитамак</td>\n",
       "      <td>Евгений</td>\n",
       "      <td>Абрамович</td>\n",
       "      <td>2018-06-17</td>\n",
       "      <td>smart</td>\n",
       "    </tr>\n",
       "    <tr>\n",
       "      <th>3</th>\n",
       "      <td>1003</td>\n",
       "      <td>23</td>\n",
       "      <td>NaN</td>\n",
       "      <td>Москва</td>\n",
       "      <td>Белла</td>\n",
       "      <td>Белякова</td>\n",
       "      <td>2018-08-17</td>\n",
       "      <td>ultra</td>\n",
       "    </tr>\n",
       "    <tr>\n",
       "      <th>4</th>\n",
       "      <td>1004</td>\n",
       "      <td>68</td>\n",
       "      <td>NaN</td>\n",
       "      <td>Новокузнецк</td>\n",
       "      <td>Татьяна</td>\n",
       "      <td>Авдеенко</td>\n",
       "      <td>2018-05-14</td>\n",
       "      <td>ultra</td>\n",
       "    </tr>\n",
       "  </tbody>\n",
       "</table>\n",
       "</div>"
      ],
      "text/plain": [
       "   user_id  age churn_date         city first_name  last_name    reg_date  \\\n",
       "0     1000   52        NaN    Краснодар     Рафаил  Верещагин  2018-05-25   \n",
       "1     1001   41        NaN       Москва       Иван       Ежов  2018-11-01   \n",
       "2     1002   59        NaN  Стерлитамак    Евгений  Абрамович  2018-06-17   \n",
       "3     1003   23        NaN       Москва      Белла   Белякова  2018-08-17   \n",
       "4     1004   68        NaN  Новокузнецк    Татьяна   Авдеенко  2018-05-14   \n",
       "\n",
       "  tariff  \n",
       "0  ultra  \n",
       "1  smart  \n",
       "2  smart  \n",
       "3  ultra  \n",
       "4  ultra  "
      ]
     },
     "metadata": {},
     "output_type": "display_data"
    },
    {
     "name": "stdout",
     "output_type": "stream",
     "text": [
      "<class 'pandas.core.frame.DataFrame'>\n",
      "RangeIndex: 500 entries, 0 to 499\n",
      "Data columns (total 8 columns):\n",
      " #   Column      Non-Null Count  Dtype \n",
      "---  ------      --------------  ----- \n",
      " 0   user_id     500 non-null    int64 \n",
      " 1   age         500 non-null    int64 \n",
      " 2   churn_date  38 non-null     object\n",
      " 3   city        500 non-null    object\n",
      " 4   first_name  500 non-null    object\n",
      " 5   last_name   500 non-null    object\n",
      " 6   reg_date    500 non-null    object\n",
      " 7   tariff      500 non-null    object\n",
      "dtypes: int64(2), object(6)\n",
      "memory usage: 31.4+ KB\n",
      "None\n",
      "Пропусков нет\n",
      "Пропусков нет\n",
      "churn_date 462 пропусков\n",
      "Дубликатов нет\n"
     ]
    }
   ],
   "source": [
    "first_look(data_users)"
   ]
  },
  {
   "cell_type": "markdown",
   "id": "c43dcdcd",
   "metadata": {},
   "source": [
    "<div class=\"alert alert-info\">\n",
    "<b>ВЫВОД:</b>\n",
    "<br>По результатам изучения датасетов можно сделать следующие промежуточные выводы:\n",
    "    \n",
    "    \n",
    "   1.В данных датасетах отсутствуют пропуски и дубликаты, что упрощает нам предобработку данных.\n",
    "    \n",
    "    \n",
    "   2.Даты во всех датасетах имеют тип данных object, необходимо будет привести их к типу datetime64. \n",
    "    \n",
    "    \n",
    "   3.В описании тарифов трафик измеряется в гигабайтах, а в датасетах приводится другая размерность -мегабайт, необходимо будет привести мегабайты к гигабайтам.</div>\n"
   ]
  },
  {
   "cell_type": "markdown",
   "id": "40ebdd6f",
   "metadata": {},
   "source": [
    "## Предобработка данных\n",
    "\n",
    "Приведите данные к нужным типам;\n",
    "Найдите и исправьте ошибки в данных, если они есть.\n",
    "Поясните, какие ошибки вы нашли и как их исправили. В данных вы найдёте звонки с нулевой продолжительностью. Это не ошибка: нулями обозначены пропущенные звонки, поэтому их не нужно удалять.\n",
    "Посчитайте для каждого пользователя:\n",
    "количество сделанных звонков и израсходованных минут разговора по месяцам;\n",
    "количество отправленных сообщений по месяцам;\n",
    "объем израсходованного интернет-трафика по месяцам;\n",
    "помесячную выручку с каждого пользователя (вычтите бесплатный лимит из суммарного количества звонков, сообщений и интернет-трафика; остаток умножьте на значение из тарифного плана; прибавьте абонентскую плату, соответствующую тарифному плану).\n"
   ]
  },
  {
   "cell_type": "markdown",
   "id": "90f5e3b9",
   "metadata": {},
   "source": [
    "### Звонки"
   ]
  },
  {
   "cell_type": "code",
   "execution_count": 9,
   "id": "ee69d9b0",
   "metadata": {},
   "outputs": [
    {
     "data": {
      "text/html": [
       "<div>\n",
       "<style scoped>\n",
       "    .dataframe tbody tr th:only-of-type {\n",
       "        vertical-align: middle;\n",
       "    }\n",
       "\n",
       "    .dataframe tbody tr th {\n",
       "        vertical-align: top;\n",
       "    }\n",
       "\n",
       "    .dataframe thead th {\n",
       "        text-align: right;\n",
       "    }\n",
       "</style>\n",
       "<table border=\"1\" class=\"dataframe\">\n",
       "  <thead>\n",
       "    <tr style=\"text-align: right;\">\n",
       "      <th></th>\n",
       "      <th>id</th>\n",
       "      <th>call_date</th>\n",
       "      <th>duration</th>\n",
       "      <th>user_id</th>\n",
       "      <th>month_num</th>\n",
       "      <th>month</th>\n",
       "    </tr>\n",
       "  </thead>\n",
       "  <tbody>\n",
       "    <tr>\n",
       "      <th>0</th>\n",
       "      <td>1000_0</td>\n",
       "      <td>2018-07-25</td>\n",
       "      <td>0</td>\n",
       "      <td>1000</td>\n",
       "      <td>7</td>\n",
       "      <td>2018-07-01</td>\n",
       "    </tr>\n",
       "    <tr>\n",
       "      <th>1</th>\n",
       "      <td>1000_1</td>\n",
       "      <td>2018-08-17</td>\n",
       "      <td>0</td>\n",
       "      <td>1000</td>\n",
       "      <td>8</td>\n",
       "      <td>2018-08-01</td>\n",
       "    </tr>\n",
       "    <tr>\n",
       "      <th>2</th>\n",
       "      <td>1000_2</td>\n",
       "      <td>2018-06-11</td>\n",
       "      <td>3</td>\n",
       "      <td>1000</td>\n",
       "      <td>6</td>\n",
       "      <td>2018-06-01</td>\n",
       "    </tr>\n",
       "    <tr>\n",
       "      <th>3</th>\n",
       "      <td>1000_3</td>\n",
       "      <td>2018-09-21</td>\n",
       "      <td>14</td>\n",
       "      <td>1000</td>\n",
       "      <td>9</td>\n",
       "      <td>2018-09-01</td>\n",
       "    </tr>\n",
       "    <tr>\n",
       "      <th>4</th>\n",
       "      <td>1000_4</td>\n",
       "      <td>2018-12-15</td>\n",
       "      <td>6</td>\n",
       "      <td>1000</td>\n",
       "      <td>12</td>\n",
       "      <td>2018-12-01</td>\n",
       "    </tr>\n",
       "  </tbody>\n",
       "</table>\n",
       "</div>"
      ],
      "text/plain": [
       "       id  call_date  duration  user_id  month_num      month\n",
       "0  1000_0 2018-07-25         0     1000          7 2018-07-01\n",
       "1  1000_1 2018-08-17         0     1000          8 2018-08-01\n",
       "2  1000_2 2018-06-11         3     1000          6 2018-06-01\n",
       "3  1000_3 2018-09-21        14     1000          9 2018-09-01\n",
       "4  1000_4 2018-12-15         6     1000         12 2018-12-01"
      ]
     },
     "execution_count": 9,
     "metadata": {},
     "output_type": "execute_result"
    }
   ],
   "source": [
    "#работаем с таблицей data_calls\n",
    "#перевод даты из объектного типа в тип datetime64\n",
    "\n",
    "data_calls['call_date'] = pd.to_datetime(data_calls['call_date'], format='%Y-%m-%d')\n",
    "\n",
    "#добавляем столбец с категорией месяца (нумерация 1-12)\n",
    "data_calls['month_num'] = pd.DatetimeIndex(data_calls['call_date']).month\n",
    "\n",
    "#добавляем столбец с началом календарного месяца\n",
    "data_calls['month']=data_calls['call_date'].astype('datetime64[M]')\n",
    "\n",
    "#округляем длительность звонков и меняем тип данных на целочисленный\n",
    "\n",
    "data_calls['duration'] = np.ceil(data_calls['duration']).astype('int')\n",
    "\n",
    "data_calls.head()\n"
   ]
  },
  {
   "cell_type": "markdown",
   "id": "3890278b",
   "metadata": {},
   "source": [
    "Посмотрим распределение длительности звонков с помощью гистограммы"
   ]
  },
  {
   "cell_type": "code",
   "execution_count": 10,
   "id": "61d4a89a",
   "metadata": {},
   "outputs": [
    {
     "data": {
      "text/plain": [
       "(array([4.8015e+04, 9.1940e+03, 1.0362e+04, 2.2329e+04, 1.1457e+04,\n",
       "        1.1510e+04, 1.1272e+04, 2.1159e+04, 9.3850e+03, 8.4480e+03,\n",
       "        7.4860e+03, 1.2059e+04, 4.5510e+03, 3.6710e+03, 2.9840e+03,\n",
       "        4.2170e+03, 1.3040e+03, 9.7500e+02, 1.1880e+03, 3.6300e+02,\n",
       "        2.5700e+02, 1.5100e+02, 1.6000e+02, 3.9000e+01, 3.0000e+01,\n",
       "        1.7000e+01, 1.3000e+01, 5.0000e+00, 2.0000e+00, 4.0000e+00]),\n",
       " array([ 0.        ,  1.26666667,  2.53333333,  3.8       ,  5.06666667,\n",
       "         6.33333333,  7.6       ,  8.86666667, 10.13333333, 11.4       ,\n",
       "        12.66666667, 13.93333333, 15.2       , 16.46666667, 17.73333333,\n",
       "        19.        , 20.26666667, 21.53333333, 22.8       , 24.06666667,\n",
       "        25.33333333, 26.6       , 27.86666667, 29.13333333, 30.4       ,\n",
       "        31.66666667, 32.93333333, 34.2       , 35.46666667, 36.73333333,\n",
       "        38.        ]),\n",
       " <BarContainer object of 30 artists>)"
      ]
     },
     "execution_count": 10,
     "metadata": {},
     "output_type": "execute_result"
    },
    {
     "data": {
      "image/png": "[encoded data removed]",
      "text/plain": [
       "<Figure size 432x288 with 1 Axes>"
      ]
     },
     "metadata": {
      "needs_background": "light"
     },
     "output_type": "display_data"
    }
   ],
   "source": [
    "plt.hist(data_calls['duration'], bins=30, alpha=0.8);"
   ]
  },
  {
   "cell_type": "markdown",
   "id": "37fea7e6",
   "metadata": {},
   "source": [
    "### Сообщения"
   ]
  },
  {
   "cell_type": "code",
   "execution_count": 11,
   "id": "ca22d86e",
   "metadata": {},
   "outputs": [
    {
     "data": {
      "text/html": [
       "<div>\n",
       "<style scoped>\n",
       "    .dataframe tbody tr th:only-of-type {\n",
       "        vertical-align: middle;\n",
       "    }\n",
       "\n",
       "    .dataframe tbody tr th {\n",
       "        vertical-align: top;\n",
       "    }\n",
       "\n",
       "    .dataframe thead th {\n",
       "        text-align: right;\n",
       "    }\n",
       "</style>\n",
       "<table border=\"1\" class=\"dataframe\">\n",
       "  <thead>\n",
       "    <tr style=\"text-align: right;\">\n",
       "      <th></th>\n",
       "      <th>id</th>\n",
       "      <th>message_date</th>\n",
       "      <th>user_id</th>\n",
       "      <th>month_num</th>\n",
       "      <th>month</th>\n",
       "    </tr>\n",
       "  </thead>\n",
       "  <tbody>\n",
       "    <tr>\n",
       "      <th>0</th>\n",
       "      <td>1000_0</td>\n",
       "      <td>2018-06-27</td>\n",
       "      <td>1000</td>\n",
       "      <td>6</td>\n",
       "      <td>2018-06-01</td>\n",
       "    </tr>\n",
       "    <tr>\n",
       "      <th>1</th>\n",
       "      <td>1000_1</td>\n",
       "      <td>2018-10-08</td>\n",
       "      <td>1000</td>\n",
       "      <td>10</td>\n",
       "      <td>2018-10-01</td>\n",
       "    </tr>\n",
       "    <tr>\n",
       "      <th>2</th>\n",
       "      <td>1000_2</td>\n",
       "      <td>2018-08-04</td>\n",
       "      <td>1000</td>\n",
       "      <td>8</td>\n",
       "      <td>2018-08-01</td>\n",
       "    </tr>\n",
       "    <tr>\n",
       "      <th>3</th>\n",
       "      <td>1000_3</td>\n",
       "      <td>2018-06-16</td>\n",
       "      <td>1000</td>\n",
       "      <td>6</td>\n",
       "      <td>2018-06-01</td>\n",
       "    </tr>\n",
       "    <tr>\n",
       "      <th>4</th>\n",
       "      <td>1000_4</td>\n",
       "      <td>2018-12-05</td>\n",
       "      <td>1000</td>\n",
       "      <td>12</td>\n",
       "      <td>2018-12-01</td>\n",
       "    </tr>\n",
       "  </tbody>\n",
       "</table>\n",
       "</div>"
      ],
      "text/plain": [
       "       id message_date  user_id  month_num      month\n",
       "0  1000_0   2018-06-27     1000          6 2018-06-01\n",
       "1  1000_1   2018-10-08     1000         10 2018-10-01\n",
       "2  1000_2   2018-08-04     1000          8 2018-08-01\n",
       "3  1000_3   2018-06-16     1000          6 2018-06-01\n",
       "4  1000_4   2018-12-05     1000         12 2018-12-01"
      ]
     },
     "execution_count": 11,
     "metadata": {},
     "output_type": "execute_result"
    }
   ],
   "source": [
    "#Работаем с таблицей data_message\n",
    "#перевод даты из объектного типа в тип datetime64\n",
    "\n",
    "data_message['message_date'] = pd.to_datetime(data_message['message_date'], format='%Y-%m-%d')\n",
    "\n",
    "#добавляем столбец с категорией месяца (нумерация 1-12)\n",
    "data_message['month_num'] = pd.DatetimeIndex(data_message['message_date']).month\n",
    "\n",
    "#добавляем столбец с началом календарного месяца\n",
    "data_message['month']=data_message['message_date'].astype('datetime64[M]')\n",
    "\n",
    "data_message.head()\n"
   ]
  },
  {
   "cell_type": "markdown",
   "id": "ce25b1bf",
   "metadata": {},
   "source": [
    "### Интернет-трафик"
   ]
  },
  {
   "cell_type": "code",
   "execution_count": 13,
   "id": "63c44277",
   "metadata": {},
   "outputs": [
    {
     "data": {
      "text/html": [
       "<div>\n",
       "<style scoped>\n",
       "    .dataframe tbody tr th:only-of-type {\n",
       "        vertical-align: middle;\n",
       "    }\n",
       "\n",
       "    .dataframe tbody tr th {\n",
       "        vertical-align: top;\n",
       "    }\n",
       "\n",
       "    .dataframe thead th {\n",
       "        text-align: right;\n",
       "    }\n",
       "</style>\n",
       "<table border=\"1\" class=\"dataframe\">\n",
       "  <thead>\n",
       "    <tr style=\"text-align: right;\">\n",
       "      <th></th>\n",
       "      <th>Unnamed: 0</th>\n",
       "      <th>id</th>\n",
       "      <th>mb_used</th>\n",
       "      <th>session_date</th>\n",
       "      <th>user_id</th>\n",
       "    </tr>\n",
       "  </thead>\n",
       "  <tbody>\n",
       "    <tr>\n",
       "      <th>0</th>\n",
       "      <td>0</td>\n",
       "      <td>1000_0</td>\n",
       "      <td>112.95</td>\n",
       "      <td>2018-11-25</td>\n",
       "      <td>1000</td>\n",
       "    </tr>\n",
       "    <tr>\n",
       "      <th>1</th>\n",
       "      <td>1</td>\n",
       "      <td>1000_1</td>\n",
       "      <td>1052.81</td>\n",
       "      <td>2018-09-07</td>\n",
       "      <td>1000</td>\n",
       "    </tr>\n",
       "    <tr>\n",
       "      <th>2</th>\n",
       "      <td>2</td>\n",
       "      <td>1000_2</td>\n",
       "      <td>1197.26</td>\n",
       "      <td>2018-06-25</td>\n",
       "      <td>1000</td>\n",
       "    </tr>\n",
       "    <tr>\n",
       "      <th>3</th>\n",
       "      <td>3</td>\n",
       "      <td>1000_3</td>\n",
       "      <td>550.27</td>\n",
       "      <td>2018-08-22</td>\n",
       "      <td>1000</td>\n",
       "    </tr>\n",
       "    <tr>\n",
       "      <th>4</th>\n",
       "      <td>4</td>\n",
       "      <td>1000_4</td>\n",
       "      <td>302.56</td>\n",
       "      <td>2018-09-24</td>\n",
       "      <td>1000</td>\n",
       "    </tr>\n",
       "  </tbody>\n",
       "</table>\n",
       "</div>"
      ],
      "text/plain": [
       "   Unnamed: 0      id  mb_used session_date  user_id\n",
       "0           0  1000_0   112.95   2018-11-25     1000\n",
       "1           1  1000_1  1052.81   2018-09-07     1000\n",
       "2           2  1000_2  1197.26   2018-06-25     1000\n",
       "3           3  1000_3   550.27   2018-08-22     1000\n",
       "4           4  1000_4   302.56   2018-09-24     1000"
      ]
     },
     "metadata": {},
     "output_type": "display_data"
    },
    {
     "data": {
      "text/html": [
       "<div>\n",
       "<style scoped>\n",
       "    .dataframe tbody tr th:only-of-type {\n",
       "        vertical-align: middle;\n",
       "    }\n",
       "\n",
       "    .dataframe tbody tr th {\n",
       "        vertical-align: top;\n",
       "    }\n",
       "\n",
       "    .dataframe thead th {\n",
       "        text-align: right;\n",
       "    }\n",
       "</style>\n",
       "<table border=\"1\" class=\"dataframe\">\n",
       "  <thead>\n",
       "    <tr style=\"text-align: right;\">\n",
       "      <th></th>\n",
       "      <th>Unnamed: 0</th>\n",
       "      <th>id</th>\n",
       "      <th>mb_used</th>\n",
       "      <th>session_date</th>\n",
       "      <th>user_id</th>\n",
       "      <th>month_num</th>\n",
       "      <th>month</th>\n",
       "    </tr>\n",
       "  </thead>\n",
       "  <tbody>\n",
       "    <tr>\n",
       "      <th>0</th>\n",
       "      <td>0</td>\n",
       "      <td>1000_0</td>\n",
       "      <td>112.95</td>\n",
       "      <td>2018-11-25</td>\n",
       "      <td>1000</td>\n",
       "      <td>11</td>\n",
       "      <td>2018-11-01</td>\n",
       "    </tr>\n",
       "    <tr>\n",
       "      <th>1</th>\n",
       "      <td>1</td>\n",
       "      <td>1000_1</td>\n",
       "      <td>1052.81</td>\n",
       "      <td>2018-09-07</td>\n",
       "      <td>1000</td>\n",
       "      <td>9</td>\n",
       "      <td>2018-09-01</td>\n",
       "    </tr>\n",
       "    <tr>\n",
       "      <th>2</th>\n",
       "      <td>2</td>\n",
       "      <td>1000_2</td>\n",
       "      <td>1197.26</td>\n",
       "      <td>2018-06-25</td>\n",
       "      <td>1000</td>\n",
       "      <td>6</td>\n",
       "      <td>2018-06-01</td>\n",
       "    </tr>\n",
       "    <tr>\n",
       "      <th>3</th>\n",
       "      <td>3</td>\n",
       "      <td>1000_3</td>\n",
       "      <td>550.27</td>\n",
       "      <td>2018-08-22</td>\n",
       "      <td>1000</td>\n",
       "      <td>8</td>\n",
       "      <td>2018-08-01</td>\n",
       "    </tr>\n",
       "    <tr>\n",
       "      <th>4</th>\n",
       "      <td>4</td>\n",
       "      <td>1000_4</td>\n",
       "      <td>302.56</td>\n",
       "      <td>2018-09-24</td>\n",
       "      <td>1000</td>\n",
       "      <td>9</td>\n",
       "      <td>2018-09-01</td>\n",
       "    </tr>\n",
       "  </tbody>\n",
       "</table>\n",
       "</div>"
      ],
      "text/plain": [
       "   Unnamed: 0      id  mb_used session_date  user_id  month_num      month\n",
       "0           0  1000_0   112.95   2018-11-25     1000         11 2018-11-01\n",
       "1           1  1000_1  1052.81   2018-09-07     1000          9 2018-09-01\n",
       "2           2  1000_2  1197.26   2018-06-25     1000          6 2018-06-01\n",
       "3           3  1000_3   550.27   2018-08-22     1000          8 2018-08-01\n",
       "4           4  1000_4   302.56   2018-09-24     1000          9 2018-09-01"
      ]
     },
     "execution_count": 13,
     "metadata": {},
     "output_type": "execute_result"
    }
   ],
   "source": [
    "#Работаем с таблицей data_internet\n",
    "display(data_internet.head())\n",
    "#перевод даты из объектного типа в тип datetime64\n",
    "\n",
    "data_internet['session_date'] = pd.to_datetime(data_internet['session_date'], format='%Y-%m-%d')\n",
    "\n",
    "#добавляем столбец с категорией месяца (нумерация 1-12)\n",
    "data_internet['month_num'] = pd.DatetimeIndex(data_internet['session_date']).month\n",
    "\n",
    "#добавляем столбец с началом календарного месяца\n",
    "data_internet['month']=data_internet['session_date'].astype('datetime64[M]')\n",
    "\n",
    "#переводим использованный трафик с МБ на ГБ, название столбца пока оставим \n",
    "#data_internet['mb_used'] = (data_internet['mb_used']/1024+0.5).astype('int')\n",
    "\n",
    "data_internet.head()\n"
   ]
  },
  {
   "cell_type": "code",
   "execution_count": 15,
   "id": "7cdb7143",
   "metadata": {},
   "outputs": [
    {
     "data": {
      "text/html": [
       "<div>\n",
       "<style scoped>\n",
       "    .dataframe tbody tr th:only-of-type {\n",
       "        vertical-align: middle;\n",
       "    }\n",
       "\n",
       "    .dataframe tbody tr th {\n",
       "        vertical-align: top;\n",
       "    }\n",
       "\n",
       "    .dataframe thead th {\n",
       "        text-align: right;\n",
       "    }\n",
       "</style>\n",
       "<table border=\"1\" class=\"dataframe\">\n",
       "  <thead>\n",
       "    <tr style=\"text-align: right;\">\n",
       "      <th></th>\n",
       "      <th>messages_included</th>\n",
       "      <th>mb_per_month_included</th>\n",
       "      <th>minutes_included</th>\n",
       "      <th>rub_monthly_fee</th>\n",
       "      <th>rub_per_gb</th>\n",
       "      <th>rub_per_message</th>\n",
       "      <th>rub_per_minute</th>\n",
       "      <th>tariff</th>\n",
       "    </tr>\n",
       "  </thead>\n",
       "  <tbody>\n",
       "    <tr>\n",
       "      <th>0</th>\n",
       "      <td>50</td>\n",
       "      <td>15360</td>\n",
       "      <td>500</td>\n",
       "      <td>550</td>\n",
       "      <td>200</td>\n",
       "      <td>3</td>\n",
       "      <td>3</td>\n",
       "      <td>smart</td>\n",
       "    </tr>\n",
       "    <tr>\n",
       "      <th>1</th>\n",
       "      <td>1000</td>\n",
       "      <td>30720</td>\n",
       "      <td>3000</td>\n",
       "      <td>1950</td>\n",
       "      <td>150</td>\n",
       "      <td>1</td>\n",
       "      <td>1</td>\n",
       "      <td>ultra</td>\n",
       "    </tr>\n",
       "  </tbody>\n",
       "</table>\n",
       "</div>"
      ],
      "text/plain": [
       "   messages_included  mb_per_month_included  minutes_included  \\\n",
       "0                 50                  15360               500   \n",
       "1               1000                  30720              3000   \n",
       "\n",
       "   rub_monthly_fee  rub_per_gb  rub_per_message  rub_per_minute tariff  \n",
       "0              550         200                3               3  smart  \n",
       "1             1950         150                1               1  ultra  "
      ]
     },
     "execution_count": 15,
     "metadata": {},
     "output_type": "execute_result"
    }
   ],
   "source": [
    "#добавим столбец tariff для последующего объединения таблиц\n",
    "\n",
    "data_tariffs = data_tariffs.rename(columns = {'tariff_name' : 'tariff'})\n",
    "data_tariffs.head()"
   ]
  },
  {
   "cell_type": "markdown",
   "id": "9910edca",
   "metadata": {},
   "source": [
    "<div class=\"alert alert-info\">\n",
    "<b>ВЫВОД:</b>\n",
    "<br>В этом разделе мы делали преобразование данных во всех датасетах (звонки, сообщения, траффик) и подготовили данные к дальнейшим расчетам.\n",
    "    \n"
   ]
  },
  {
   "cell_type": "markdown",
   "id": "dfff7758",
   "metadata": {},
   "source": [
    "## Расчеты агрегированных данных"
   ]
  },
  {
   "cell_type": "code",
   "execution_count": 16,
   "id": "47ffa38e",
   "metadata": {},
   "outputs": [
    {
     "data": {
      "text/html": [
       "<div>\n",
       "<style scoped>\n",
       "    .dataframe tbody tr th:only-of-type {\n",
       "        vertical-align: middle;\n",
       "    }\n",
       "\n",
       "    .dataframe tbody tr th {\n",
       "        vertical-align: top;\n",
       "    }\n",
       "\n",
       "    .dataframe thead th {\n",
       "        text-align: right;\n",
       "    }\n",
       "</style>\n",
       "<table border=\"1\" class=\"dataframe\">\n",
       "  <thead>\n",
       "    <tr style=\"text-align: right;\">\n",
       "      <th></th>\n",
       "      <th>user_id</th>\n",
       "      <th>month</th>\n",
       "      <th>calls_duration</th>\n",
       "      <th>calls_number</th>\n",
       "    </tr>\n",
       "  </thead>\n",
       "  <tbody>\n",
       "    <tr>\n",
       "      <th>0</th>\n",
       "      <td>1000</td>\n",
       "      <td>2018-05-01</td>\n",
       "      <td>159</td>\n",
       "      <td>22</td>\n",
       "    </tr>\n",
       "    <tr>\n",
       "      <th>1</th>\n",
       "      <td>1000</td>\n",
       "      <td>2018-06-01</td>\n",
       "      <td>172</td>\n",
       "      <td>43</td>\n",
       "    </tr>\n",
       "    <tr>\n",
       "      <th>2</th>\n",
       "      <td>1000</td>\n",
       "      <td>2018-07-01</td>\n",
       "      <td>340</td>\n",
       "      <td>47</td>\n",
       "    </tr>\n",
       "    <tr>\n",
       "      <th>3</th>\n",
       "      <td>1000</td>\n",
       "      <td>2018-08-01</td>\n",
       "      <td>408</td>\n",
       "      <td>52</td>\n",
       "    </tr>\n",
       "    <tr>\n",
       "      <th>4</th>\n",
       "      <td>1000</td>\n",
       "      <td>2018-09-01</td>\n",
       "      <td>466</td>\n",
       "      <td>58</td>\n",
       "    </tr>\n",
       "    <tr>\n",
       "      <th>5</th>\n",
       "      <td>1000</td>\n",
       "      <td>2018-10-01</td>\n",
       "      <td>350</td>\n",
       "      <td>57</td>\n",
       "    </tr>\n",
       "    <tr>\n",
       "      <th>6</th>\n",
       "      <td>1000</td>\n",
       "      <td>2018-11-01</td>\n",
       "      <td>338</td>\n",
       "      <td>43</td>\n",
       "    </tr>\n",
       "    <tr>\n",
       "      <th>7</th>\n",
       "      <td>1000</td>\n",
       "      <td>2018-12-01</td>\n",
       "      <td>333</td>\n",
       "      <td>46</td>\n",
       "    </tr>\n",
       "    <tr>\n",
       "      <th>8</th>\n",
       "      <td>1001</td>\n",
       "      <td>2018-11-01</td>\n",
       "      <td>430</td>\n",
       "      <td>59</td>\n",
       "    </tr>\n",
       "    <tr>\n",
       "      <th>9</th>\n",
       "      <td>1001</td>\n",
       "      <td>2018-12-01</td>\n",
       "      <td>414</td>\n",
       "      <td>63</td>\n",
       "    </tr>\n",
       "  </tbody>\n",
       "</table>\n",
       "</div>"
      ],
      "text/plain": [
       "   user_id      month  calls_duration  calls_number\n",
       "0     1000 2018-05-01             159            22\n",
       "1     1000 2018-06-01             172            43\n",
       "2     1000 2018-07-01             340            47\n",
       "3     1000 2018-08-01             408            52\n",
       "4     1000 2018-09-01             466            58\n",
       "5     1000 2018-10-01             350            57\n",
       "6     1000 2018-11-01             338            43\n",
       "7     1000 2018-12-01             333            46\n",
       "8     1001 2018-11-01             430            59\n",
       "9     1001 2018-12-01             414            63"
      ]
     },
     "execution_count": 16,
     "metadata": {},
     "output_type": "execute_result"
    }
   ],
   "source": [
    "calls = data_calls.groupby(['user_id','month']).agg(\n",
    "    calls_duration = pd.NamedAgg(column = 'duration', aggfunc ='sum'),\n",
    "    calls_number = ('id', 'count'),\n",
    ").reset_index()\n",
    "calls.head(10)"
   ]
  },
  {
   "cell_type": "code",
   "execution_count": 17,
   "id": "cac1f215",
   "metadata": {},
   "outputs": [
    {
     "data": {
      "text/html": [
       "<div>\n",
       "<style scoped>\n",
       "    .dataframe tbody tr th:only-of-type {\n",
       "        vertical-align: middle;\n",
       "    }\n",
       "\n",
       "    .dataframe tbody tr th {\n",
       "        vertical-align: top;\n",
       "    }\n",
       "\n",
       "    .dataframe thead th {\n",
       "        text-align: right;\n",
       "    }\n",
       "</style>\n",
       "<table border=\"1\" class=\"dataframe\">\n",
       "  <thead>\n",
       "    <tr style=\"text-align: right;\">\n",
       "      <th></th>\n",
       "      <th>user_id</th>\n",
       "      <th>month</th>\n",
       "      <th>msgs_number</th>\n",
       "    </tr>\n",
       "  </thead>\n",
       "  <tbody>\n",
       "    <tr>\n",
       "      <th>0</th>\n",
       "      <td>1000</td>\n",
       "      <td>2018-05-01</td>\n",
       "      <td>22</td>\n",
       "    </tr>\n",
       "    <tr>\n",
       "      <th>1</th>\n",
       "      <td>1000</td>\n",
       "      <td>2018-06-01</td>\n",
       "      <td>60</td>\n",
       "    </tr>\n",
       "    <tr>\n",
       "      <th>2</th>\n",
       "      <td>1000</td>\n",
       "      <td>2018-07-01</td>\n",
       "      <td>75</td>\n",
       "    </tr>\n",
       "    <tr>\n",
       "      <th>3</th>\n",
       "      <td>1000</td>\n",
       "      <td>2018-08-01</td>\n",
       "      <td>81</td>\n",
       "    </tr>\n",
       "    <tr>\n",
       "      <th>4</th>\n",
       "      <td>1000</td>\n",
       "      <td>2018-09-01</td>\n",
       "      <td>57</td>\n",
       "    </tr>\n",
       "    <tr>\n",
       "      <th>5</th>\n",
       "      <td>1000</td>\n",
       "      <td>2018-10-01</td>\n",
       "      <td>73</td>\n",
       "    </tr>\n",
       "    <tr>\n",
       "      <th>6</th>\n",
       "      <td>1000</td>\n",
       "      <td>2018-11-01</td>\n",
       "      <td>58</td>\n",
       "    </tr>\n",
       "    <tr>\n",
       "      <th>7</th>\n",
       "      <td>1000</td>\n",
       "      <td>2018-12-01</td>\n",
       "      <td>70</td>\n",
       "    </tr>\n",
       "    <tr>\n",
       "      <th>8</th>\n",
       "      <td>1002</td>\n",
       "      <td>2018-06-01</td>\n",
       "      <td>4</td>\n",
       "    </tr>\n",
       "    <tr>\n",
       "      <th>9</th>\n",
       "      <td>1002</td>\n",
       "      <td>2018-07-01</td>\n",
       "      <td>11</td>\n",
       "    </tr>\n",
       "  </tbody>\n",
       "</table>\n",
       "</div>"
      ],
      "text/plain": [
       "   user_id      month  msgs_number\n",
       "0     1000 2018-05-01           22\n",
       "1     1000 2018-06-01           60\n",
       "2     1000 2018-07-01           75\n",
       "3     1000 2018-08-01           81\n",
       "4     1000 2018-09-01           57\n",
       "5     1000 2018-10-01           73\n",
       "6     1000 2018-11-01           58\n",
       "7     1000 2018-12-01           70\n",
       "8     1002 2018-06-01            4\n",
       "9     1002 2018-07-01           11"
      ]
     },
     "execution_count": 17,
     "metadata": {},
     "output_type": "execute_result"
    }
   ],
   "source": [
    "messages = data_message.groupby(['user_id','month']).agg(\n",
    "    msgs_number = pd.NamedAgg(column = 'id', aggfunc ='count'),\n",
    "    ).reset_index()\n",
    "messages.head(10)"
   ]
  },
  {
   "cell_type": "code",
   "execution_count": 18,
   "id": "91257ae7",
   "metadata": {},
   "outputs": [
    {
     "data": {
      "text/html": [
       "<div>\n",
       "<style scoped>\n",
       "    .dataframe tbody tr th:only-of-type {\n",
       "        vertical-align: middle;\n",
       "    }\n",
       "\n",
       "    .dataframe tbody tr th {\n",
       "        vertical-align: top;\n",
       "    }\n",
       "\n",
       "    .dataframe thead th {\n",
       "        text-align: right;\n",
       "    }\n",
       "</style>\n",
       "<table border=\"1\" class=\"dataframe\">\n",
       "  <thead>\n",
       "    <tr style=\"text-align: right;\">\n",
       "      <th></th>\n",
       "      <th>user_id</th>\n",
       "      <th>month</th>\n",
       "      <th>traffic</th>\n",
       "    </tr>\n",
       "  </thead>\n",
       "  <tbody>\n",
       "    <tr>\n",
       "      <th>0</th>\n",
       "      <td>1000</td>\n",
       "      <td>2018-05-01</td>\n",
       "      <td>2253.49</td>\n",
       "    </tr>\n",
       "    <tr>\n",
       "      <th>1</th>\n",
       "      <td>1000</td>\n",
       "      <td>2018-06-01</td>\n",
       "      <td>23233.77</td>\n",
       "    </tr>\n",
       "    <tr>\n",
       "      <th>2</th>\n",
       "      <td>1000</td>\n",
       "      <td>2018-07-01</td>\n",
       "      <td>14003.64</td>\n",
       "    </tr>\n",
       "    <tr>\n",
       "      <th>3</th>\n",
       "      <td>1000</td>\n",
       "      <td>2018-08-01</td>\n",
       "      <td>14055.93</td>\n",
       "    </tr>\n",
       "    <tr>\n",
       "      <th>4</th>\n",
       "      <td>1000</td>\n",
       "      <td>2018-09-01</td>\n",
       "      <td>14568.91</td>\n",
       "    </tr>\n",
       "    <tr>\n",
       "      <th>5</th>\n",
       "      <td>1000</td>\n",
       "      <td>2018-10-01</td>\n",
       "      <td>14702.49</td>\n",
       "    </tr>\n",
       "    <tr>\n",
       "      <th>6</th>\n",
       "      <td>1000</td>\n",
       "      <td>2018-11-01</td>\n",
       "      <td>14756.47</td>\n",
       "    </tr>\n",
       "    <tr>\n",
       "      <th>7</th>\n",
       "      <td>1000</td>\n",
       "      <td>2018-12-01</td>\n",
       "      <td>9817.61</td>\n",
       "    </tr>\n",
       "    <tr>\n",
       "      <th>8</th>\n",
       "      <td>1001</td>\n",
       "      <td>2018-11-01</td>\n",
       "      <td>18429.34</td>\n",
       "    </tr>\n",
       "    <tr>\n",
       "      <th>9</th>\n",
       "      <td>1001</td>\n",
       "      <td>2018-12-01</td>\n",
       "      <td>14036.66</td>\n",
       "    </tr>\n",
       "  </tbody>\n",
       "</table>\n",
       "</div>"
      ],
      "text/plain": [
       "   user_id      month   traffic\n",
       "0     1000 2018-05-01   2253.49\n",
       "1     1000 2018-06-01  23233.77\n",
       "2     1000 2018-07-01  14003.64\n",
       "3     1000 2018-08-01  14055.93\n",
       "4     1000 2018-09-01  14568.91\n",
       "5     1000 2018-10-01  14702.49\n",
       "6     1000 2018-11-01  14756.47\n",
       "7     1000 2018-12-01   9817.61\n",
       "8     1001 2018-11-01  18429.34\n",
       "9     1001 2018-12-01  14036.66"
      ]
     },
     "execution_count": 18,
     "metadata": {},
     "output_type": "execute_result"
    }
   ],
   "source": [
    "traffic = data_internet.groupby(['user_id','month']).agg(\n",
    "    traffic = pd.NamedAgg(column = 'mb_used', aggfunc ='sum'),\n",
    "    ).reset_index()\n",
    "traffic.head(10)"
   ]
  },
  {
   "cell_type": "markdown",
   "id": "c014fb09",
   "metadata": {},
   "source": [
    "<div class=\"alert alert-info\">\n",
    "<b>ВЫВОД:</b>\n",
    "<br>В этом разделе мы сделали расчет агрегированных данных по пользователям, их будем использовать для формирования сводной таблицы для расчетов."
   ]
  },
  {
   "cell_type": "markdown",
   "id": "48ba02bd",
   "metadata": {},
   "source": [
    "## Объединение данных\n",
    "\n"
   ]
  },
  {
   "cell_type": "code",
   "execution_count": 19,
   "id": "9dea76a8",
   "metadata": {},
   "outputs": [
    {
     "data": {
      "text/html": [
       "<div>\n",
       "<style scoped>\n",
       "    .dataframe tbody tr th:only-of-type {\n",
       "        vertical-align: middle;\n",
       "    }\n",
       "\n",
       "    .dataframe tbody tr th {\n",
       "        vertical-align: top;\n",
       "    }\n",
       "\n",
       "    .dataframe thead th {\n",
       "        text-align: right;\n",
       "    }\n",
       "</style>\n",
       "<table border=\"1\" class=\"dataframe\">\n",
       "  <thead>\n",
       "    <tr style=\"text-align: right;\">\n",
       "      <th></th>\n",
       "      <th>user_id</th>\n",
       "      <th>month</th>\n",
       "      <th>calls_duration</th>\n",
       "      <th>calls_number</th>\n",
       "      <th>msgs_number</th>\n",
       "      <th>traffic</th>\n",
       "      <th>age</th>\n",
       "      <th>churn_date</th>\n",
       "      <th>city</th>\n",
       "      <th>first_name</th>\n",
       "      <th>last_name</th>\n",
       "      <th>reg_date</th>\n",
       "      <th>tariff</th>\n",
       "      <th>messages_included</th>\n",
       "      <th>mb_per_month_included</th>\n",
       "      <th>minutes_included</th>\n",
       "      <th>rub_monthly_fee</th>\n",
       "      <th>rub_per_gb</th>\n",
       "      <th>rub_per_message</th>\n",
       "      <th>rub_per_minute</th>\n",
       "    </tr>\n",
       "  </thead>\n",
       "  <tbody>\n",
       "    <tr>\n",
       "      <th>0</th>\n",
       "      <td>1000</td>\n",
       "      <td>2018-05-01</td>\n",
       "      <td>159.0</td>\n",
       "      <td>22.0</td>\n",
       "      <td>22.0</td>\n",
       "      <td>2253.49</td>\n",
       "      <td>52</td>\n",
       "      <td>NaN</td>\n",
       "      <td>Краснодар</td>\n",
       "      <td>Рафаил</td>\n",
       "      <td>Верещагин</td>\n",
       "      <td>2018-05-25</td>\n",
       "      <td>ultra</td>\n",
       "      <td>1000</td>\n",
       "      <td>30720</td>\n",
       "      <td>3000</td>\n",
       "      <td>1950</td>\n",
       "      <td>150</td>\n",
       "      <td>1</td>\n",
       "      <td>1</td>\n",
       "    </tr>\n",
       "    <tr>\n",
       "      <th>1</th>\n",
       "      <td>1000</td>\n",
       "      <td>2018-06-01</td>\n",
       "      <td>172.0</td>\n",
       "      <td>43.0</td>\n",
       "      <td>60.0</td>\n",
       "      <td>23233.77</td>\n",
       "      <td>52</td>\n",
       "      <td>NaN</td>\n",
       "      <td>Краснодар</td>\n",
       "      <td>Рафаил</td>\n",
       "      <td>Верещагин</td>\n",
       "      <td>2018-05-25</td>\n",
       "      <td>ultra</td>\n",
       "      <td>1000</td>\n",
       "      <td>30720</td>\n",
       "      <td>3000</td>\n",
       "      <td>1950</td>\n",
       "      <td>150</td>\n",
       "      <td>1</td>\n",
       "      <td>1</td>\n",
       "    </tr>\n",
       "    <tr>\n",
       "      <th>2</th>\n",
       "      <td>1000</td>\n",
       "      <td>2018-07-01</td>\n",
       "      <td>340.0</td>\n",
       "      <td>47.0</td>\n",
       "      <td>75.0</td>\n",
       "      <td>14003.64</td>\n",
       "      <td>52</td>\n",
       "      <td>NaN</td>\n",
       "      <td>Краснодар</td>\n",
       "      <td>Рафаил</td>\n",
       "      <td>Верещагин</td>\n",
       "      <td>2018-05-25</td>\n",
       "      <td>ultra</td>\n",
       "      <td>1000</td>\n",
       "      <td>30720</td>\n",
       "      <td>3000</td>\n",
       "      <td>1950</td>\n",
       "      <td>150</td>\n",
       "      <td>1</td>\n",
       "      <td>1</td>\n",
       "    </tr>\n",
       "    <tr>\n",
       "      <th>3</th>\n",
       "      <td>1000</td>\n",
       "      <td>2018-08-01</td>\n",
       "      <td>408.0</td>\n",
       "      <td>52.0</td>\n",
       "      <td>81.0</td>\n",
       "      <td>14055.93</td>\n",
       "      <td>52</td>\n",
       "      <td>NaN</td>\n",
       "      <td>Краснодар</td>\n",
       "      <td>Рафаил</td>\n",
       "      <td>Верещагин</td>\n",
       "      <td>2018-05-25</td>\n",
       "      <td>ultra</td>\n",
       "      <td>1000</td>\n",
       "      <td>30720</td>\n",
       "      <td>3000</td>\n",
       "      <td>1950</td>\n",
       "      <td>150</td>\n",
       "      <td>1</td>\n",
       "      <td>1</td>\n",
       "    </tr>\n",
       "    <tr>\n",
       "      <th>4</th>\n",
       "      <td>1000</td>\n",
       "      <td>2018-09-01</td>\n",
       "      <td>466.0</td>\n",
       "      <td>58.0</td>\n",
       "      <td>57.0</td>\n",
       "      <td>14568.91</td>\n",
       "      <td>52</td>\n",
       "      <td>NaN</td>\n",
       "      <td>Краснодар</td>\n",
       "      <td>Рафаил</td>\n",
       "      <td>Верещагин</td>\n",
       "      <td>2018-05-25</td>\n",
       "      <td>ultra</td>\n",
       "      <td>1000</td>\n",
       "      <td>30720</td>\n",
       "      <td>3000</td>\n",
       "      <td>1950</td>\n",
       "      <td>150</td>\n",
       "      <td>1</td>\n",
       "      <td>1</td>\n",
       "    </tr>\n",
       "    <tr>\n",
       "      <th>...</th>\n",
       "      <td>...</td>\n",
       "      <td>...</td>\n",
       "      <td>...</td>\n",
       "      <td>...</td>\n",
       "      <td>...</td>\n",
       "      <td>...</td>\n",
       "      <td>...</td>\n",
       "      <td>...</td>\n",
       "      <td>...</td>\n",
       "      <td>...</td>\n",
       "      <td>...</td>\n",
       "      <td>...</td>\n",
       "      <td>...</td>\n",
       "      <td>...</td>\n",
       "      <td>...</td>\n",
       "      <td>...</td>\n",
       "      <td>...</td>\n",
       "      <td>...</td>\n",
       "      <td>...</td>\n",
       "      <td>...</td>\n",
       "    </tr>\n",
       "    <tr>\n",
       "      <th>3211</th>\n",
       "      <td>1489</td>\n",
       "      <td>2018-09-01</td>\n",
       "      <td>NaN</td>\n",
       "      <td>NaN</td>\n",
       "      <td>32.0</td>\n",
       "      <td>17206.30</td>\n",
       "      <td>35</td>\n",
       "      <td>NaN</td>\n",
       "      <td>Санкт-Петербург</td>\n",
       "      <td>Павел</td>\n",
       "      <td>Гончаров</td>\n",
       "      <td>2018-08-15</td>\n",
       "      <td>smart</td>\n",
       "      <td>50</td>\n",
       "      <td>15360</td>\n",
       "      <td>500</td>\n",
       "      <td>550</td>\n",
       "      <td>200</td>\n",
       "      <td>3</td>\n",
       "      <td>3</td>\n",
       "    </tr>\n",
       "    <tr>\n",
       "      <th>3212</th>\n",
       "      <td>1489</td>\n",
       "      <td>2018-10-01</td>\n",
       "      <td>NaN</td>\n",
       "      <td>NaN</td>\n",
       "      <td>21.0</td>\n",
       "      <td>19559.44</td>\n",
       "      <td>35</td>\n",
       "      <td>NaN</td>\n",
       "      <td>Санкт-Петербург</td>\n",
       "      <td>Павел</td>\n",
       "      <td>Гончаров</td>\n",
       "      <td>2018-08-15</td>\n",
       "      <td>smart</td>\n",
       "      <td>50</td>\n",
       "      <td>15360</td>\n",
       "      <td>500</td>\n",
       "      <td>550</td>\n",
       "      <td>200</td>\n",
       "      <td>3</td>\n",
       "      <td>3</td>\n",
       "    </tr>\n",
       "    <tr>\n",
       "      <th>3213</th>\n",
       "      <td>1489</td>\n",
       "      <td>2018-11-01</td>\n",
       "      <td>NaN</td>\n",
       "      <td>NaN</td>\n",
       "      <td>20.0</td>\n",
       "      <td>17491.56</td>\n",
       "      <td>35</td>\n",
       "      <td>NaN</td>\n",
       "      <td>Санкт-Петербург</td>\n",
       "      <td>Павел</td>\n",
       "      <td>Гончаров</td>\n",
       "      <td>2018-08-15</td>\n",
       "      <td>smart</td>\n",
       "      <td>50</td>\n",
       "      <td>15360</td>\n",
       "      <td>500</td>\n",
       "      <td>550</td>\n",
       "      <td>200</td>\n",
       "      <td>3</td>\n",
       "      <td>3</td>\n",
       "    </tr>\n",
       "    <tr>\n",
       "      <th>3214</th>\n",
       "      <td>1489</td>\n",
       "      <td>2018-12-01</td>\n",
       "      <td>NaN</td>\n",
       "      <td>NaN</td>\n",
       "      <td>35.0</td>\n",
       "      <td>17322.51</td>\n",
       "      <td>35</td>\n",
       "      <td>NaN</td>\n",
       "      <td>Санкт-Петербург</td>\n",
       "      <td>Павел</td>\n",
       "      <td>Гончаров</td>\n",
       "      <td>2018-08-15</td>\n",
       "      <td>smart</td>\n",
       "      <td>50</td>\n",
       "      <td>15360</td>\n",
       "      <td>500</td>\n",
       "      <td>550</td>\n",
       "      <td>200</td>\n",
       "      <td>3</td>\n",
       "      <td>3</td>\n",
       "    </tr>\n",
       "    <tr>\n",
       "      <th>3215</th>\n",
       "      <td>1371</td>\n",
       "      <td>NaT</td>\n",
       "      <td>NaN</td>\n",
       "      <td>NaN</td>\n",
       "      <td>NaN</td>\n",
       "      <td>NaN</td>\n",
       "      <td>50</td>\n",
       "      <td>2018-12-30</td>\n",
       "      <td>Омск</td>\n",
       "      <td>Ириней</td>\n",
       "      <td>Трофимов</td>\n",
       "      <td>2018-12-25</td>\n",
       "      <td>smart</td>\n",
       "      <td>50</td>\n",
       "      <td>15360</td>\n",
       "      <td>500</td>\n",
       "      <td>550</td>\n",
       "      <td>200</td>\n",
       "      <td>3</td>\n",
       "      <td>3</td>\n",
       "    </tr>\n",
       "  </tbody>\n",
       "</table>\n",
       "<p>3216 rows × 20 columns</p>\n",
       "</div>"
      ],
      "text/plain": [
       "      user_id      month  calls_duration  calls_number  msgs_number   traffic  \\\n",
       "0        1000 2018-05-01           159.0          22.0         22.0   2253.49   \n",
       "1        1000 2018-06-01           172.0          43.0         60.0  23233.77   \n",
       "2        1000 2018-07-01           340.0          47.0         75.0  14003.64   \n",
       "3        1000 2018-08-01           408.0          52.0         81.0  14055.93   \n",
       "4        1000 2018-09-01           466.0          58.0         57.0  14568.91   \n",
       "...       ...        ...             ...           ...          ...       ...   \n",
       "3211     1489 2018-09-01             NaN           NaN         32.0  17206.30   \n",
       "3212     1489 2018-10-01             NaN           NaN         21.0  19559.44   \n",
       "3213     1489 2018-11-01             NaN           NaN         20.0  17491.56   \n",
       "3214     1489 2018-12-01             NaN           NaN         35.0  17322.51   \n",
       "3215     1371        NaT             NaN           NaN          NaN       NaN   \n",
       "\n",
       "      age  churn_date             city first_name  last_name    reg_date  \\\n",
       "0      52         NaN        Краснодар     Рафаил  Верещагин  2018-05-25   \n",
       "1      52         NaN        Краснодар     Рафаил  Верещагин  2018-05-25   \n",
       "2      52         NaN        Краснодар     Рафаил  Верещагин  2018-05-25   \n",
       "3      52         NaN        Краснодар     Рафаил  Верещагин  2018-05-25   \n",
       "4      52         NaN        Краснодар     Рафаил  Верещагин  2018-05-25   \n",
       "...   ...         ...              ...        ...        ...         ...   \n",
       "3211   35         NaN  Санкт-Петербург      Павел   Гончаров  2018-08-15   \n",
       "3212   35         NaN  Санкт-Петербург      Павел   Гончаров  2018-08-15   \n",
       "3213   35         NaN  Санкт-Петербург      Павел   Гончаров  2018-08-15   \n",
       "3214   35         NaN  Санкт-Петербург      Павел   Гончаров  2018-08-15   \n",
       "3215   50  2018-12-30             Омск     Ириней   Трофимов  2018-12-25   \n",
       "\n",
       "     tariff  messages_included  mb_per_month_included  minutes_included  \\\n",
       "0     ultra               1000                  30720              3000   \n",
       "1     ultra               1000                  30720              3000   \n",
       "2     ultra               1000                  30720              3000   \n",
       "3     ultra               1000                  30720              3000   \n",
       "4     ultra               1000                  30720              3000   \n",
       "...     ...                ...                    ...               ...   \n",
       "3211  smart                 50                  15360               500   \n",
       "3212  smart                 50                  15360               500   \n",
       "3213  smart                 50                  15360               500   \n",
       "3214  smart                 50                  15360               500   \n",
       "3215  smart                 50                  15360               500   \n",
       "\n",
       "      rub_monthly_fee  rub_per_gb  rub_per_message  rub_per_minute  \n",
       "0                1950         150                1               1  \n",
       "1                1950         150                1               1  \n",
       "2                1950         150                1               1  \n",
       "3                1950         150                1               1  \n",
       "4                1950         150                1               1  \n",
       "...               ...         ...              ...             ...  \n",
       "3211              550         200                3               3  \n",
       "3212              550         200                3               3  \n",
       "3213              550         200                3               3  \n",
       "3214              550         200                3               3  \n",
       "3215              550         200                3               3  \n",
       "\n",
       "[3216 rows x 20 columns]"
      ]
     },
     "metadata": {},
     "output_type": "display_data"
    }
   ],
   "source": [
    "data = calls.merge(\n",
    "messages, how = 'outer', on=['user_id','month'] )\n",
    "\n",
    "data =data.merge(\n",
    "traffic, how = 'outer', on=['user_id','month'] )\n",
    "\n",
    "data =data.merge(\n",
    "data_users, how = 'outer', on=['user_id'] )\n",
    "\n",
    "#data =data.merge(data_users, how = 'outer', on=['user_id'] )\n",
    "\n",
    "data = data.rename(columns = {'tariff_y' : 'tariff'})\n",
    "\n",
    "data =data.merge(\n",
    "data_tariffs, how = 'outer', on=['tariff'] )\n",
    "\n",
    "\n",
    "display(data)"
   ]
  },
  {
   "cell_type": "code",
   "execution_count": 20,
   "id": "4d69bc0a",
   "metadata": {},
   "outputs": [
    {
     "data": {
      "text/html": [
       "<div>\n",
       "<style scoped>\n",
       "    .dataframe tbody tr th:only-of-type {\n",
       "        vertical-align: middle;\n",
       "    }\n",
       "\n",
       "    .dataframe tbody tr th {\n",
       "        vertical-align: top;\n",
       "    }\n",
       "\n",
       "    .dataframe thead th {\n",
       "        text-align: right;\n",
       "    }\n",
       "</style>\n",
       "<table border=\"1\" class=\"dataframe\">\n",
       "  <thead>\n",
       "    <tr style=\"text-align: right;\">\n",
       "      <th></th>\n",
       "      <th>user_id</th>\n",
       "      <th>month</th>\n",
       "      <th>calls_duration</th>\n",
       "      <th>calls_number</th>\n",
       "      <th>msgs_number</th>\n",
       "      <th>traffic</th>\n",
       "      <th>age</th>\n",
       "      <th>churn_date</th>\n",
       "      <th>city</th>\n",
       "      <th>first_name</th>\n",
       "      <th>last_name</th>\n",
       "      <th>reg_date</th>\n",
       "      <th>tariff</th>\n",
       "      <th>messages_included</th>\n",
       "      <th>mb_per_month_included</th>\n",
       "      <th>minutes_included</th>\n",
       "      <th>rub_monthly_fee</th>\n",
       "      <th>rub_per_gb</th>\n",
       "      <th>rub_per_message</th>\n",
       "      <th>rub_per_minute</th>\n",
       "    </tr>\n",
       "  </thead>\n",
       "  <tbody>\n",
       "    <tr>\n",
       "      <th>0</th>\n",
       "      <td>1000</td>\n",
       "      <td>2018-05-01</td>\n",
       "      <td>159.0</td>\n",
       "      <td>22.0</td>\n",
       "      <td>22.0</td>\n",
       "      <td>2253.49</td>\n",
       "      <td>52</td>\n",
       "      <td>NaN</td>\n",
       "      <td>Краснодар</td>\n",
       "      <td>Рафаил</td>\n",
       "      <td>Верещагин</td>\n",
       "      <td>2018-05-25</td>\n",
       "      <td>ultra</td>\n",
       "      <td>1000</td>\n",
       "      <td>30720</td>\n",
       "      <td>3000</td>\n",
       "      <td>1950</td>\n",
       "      <td>150</td>\n",
       "      <td>1</td>\n",
       "      <td>1</td>\n",
       "    </tr>\n",
       "    <tr>\n",
       "      <th>1</th>\n",
       "      <td>1000</td>\n",
       "      <td>2018-06-01</td>\n",
       "      <td>172.0</td>\n",
       "      <td>43.0</td>\n",
       "      <td>60.0</td>\n",
       "      <td>23233.77</td>\n",
       "      <td>52</td>\n",
       "      <td>NaN</td>\n",
       "      <td>Краснодар</td>\n",
       "      <td>Рафаил</td>\n",
       "      <td>Верещагин</td>\n",
       "      <td>2018-05-25</td>\n",
       "      <td>ultra</td>\n",
       "      <td>1000</td>\n",
       "      <td>30720</td>\n",
       "      <td>3000</td>\n",
       "      <td>1950</td>\n",
       "      <td>150</td>\n",
       "      <td>1</td>\n",
       "      <td>1</td>\n",
       "    </tr>\n",
       "    <tr>\n",
       "      <th>2</th>\n",
       "      <td>1000</td>\n",
       "      <td>2018-07-01</td>\n",
       "      <td>340.0</td>\n",
       "      <td>47.0</td>\n",
       "      <td>75.0</td>\n",
       "      <td>14003.64</td>\n",
       "      <td>52</td>\n",
       "      <td>NaN</td>\n",
       "      <td>Краснодар</td>\n",
       "      <td>Рафаил</td>\n",
       "      <td>Верещагин</td>\n",
       "      <td>2018-05-25</td>\n",
       "      <td>ultra</td>\n",
       "      <td>1000</td>\n",
       "      <td>30720</td>\n",
       "      <td>3000</td>\n",
       "      <td>1950</td>\n",
       "      <td>150</td>\n",
       "      <td>1</td>\n",
       "      <td>1</td>\n",
       "    </tr>\n",
       "    <tr>\n",
       "      <th>3</th>\n",
       "      <td>1000</td>\n",
       "      <td>2018-08-01</td>\n",
       "      <td>408.0</td>\n",
       "      <td>52.0</td>\n",
       "      <td>81.0</td>\n",
       "      <td>14055.93</td>\n",
       "      <td>52</td>\n",
       "      <td>NaN</td>\n",
       "      <td>Краснодар</td>\n",
       "      <td>Рафаил</td>\n",
       "      <td>Верещагин</td>\n",
       "      <td>2018-05-25</td>\n",
       "      <td>ultra</td>\n",
       "      <td>1000</td>\n",
       "      <td>30720</td>\n",
       "      <td>3000</td>\n",
       "      <td>1950</td>\n",
       "      <td>150</td>\n",
       "      <td>1</td>\n",
       "      <td>1</td>\n",
       "    </tr>\n",
       "    <tr>\n",
       "      <th>4</th>\n",
       "      <td>1000</td>\n",
       "      <td>2018-09-01</td>\n",
       "      <td>466.0</td>\n",
       "      <td>58.0</td>\n",
       "      <td>57.0</td>\n",
       "      <td>14568.91</td>\n",
       "      <td>52</td>\n",
       "      <td>NaN</td>\n",
       "      <td>Краснодар</td>\n",
       "      <td>Рафаил</td>\n",
       "      <td>Верещагин</td>\n",
       "      <td>2018-05-25</td>\n",
       "      <td>ultra</td>\n",
       "      <td>1000</td>\n",
       "      <td>30720</td>\n",
       "      <td>3000</td>\n",
       "      <td>1950</td>\n",
       "      <td>150</td>\n",
       "      <td>1</td>\n",
       "      <td>1</td>\n",
       "    </tr>\n",
       "    <tr>\n",
       "      <th>...</th>\n",
       "      <td>...</td>\n",
       "      <td>...</td>\n",
       "      <td>...</td>\n",
       "      <td>...</td>\n",
       "      <td>...</td>\n",
       "      <td>...</td>\n",
       "      <td>...</td>\n",
       "      <td>...</td>\n",
       "      <td>...</td>\n",
       "      <td>...</td>\n",
       "      <td>...</td>\n",
       "      <td>...</td>\n",
       "      <td>...</td>\n",
       "      <td>...</td>\n",
       "      <td>...</td>\n",
       "      <td>...</td>\n",
       "      <td>...</td>\n",
       "      <td>...</td>\n",
       "      <td>...</td>\n",
       "      <td>...</td>\n",
       "    </tr>\n",
       "    <tr>\n",
       "      <th>3211</th>\n",
       "      <td>1489</td>\n",
       "      <td>2018-09-01</td>\n",
       "      <td>0.0</td>\n",
       "      <td>NaN</td>\n",
       "      <td>32.0</td>\n",
       "      <td>17206.30</td>\n",
       "      <td>35</td>\n",
       "      <td>NaN</td>\n",
       "      <td>Санкт-Петербург</td>\n",
       "      <td>Павел</td>\n",
       "      <td>Гончаров</td>\n",
       "      <td>2018-08-15</td>\n",
       "      <td>smart</td>\n",
       "      <td>50</td>\n",
       "      <td>15360</td>\n",
       "      <td>500</td>\n",
       "      <td>550</td>\n",
       "      <td>200</td>\n",
       "      <td>3</td>\n",
       "      <td>3</td>\n",
       "    </tr>\n",
       "    <tr>\n",
       "      <th>3212</th>\n",
       "      <td>1489</td>\n",
       "      <td>2018-10-01</td>\n",
       "      <td>0.0</td>\n",
       "      <td>NaN</td>\n",
       "      <td>21.0</td>\n",
       "      <td>19559.44</td>\n",
       "      <td>35</td>\n",
       "      <td>NaN</td>\n",
       "      <td>Санкт-Петербург</td>\n",
       "      <td>Павел</td>\n",
       "      <td>Гончаров</td>\n",
       "      <td>2018-08-15</td>\n",
       "      <td>smart</td>\n",
       "      <td>50</td>\n",
       "      <td>15360</td>\n",
       "      <td>500</td>\n",
       "      <td>550</td>\n",
       "      <td>200</td>\n",
       "      <td>3</td>\n",
       "      <td>3</td>\n",
       "    </tr>\n",
       "    <tr>\n",
       "      <th>3213</th>\n",
       "      <td>1489</td>\n",
       "      <td>2018-11-01</td>\n",
       "      <td>0.0</td>\n",
       "      <td>NaN</td>\n",
       "      <td>20.0</td>\n",
       "      <td>17491.56</td>\n",
       "      <td>35</td>\n",
       "      <td>NaN</td>\n",
       "      <td>Санкт-Петербург</td>\n",
       "      <td>Павел</td>\n",
       "      <td>Гончаров</td>\n",
       "      <td>2018-08-15</td>\n",
       "      <td>smart</td>\n",
       "      <td>50</td>\n",
       "      <td>15360</td>\n",
       "      <td>500</td>\n",
       "      <td>550</td>\n",
       "      <td>200</td>\n",
       "      <td>3</td>\n",
       "      <td>3</td>\n",
       "    </tr>\n",
       "    <tr>\n",
       "      <th>3214</th>\n",
       "      <td>1489</td>\n",
       "      <td>2018-12-01</td>\n",
       "      <td>0.0</td>\n",
       "      <td>NaN</td>\n",
       "      <td>35.0</td>\n",
       "      <td>17322.51</td>\n",
       "      <td>35</td>\n",
       "      <td>NaN</td>\n",
       "      <td>Санкт-Петербург</td>\n",
       "      <td>Павел</td>\n",
       "      <td>Гончаров</td>\n",
       "      <td>2018-08-15</td>\n",
       "      <td>smart</td>\n",
       "      <td>50</td>\n",
       "      <td>15360</td>\n",
       "      <td>500</td>\n",
       "      <td>550</td>\n",
       "      <td>200</td>\n",
       "      <td>3</td>\n",
       "      <td>3</td>\n",
       "    </tr>\n",
       "    <tr>\n",
       "      <th>3215</th>\n",
       "      <td>1371</td>\n",
       "      <td>NaT</td>\n",
       "      <td>0.0</td>\n",
       "      <td>NaN</td>\n",
       "      <td>0.0</td>\n",
       "      <td>0.00</td>\n",
       "      <td>50</td>\n",
       "      <td>2018-12-30</td>\n",
       "      <td>Омск</td>\n",
       "      <td>Ириней</td>\n",
       "      <td>Трофимов</td>\n",
       "      <td>2018-12-25</td>\n",
       "      <td>smart</td>\n",
       "      <td>50</td>\n",
       "      <td>15360</td>\n",
       "      <td>500</td>\n",
       "      <td>550</td>\n",
       "      <td>200</td>\n",
       "      <td>3</td>\n",
       "      <td>3</td>\n",
       "    </tr>\n",
       "  </tbody>\n",
       "</table>\n",
       "<p>3216 rows × 20 columns</p>\n",
       "</div>"
      ],
      "text/plain": [
       "      user_id      month  calls_duration  calls_number  msgs_number   traffic  \\\n",
       "0        1000 2018-05-01           159.0          22.0         22.0   2253.49   \n",
       "1        1000 2018-06-01           172.0          43.0         60.0  23233.77   \n",
       "2        1000 2018-07-01           340.0          47.0         75.0  14003.64   \n",
       "3        1000 2018-08-01           408.0          52.0         81.0  14055.93   \n",
       "4        1000 2018-09-01           466.0          58.0         57.0  14568.91   \n",
       "...       ...        ...             ...           ...          ...       ...   \n",
       "3211     1489 2018-09-01             0.0           NaN         32.0  17206.30   \n",
       "3212     1489 2018-10-01             0.0           NaN         21.0  19559.44   \n",
       "3213     1489 2018-11-01             0.0           NaN         20.0  17491.56   \n",
       "3214     1489 2018-12-01             0.0           NaN         35.0  17322.51   \n",
       "3215     1371        NaT             0.0           NaN          0.0      0.00   \n",
       "\n",
       "      age  churn_date             city first_name  last_name    reg_date  \\\n",
       "0      52         NaN        Краснодар     Рафаил  Верещагин  2018-05-25   \n",
       "1      52         NaN        Краснодар     Рафаил  Верещагин  2018-05-25   \n",
       "2      52         NaN        Краснодар     Рафаил  Верещагин  2018-05-25   \n",
       "3      52         NaN        Краснодар     Рафаил  Верещагин  2018-05-25   \n",
       "4      52         NaN        Краснодар     Рафаил  Верещагин  2018-05-25   \n",
       "...   ...         ...              ...        ...        ...         ...   \n",
       "3211   35         NaN  Санкт-Петербург      Павел   Гончаров  2018-08-15   \n",
       "3212   35         NaN  Санкт-Петербург      Павел   Гончаров  2018-08-15   \n",
       "3213   35         NaN  Санкт-Петербург      Павел   Гончаров  2018-08-15   \n",
       "3214   35         NaN  Санкт-Петербург      Павел   Гончаров  2018-08-15   \n",
       "3215   50  2018-12-30             Омск     Ириней   Трофимов  2018-12-25   \n",
       "\n",
       "     tariff  messages_included  mb_per_month_included  minutes_included  \\\n",
       "0     ultra               1000                  30720              3000   \n",
       "1     ultra               1000                  30720              3000   \n",
       "2     ultra               1000                  30720              3000   \n",
       "3     ultra               1000                  30720              3000   \n",
       "4     ultra               1000                  30720              3000   \n",
       "...     ...                ...                    ...               ...   \n",
       "3211  smart                 50                  15360               500   \n",
       "3212  smart                 50                  15360               500   \n",
       "3213  smart                 50                  15360               500   \n",
       "3214  smart                 50                  15360               500   \n",
       "3215  smart                 50                  15360               500   \n",
       "\n",
       "      rub_monthly_fee  rub_per_gb  rub_per_message  rub_per_minute  \n",
       "0                1950         150                1               1  \n",
       "1                1950         150                1               1  \n",
       "2                1950         150                1               1  \n",
       "3                1950         150                1               1  \n",
       "4                1950         150                1               1  \n",
       "...               ...         ...              ...             ...  \n",
       "3211              550         200                3               3  \n",
       "3212              550         200                3               3  \n",
       "3213              550         200                3               3  \n",
       "3214              550         200                3               3  \n",
       "3215              550         200                3               3  \n",
       "\n",
       "[3216 rows x 20 columns]"
      ]
     },
     "metadata": {},
     "output_type": "display_data"
    }
   ],
   "source": [
    "# В сводной таблице много значений Nan. пропущенные значения заменяем на нули в столбцах, которые будем использовать для расчетов\n",
    "\n",
    "data.loc[data['calls_duration'].isna(), 'calls_duration'] = 0\n",
    "data.loc[data['msgs_number'].isna(), 'msgs_number'] = 0\n",
    "data.loc[data['traffic'].isna(), 'traffic'] = 0\n",
    "\n",
    "display(data)"
   ]
  },
  {
   "cell_type": "markdown",
   "id": "5eed3914",
   "metadata": {},
   "source": [
    "<div class=\"alert alert-info\">\n",
    "<b>ВЫВОД:</b>\n",
    "<br>В этом разделе мы сделали объединенную табличку со всеми нужными для расчета данными. Значения Nan для значимых для расчета столбцов заменяем на нули."
   ]
  },
  {
   "cell_type": "markdown",
   "id": "7e51261e",
   "metadata": {},
   "source": [
    "##  Расчет выручки\n"
   ]
  },
  {
   "cell_type": "code",
   "execution_count": 21,
   "id": "05506d19",
   "metadata": {},
   "outputs": [],
   "source": [
    "#заведем функцию для расчета выручки по клиентам\n",
    "\n",
    "def calculate(row):\n",
    "    fare = row.rub_monthly_fee\n",
    "    if (row.msgs_number > row.messages_included):\n",
    "        fare += (row.msgs_number - row.messages_included)*row.rub_per_message\n",
    "    if (row.calls_duration > row.minutes_included):\n",
    "        fare += (row.calls_duration - row.minutes_included)*row.rub_per_minute\n",
    "    if (row.traffic > row.mb_per_month_included):\n",
    "        fare += math.ceil((row.traffic - row.mb_per_month_included)/1024)*row.rub_per_gb\n",
    "    return round(fare,2)"
   ]
  },
  {
   "cell_type": "code",
   "execution_count": 22,
   "id": "92a1864d",
   "metadata": {},
   "outputs": [
    {
     "data": {
      "text/html": [
       "<div>\n",
       "<style scoped>\n",
       "    .dataframe tbody tr th:only-of-type {\n",
       "        vertical-align: middle;\n",
       "    }\n",
       "\n",
       "    .dataframe tbody tr th {\n",
       "        vertical-align: top;\n",
       "    }\n",
       "\n",
       "    .dataframe thead th {\n",
       "        text-align: right;\n",
       "    }\n",
       "</style>\n",
       "<table border=\"1\" class=\"dataframe\">\n",
       "  <thead>\n",
       "    <tr style=\"text-align: right;\">\n",
       "      <th></th>\n",
       "      <th>user_id</th>\n",
       "      <th>month</th>\n",
       "      <th>calls_duration</th>\n",
       "      <th>calls_number</th>\n",
       "      <th>msgs_number</th>\n",
       "      <th>traffic</th>\n",
       "      <th>age</th>\n",
       "      <th>churn_date</th>\n",
       "      <th>city</th>\n",
       "      <th>first_name</th>\n",
       "      <th>...</th>\n",
       "      <th>reg_date</th>\n",
       "      <th>tariff</th>\n",
       "      <th>messages_included</th>\n",
       "      <th>mb_per_month_included</th>\n",
       "      <th>minutes_included</th>\n",
       "      <th>rub_monthly_fee</th>\n",
       "      <th>rub_per_gb</th>\n",
       "      <th>rub_per_message</th>\n",
       "      <th>rub_per_minute</th>\n",
       "      <th>revenue</th>\n",
       "    </tr>\n",
       "  </thead>\n",
       "  <tbody>\n",
       "    <tr>\n",
       "      <th>0</th>\n",
       "      <td>1000</td>\n",
       "      <td>2018-05-01</td>\n",
       "      <td>159.0</td>\n",
       "      <td>22.0</td>\n",
       "      <td>22.0</td>\n",
       "      <td>2253.49</td>\n",
       "      <td>52</td>\n",
       "      <td>NaN</td>\n",
       "      <td>Краснодар</td>\n",
       "      <td>Рафаил</td>\n",
       "      <td>...</td>\n",
       "      <td>2018-05-25</td>\n",
       "      <td>ultra</td>\n",
       "      <td>1000</td>\n",
       "      <td>30720</td>\n",
       "      <td>3000</td>\n",
       "      <td>1950</td>\n",
       "      <td>150</td>\n",
       "      <td>1</td>\n",
       "      <td>1</td>\n",
       "      <td>1950.0</td>\n",
       "    </tr>\n",
       "    <tr>\n",
       "      <th>1</th>\n",
       "      <td>1000</td>\n",
       "      <td>2018-06-01</td>\n",
       "      <td>172.0</td>\n",
       "      <td>43.0</td>\n",
       "      <td>60.0</td>\n",
       "      <td>23233.77</td>\n",
       "      <td>52</td>\n",
       "      <td>NaN</td>\n",
       "      <td>Краснодар</td>\n",
       "      <td>Рафаил</td>\n",
       "      <td>...</td>\n",
       "      <td>2018-05-25</td>\n",
       "      <td>ultra</td>\n",
       "      <td>1000</td>\n",
       "      <td>30720</td>\n",
       "      <td>3000</td>\n",
       "      <td>1950</td>\n",
       "      <td>150</td>\n",
       "      <td>1</td>\n",
       "      <td>1</td>\n",
       "      <td>1950.0</td>\n",
       "    </tr>\n",
       "    <tr>\n",
       "      <th>2</th>\n",
       "      <td>1000</td>\n",
       "      <td>2018-07-01</td>\n",
       "      <td>340.0</td>\n",
       "      <td>47.0</td>\n",
       "      <td>75.0</td>\n",
       "      <td>14003.64</td>\n",
       "      <td>52</td>\n",
       "      <td>NaN</td>\n",
       "      <td>Краснодар</td>\n",
       "      <td>Рафаил</td>\n",
       "      <td>...</td>\n",
       "      <td>2018-05-25</td>\n",
       "      <td>ultra</td>\n",
       "      <td>1000</td>\n",
       "      <td>30720</td>\n",
       "      <td>3000</td>\n",
       "      <td>1950</td>\n",
       "      <td>150</td>\n",
       "      <td>1</td>\n",
       "      <td>1</td>\n",
       "      <td>1950.0</td>\n",
       "    </tr>\n",
       "    <tr>\n",
       "      <th>3</th>\n",
       "      <td>1000</td>\n",
       "      <td>2018-08-01</td>\n",
       "      <td>408.0</td>\n",
       "      <td>52.0</td>\n",
       "      <td>81.0</td>\n",
       "      <td>14055.93</td>\n",
       "      <td>52</td>\n",
       "      <td>NaN</td>\n",
       "      <td>Краснодар</td>\n",
       "      <td>Рафаил</td>\n",
       "      <td>...</td>\n",
       "      <td>2018-05-25</td>\n",
       "      <td>ultra</td>\n",
       "      <td>1000</td>\n",
       "      <td>30720</td>\n",
       "      <td>3000</td>\n",
       "      <td>1950</td>\n",
       "      <td>150</td>\n",
       "      <td>1</td>\n",
       "      <td>1</td>\n",
       "      <td>1950.0</td>\n",
       "    </tr>\n",
       "    <tr>\n",
       "      <th>4</th>\n",
       "      <td>1000</td>\n",
       "      <td>2018-09-01</td>\n",
       "      <td>466.0</td>\n",
       "      <td>58.0</td>\n",
       "      <td>57.0</td>\n",
       "      <td>14568.91</td>\n",
       "      <td>52</td>\n",
       "      <td>NaN</td>\n",
       "      <td>Краснодар</td>\n",
       "      <td>Рафаил</td>\n",
       "      <td>...</td>\n",
       "      <td>2018-05-25</td>\n",
       "      <td>ultra</td>\n",
       "      <td>1000</td>\n",
       "      <td>30720</td>\n",
       "      <td>3000</td>\n",
       "      <td>1950</td>\n",
       "      <td>150</td>\n",
       "      <td>1</td>\n",
       "      <td>1</td>\n",
       "      <td>1950.0</td>\n",
       "    </tr>\n",
       "    <tr>\n",
       "      <th>...</th>\n",
       "      <td>...</td>\n",
       "      <td>...</td>\n",
       "      <td>...</td>\n",
       "      <td>...</td>\n",
       "      <td>...</td>\n",
       "      <td>...</td>\n",
       "      <td>...</td>\n",
       "      <td>...</td>\n",
       "      <td>...</td>\n",
       "      <td>...</td>\n",
       "      <td>...</td>\n",
       "      <td>...</td>\n",
       "      <td>...</td>\n",
       "      <td>...</td>\n",
       "      <td>...</td>\n",
       "      <td>...</td>\n",
       "      <td>...</td>\n",
       "      <td>...</td>\n",
       "      <td>...</td>\n",
       "      <td>...</td>\n",
       "      <td>...</td>\n",
       "    </tr>\n",
       "    <tr>\n",
       "      <th>3211</th>\n",
       "      <td>1489</td>\n",
       "      <td>2018-09-01</td>\n",
       "      <td>0.0</td>\n",
       "      <td>NaN</td>\n",
       "      <td>32.0</td>\n",
       "      <td>17206.30</td>\n",
       "      <td>35</td>\n",
       "      <td>NaN</td>\n",
       "      <td>Санкт-Петербург</td>\n",
       "      <td>Павел</td>\n",
       "      <td>...</td>\n",
       "      <td>2018-08-15</td>\n",
       "      <td>smart</td>\n",
       "      <td>50</td>\n",
       "      <td>15360</td>\n",
       "      <td>500</td>\n",
       "      <td>550</td>\n",
       "      <td>200</td>\n",
       "      <td>3</td>\n",
       "      <td>3</td>\n",
       "      <td>950.0</td>\n",
       "    </tr>\n",
       "    <tr>\n",
       "      <th>3212</th>\n",
       "      <td>1489</td>\n",
       "      <td>2018-10-01</td>\n",
       "      <td>0.0</td>\n",
       "      <td>NaN</td>\n",
       "      <td>21.0</td>\n",
       "      <td>19559.44</td>\n",
       "      <td>35</td>\n",
       "      <td>NaN</td>\n",
       "      <td>Санкт-Петербург</td>\n",
       "      <td>Павел</td>\n",
       "      <td>...</td>\n",
       "      <td>2018-08-15</td>\n",
       "      <td>smart</td>\n",
       "      <td>50</td>\n",
       "      <td>15360</td>\n",
       "      <td>500</td>\n",
       "      <td>550</td>\n",
       "      <td>200</td>\n",
       "      <td>3</td>\n",
       "      <td>3</td>\n",
       "      <td>1550.0</td>\n",
       "    </tr>\n",
       "    <tr>\n",
       "      <th>3213</th>\n",
       "      <td>1489</td>\n",
       "      <td>2018-11-01</td>\n",
       "      <td>0.0</td>\n",
       "      <td>NaN</td>\n",
       "      <td>20.0</td>\n",
       "      <td>17491.56</td>\n",
       "      <td>35</td>\n",
       "      <td>NaN</td>\n",
       "      <td>Санкт-Петербург</td>\n",
       "      <td>Павел</td>\n",
       "      <td>...</td>\n",
       "      <td>2018-08-15</td>\n",
       "      <td>smart</td>\n",
       "      <td>50</td>\n",
       "      <td>15360</td>\n",
       "      <td>500</td>\n",
       "      <td>550</td>\n",
       "      <td>200</td>\n",
       "      <td>3</td>\n",
       "      <td>3</td>\n",
       "      <td>1150.0</td>\n",
       "    </tr>\n",
       "    <tr>\n",
       "      <th>3214</th>\n",
       "      <td>1489</td>\n",
       "      <td>2018-12-01</td>\n",
       "      <td>0.0</td>\n",
       "      <td>NaN</td>\n",
       "      <td>35.0</td>\n",
       "      <td>17322.51</td>\n",
       "      <td>35</td>\n",
       "      <td>NaN</td>\n",
       "      <td>Санкт-Петербург</td>\n",
       "      <td>Павел</td>\n",
       "      <td>...</td>\n",
       "      <td>2018-08-15</td>\n",
       "      <td>smart</td>\n",
       "      <td>50</td>\n",
       "      <td>15360</td>\n",
       "      <td>500</td>\n",
       "      <td>550</td>\n",
       "      <td>200</td>\n",
       "      <td>3</td>\n",
       "      <td>3</td>\n",
       "      <td>950.0</td>\n",
       "    </tr>\n",
       "    <tr>\n",
       "      <th>3215</th>\n",
       "      <td>1371</td>\n",
       "      <td>NaT</td>\n",
       "      <td>0.0</td>\n",
       "      <td>NaN</td>\n",
       "      <td>0.0</td>\n",
       "      <td>0.00</td>\n",
       "      <td>50</td>\n",
       "      <td>2018-12-30</td>\n",
       "      <td>Омск</td>\n",
       "      <td>Ириней</td>\n",
       "      <td>...</td>\n",
       "      <td>2018-12-25</td>\n",
       "      <td>smart</td>\n",
       "      <td>50</td>\n",
       "      <td>15360</td>\n",
       "      <td>500</td>\n",
       "      <td>550</td>\n",
       "      <td>200</td>\n",
       "      <td>3</td>\n",
       "      <td>3</td>\n",
       "      <td>550.0</td>\n",
       "    </tr>\n",
       "  </tbody>\n",
       "</table>\n",
       "<p>3216 rows × 21 columns</p>\n",
       "</div>"
      ],
      "text/plain": [
       "      user_id      month  calls_duration  calls_number  msgs_number   traffic  \\\n",
       "0        1000 2018-05-01           159.0          22.0         22.0   2253.49   \n",
       "1        1000 2018-06-01           172.0          43.0         60.0  23233.77   \n",
       "2        1000 2018-07-01           340.0          47.0         75.0  14003.64   \n",
       "3        1000 2018-08-01           408.0          52.0         81.0  14055.93   \n",
       "4        1000 2018-09-01           466.0          58.0         57.0  14568.91   \n",
       "...       ...        ...             ...           ...          ...       ...   \n",
       "3211     1489 2018-09-01             0.0           NaN         32.0  17206.30   \n",
       "3212     1489 2018-10-01             0.0           NaN         21.0  19559.44   \n",
       "3213     1489 2018-11-01             0.0           NaN         20.0  17491.56   \n",
       "3214     1489 2018-12-01             0.0           NaN         35.0  17322.51   \n",
       "3215     1371        NaT             0.0           NaN          0.0      0.00   \n",
       "\n",
       "      age  churn_date             city first_name  ...    reg_date tariff  \\\n",
       "0      52         NaN        Краснодар     Рафаил  ...  2018-05-25  ultra   \n",
       "1      52         NaN        Краснодар     Рафаил  ...  2018-05-25  ultra   \n",
       "2      52         NaN        Краснодар     Рафаил  ...  2018-05-25  ultra   \n",
       "3      52         NaN        Краснодар     Рафаил  ...  2018-05-25  ultra   \n",
       "4      52         NaN        Краснодар     Рафаил  ...  2018-05-25  ultra   \n",
       "...   ...         ...              ...        ...  ...         ...    ...   \n",
       "3211   35         NaN  Санкт-Петербург      Павел  ...  2018-08-15  smart   \n",
       "3212   35         NaN  Санкт-Петербург      Павел  ...  2018-08-15  smart   \n",
       "3213   35         NaN  Санкт-Петербург      Павел  ...  2018-08-15  smart   \n",
       "3214   35         NaN  Санкт-Петербург      Павел  ...  2018-08-15  smart   \n",
       "3215   50  2018-12-30             Омск     Ириней  ...  2018-12-25  smart   \n",
       "\n",
       "     messages_included  mb_per_month_included  minutes_included  \\\n",
       "0                 1000                  30720              3000   \n",
       "1                 1000                  30720              3000   \n",
       "2                 1000                  30720              3000   \n",
       "3                 1000                  30720              3000   \n",
       "4                 1000                  30720              3000   \n",
       "...                ...                    ...               ...   \n",
       "3211                50                  15360               500   \n",
       "3212                50                  15360               500   \n",
       "3213                50                  15360               500   \n",
       "3214                50                  15360               500   \n",
       "3215                50                  15360               500   \n",
       "\n",
       "      rub_monthly_fee  rub_per_gb  rub_per_message  rub_per_minute  revenue  \n",
       "0                1950         150                1               1   1950.0  \n",
       "1                1950         150                1               1   1950.0  \n",
       "2                1950         150                1               1   1950.0  \n",
       "3                1950         150                1               1   1950.0  \n",
       "4                1950         150                1               1   1950.0  \n",
       "...               ...         ...              ...             ...      ...  \n",
       "3211              550         200                3               3    950.0  \n",
       "3212              550         200                3               3   1550.0  \n",
       "3213              550         200                3               3   1150.0  \n",
       "3214              550         200                3               3    950.0  \n",
       "3215              550         200                3               3    550.0  \n",
       "\n",
       "[3216 rows x 21 columns]"
      ]
     },
     "metadata": {},
     "output_type": "display_data"
    }
   ],
   "source": [
    "data['revenue'] = data.apply(calculate, axis=1)\n",
    "\n",
    "display(data)"
   ]
  },
  {
   "cell_type": "markdown",
   "id": "963b051d",
   "metadata": {},
   "source": [
    "<div class=\"alert alert-info\">\n",
    "<b>ВЫВОД:</b>\n",
    "<br>В этом разделе мы написали функцию для расчета выручки на основе использованных пользователем услуг -звонков, сообщений, интернет-трафика и рассчитали выручку по каждому пользователю."
   ]
  },
  {
   "cell_type": "markdown",
   "id": "dc6d0c81",
   "metadata": {},
   "source": [
    "## Статистический анализ данных"
   ]
  },
  {
   "cell_type": "markdown",
   "id": "8c62fb49",
   "metadata": {},
   "source": [
    "Посчитаем для каждого пользователя, сколько ему необходимо минут, сообщений и интернет трафика в месяц. Для этого используем таблицу data. Найдем медиану, дисперсию и стандартное отклонение. "
   ]
  },
  {
   "cell_type": "code",
   "execution_count": 28,
   "id": "5aeeaf15",
   "metadata": {},
   "outputs": [
    {
     "data": {
      "text/html": [
       "<div>\n",
       "<style scoped>\n",
       "    .dataframe tbody tr th:only-of-type {\n",
       "        vertical-align: middle;\n",
       "    }\n",
       "\n",
       "    .dataframe tbody tr th {\n",
       "        vertical-align: top;\n",
       "    }\n",
       "\n",
       "    .dataframe thead th {\n",
       "        text-align: right;\n",
       "    }\n",
       "</style>\n",
       "<table border=\"1\" class=\"dataframe\">\n",
       "  <thead>\n",
       "    <tr style=\"text-align: right;\">\n",
       "      <th></th>\n",
       "      <th>user_id</th>\n",
       "      <th>month</th>\n",
       "      <th>calls_duration</th>\n",
       "      <th>calls_number</th>\n",
       "      <th>msgs_number</th>\n",
       "      <th>traffic</th>\n",
       "      <th>age</th>\n",
       "      <th>churn_date</th>\n",
       "      <th>city</th>\n",
       "      <th>first_name</th>\n",
       "      <th>...</th>\n",
       "      <th>reg_date</th>\n",
       "      <th>tariff</th>\n",
       "      <th>messages_included</th>\n",
       "      <th>mb_per_month_included</th>\n",
       "      <th>minutes_included</th>\n",
       "      <th>rub_monthly_fee</th>\n",
       "      <th>rub_per_gb</th>\n",
       "      <th>rub_per_message</th>\n",
       "      <th>rub_per_minute</th>\n",
       "      <th>revenue</th>\n",
       "    </tr>\n",
       "  </thead>\n",
       "  <tbody>\n",
       "    <tr>\n",
       "      <th>0</th>\n",
       "      <td>1000</td>\n",
       "      <td>2018-05-01</td>\n",
       "      <td>159.0</td>\n",
       "      <td>22.0</td>\n",
       "      <td>22.0</td>\n",
       "      <td>2253.49</td>\n",
       "      <td>52</td>\n",
       "      <td>NaN</td>\n",
       "      <td>Краснодар</td>\n",
       "      <td>Рафаил</td>\n",
       "      <td>...</td>\n",
       "      <td>2018-05-25</td>\n",
       "      <td>ultra</td>\n",
       "      <td>1000</td>\n",
       "      <td>30720</td>\n",
       "      <td>3000</td>\n",
       "      <td>1950</td>\n",
       "      <td>150</td>\n",
       "      <td>1</td>\n",
       "      <td>1</td>\n",
       "      <td>1950.0</td>\n",
       "    </tr>\n",
       "    <tr>\n",
       "      <th>1</th>\n",
       "      <td>1000</td>\n",
       "      <td>2018-06-01</td>\n",
       "      <td>172.0</td>\n",
       "      <td>43.0</td>\n",
       "      <td>60.0</td>\n",
       "      <td>23233.77</td>\n",
       "      <td>52</td>\n",
       "      <td>NaN</td>\n",
       "      <td>Краснодар</td>\n",
       "      <td>Рафаил</td>\n",
       "      <td>...</td>\n",
       "      <td>2018-05-25</td>\n",
       "      <td>ultra</td>\n",
       "      <td>1000</td>\n",
       "      <td>30720</td>\n",
       "      <td>3000</td>\n",
       "      <td>1950</td>\n",
       "      <td>150</td>\n",
       "      <td>1</td>\n",
       "      <td>1</td>\n",
       "      <td>1950.0</td>\n",
       "    </tr>\n",
       "    <tr>\n",
       "      <th>2</th>\n",
       "      <td>1000</td>\n",
       "      <td>2018-07-01</td>\n",
       "      <td>340.0</td>\n",
       "      <td>47.0</td>\n",
       "      <td>75.0</td>\n",
       "      <td>14003.64</td>\n",
       "      <td>52</td>\n",
       "      <td>NaN</td>\n",
       "      <td>Краснодар</td>\n",
       "      <td>Рафаил</td>\n",
       "      <td>...</td>\n",
       "      <td>2018-05-25</td>\n",
       "      <td>ultra</td>\n",
       "      <td>1000</td>\n",
       "      <td>30720</td>\n",
       "      <td>3000</td>\n",
       "      <td>1950</td>\n",
       "      <td>150</td>\n",
       "      <td>1</td>\n",
       "      <td>1</td>\n",
       "      <td>1950.0</td>\n",
       "    </tr>\n",
       "    <tr>\n",
       "      <th>3</th>\n",
       "      <td>1000</td>\n",
       "      <td>2018-08-01</td>\n",
       "      <td>408.0</td>\n",
       "      <td>52.0</td>\n",
       "      <td>81.0</td>\n",
       "      <td>14055.93</td>\n",
       "      <td>52</td>\n",
       "      <td>NaN</td>\n",
       "      <td>Краснодар</td>\n",
       "      <td>Рафаил</td>\n",
       "      <td>...</td>\n",
       "      <td>2018-05-25</td>\n",
       "      <td>ultra</td>\n",
       "      <td>1000</td>\n",
       "      <td>30720</td>\n",
       "      <td>3000</td>\n",
       "      <td>1950</td>\n",
       "      <td>150</td>\n",
       "      <td>1</td>\n",
       "      <td>1</td>\n",
       "      <td>1950.0</td>\n",
       "    </tr>\n",
       "    <tr>\n",
       "      <th>4</th>\n",
       "      <td>1000</td>\n",
       "      <td>2018-09-01</td>\n",
       "      <td>466.0</td>\n",
       "      <td>58.0</td>\n",
       "      <td>57.0</td>\n",
       "      <td>14568.91</td>\n",
       "      <td>52</td>\n",
       "      <td>NaN</td>\n",
       "      <td>Краснодар</td>\n",
       "      <td>Рафаил</td>\n",
       "      <td>...</td>\n",
       "      <td>2018-05-25</td>\n",
       "      <td>ultra</td>\n",
       "      <td>1000</td>\n",
       "      <td>30720</td>\n",
       "      <td>3000</td>\n",
       "      <td>1950</td>\n",
       "      <td>150</td>\n",
       "      <td>1</td>\n",
       "      <td>1</td>\n",
       "      <td>1950.0</td>\n",
       "    </tr>\n",
       "    <tr>\n",
       "      <th>...</th>\n",
       "      <td>...</td>\n",
       "      <td>...</td>\n",
       "      <td>...</td>\n",
       "      <td>...</td>\n",
       "      <td>...</td>\n",
       "      <td>...</td>\n",
       "      <td>...</td>\n",
       "      <td>...</td>\n",
       "      <td>...</td>\n",
       "      <td>...</td>\n",
       "      <td>...</td>\n",
       "      <td>...</td>\n",
       "      <td>...</td>\n",
       "      <td>...</td>\n",
       "      <td>...</td>\n",
       "      <td>...</td>\n",
       "      <td>...</td>\n",
       "      <td>...</td>\n",
       "      <td>...</td>\n",
       "      <td>...</td>\n",
       "      <td>...</td>\n",
       "    </tr>\n",
       "    <tr>\n",
       "      <th>3211</th>\n",
       "      <td>1489</td>\n",
       "      <td>2018-09-01</td>\n",
       "      <td>0.0</td>\n",
       "      <td>NaN</td>\n",
       "      <td>32.0</td>\n",
       "      <td>17206.30</td>\n",
       "      <td>35</td>\n",
       "      <td>NaN</td>\n",
       "      <td>Санкт-Петербург</td>\n",
       "      <td>Павел</td>\n",
       "      <td>...</td>\n",
       "      <td>2018-08-15</td>\n",
       "      <td>smart</td>\n",
       "      <td>50</td>\n",
       "      <td>15360</td>\n",
       "      <td>500</td>\n",
       "      <td>550</td>\n",
       "      <td>200</td>\n",
       "      <td>3</td>\n",
       "      <td>3</td>\n",
       "      <td>950.0</td>\n",
       "    </tr>\n",
       "    <tr>\n",
       "      <th>3212</th>\n",
       "      <td>1489</td>\n",
       "      <td>2018-10-01</td>\n",
       "      <td>0.0</td>\n",
       "      <td>NaN</td>\n",
       "      <td>21.0</td>\n",
       "      <td>19559.44</td>\n",
       "      <td>35</td>\n",
       "      <td>NaN</td>\n",
       "      <td>Санкт-Петербург</td>\n",
       "      <td>Павел</td>\n",
       "      <td>...</td>\n",
       "      <td>2018-08-15</td>\n",
       "      <td>smart</td>\n",
       "      <td>50</td>\n",
       "      <td>15360</td>\n",
       "      <td>500</td>\n",
       "      <td>550</td>\n",
       "      <td>200</td>\n",
       "      <td>3</td>\n",
       "      <td>3</td>\n",
       "      <td>1550.0</td>\n",
       "    </tr>\n",
       "    <tr>\n",
       "      <th>3213</th>\n",
       "      <td>1489</td>\n",
       "      <td>2018-11-01</td>\n",
       "      <td>0.0</td>\n",
       "      <td>NaN</td>\n",
       "      <td>20.0</td>\n",
       "      <td>17491.56</td>\n",
       "      <td>35</td>\n",
       "      <td>NaN</td>\n",
       "      <td>Санкт-Петербург</td>\n",
       "      <td>Павел</td>\n",
       "      <td>...</td>\n",
       "      <td>2018-08-15</td>\n",
       "      <td>smart</td>\n",
       "      <td>50</td>\n",
       "      <td>15360</td>\n",
       "      <td>500</td>\n",
       "      <td>550</td>\n",
       "      <td>200</td>\n",
       "      <td>3</td>\n",
       "      <td>3</td>\n",
       "      <td>1150.0</td>\n",
       "    </tr>\n",
       "    <tr>\n",
       "      <th>3214</th>\n",
       "      <td>1489</td>\n",
       "      <td>2018-12-01</td>\n",
       "      <td>0.0</td>\n",
       "      <td>NaN</td>\n",
       "      <td>35.0</td>\n",
       "      <td>17322.51</td>\n",
       "      <td>35</td>\n",
       "      <td>NaN</td>\n",
       "      <td>Санкт-Петербург</td>\n",
       "      <td>Павел</td>\n",
       "      <td>...</td>\n",
       "      <td>2018-08-15</td>\n",
       "      <td>smart</td>\n",
       "      <td>50</td>\n",
       "      <td>15360</td>\n",
       "      <td>500</td>\n",
       "      <td>550</td>\n",
       "      <td>200</td>\n",
       "      <td>3</td>\n",
       "      <td>3</td>\n",
       "      <td>950.0</td>\n",
       "    </tr>\n",
       "    <tr>\n",
       "      <th>3215</th>\n",
       "      <td>1371</td>\n",
       "      <td>NaT</td>\n",
       "      <td>0.0</td>\n",
       "      <td>NaN</td>\n",
       "      <td>0.0</td>\n",
       "      <td>0.00</td>\n",
       "      <td>50</td>\n",
       "      <td>2018-12-30</td>\n",
       "      <td>Омск</td>\n",
       "      <td>Ириней</td>\n",
       "      <td>...</td>\n",
       "      <td>2018-12-25</td>\n",
       "      <td>smart</td>\n",
       "      <td>50</td>\n",
       "      <td>15360</td>\n",
       "      <td>500</td>\n",
       "      <td>550</td>\n",
       "      <td>200</td>\n",
       "      <td>3</td>\n",
       "      <td>3</td>\n",
       "      <td>550.0</td>\n",
       "    </tr>\n",
       "  </tbody>\n",
       "</table>\n",
       "<p>3216 rows × 21 columns</p>\n",
       "</div>"
      ],
      "text/plain": [
       "      user_id      month  calls_duration  calls_number  msgs_number   traffic  \\\n",
       "0        1000 2018-05-01           159.0          22.0         22.0   2253.49   \n",
       "1        1000 2018-06-01           172.0          43.0         60.0  23233.77   \n",
       "2        1000 2018-07-01           340.0          47.0         75.0  14003.64   \n",
       "3        1000 2018-08-01           408.0          52.0         81.0  14055.93   \n",
       "4        1000 2018-09-01           466.0          58.0         57.0  14568.91   \n",
       "...       ...        ...             ...           ...          ...       ...   \n",
       "3211     1489 2018-09-01             0.0           NaN         32.0  17206.30   \n",
       "3212     1489 2018-10-01             0.0           NaN         21.0  19559.44   \n",
       "3213     1489 2018-11-01             0.0           NaN         20.0  17491.56   \n",
       "3214     1489 2018-12-01             0.0           NaN         35.0  17322.51   \n",
       "3215     1371        NaT             0.0           NaN          0.0      0.00   \n",
       "\n",
       "      age  churn_date             city first_name  ...    reg_date tariff  \\\n",
       "0      52         NaN        Краснодар     Рафаил  ...  2018-05-25  ultra   \n",
       "1      52         NaN        Краснодар     Рафаил  ...  2018-05-25  ultra   \n",
       "2      52         NaN        Краснодар     Рафаил  ...  2018-05-25  ultra   \n",
       "3      52         NaN        Краснодар     Рафаил  ...  2018-05-25  ultra   \n",
       "4      52         NaN        Краснодар     Рафаил  ...  2018-05-25  ultra   \n",
       "...   ...         ...              ...        ...  ...         ...    ...   \n",
       "3211   35         NaN  Санкт-Петербург      Павел  ...  2018-08-15  smart   \n",
       "3212   35         NaN  Санкт-Петербург      Павел  ...  2018-08-15  smart   \n",
       "3213   35         NaN  Санкт-Петербург      Павел  ...  2018-08-15  smart   \n",
       "3214   35         NaN  Санкт-Петербург      Павел  ...  2018-08-15  smart   \n",
       "3215   50  2018-12-30             Омск     Ириней  ...  2018-12-25  smart   \n",
       "\n",
       "     messages_included  mb_per_month_included  minutes_included  \\\n",
       "0                 1000                  30720              3000   \n",
       "1                 1000                  30720              3000   \n",
       "2                 1000                  30720              3000   \n",
       "3                 1000                  30720              3000   \n",
       "4                 1000                  30720              3000   \n",
       "...                ...                    ...               ...   \n",
       "3211                50                  15360               500   \n",
       "3212                50                  15360               500   \n",
       "3213                50                  15360               500   \n",
       "3214                50                  15360               500   \n",
       "3215                50                  15360               500   \n",
       "\n",
       "      rub_monthly_fee  rub_per_gb  rub_per_message  rub_per_minute  revenue  \n",
       "0                1950         150                1               1   1950.0  \n",
       "1                1950         150                1               1   1950.0  \n",
       "2                1950         150                1               1   1950.0  \n",
       "3                1950         150                1               1   1950.0  \n",
       "4                1950         150                1               1   1950.0  \n",
       "...               ...         ...              ...             ...      ...  \n",
       "3211              550         200                3               3    950.0  \n",
       "3212              550         200                3               3   1550.0  \n",
       "3213              550         200                3               3   1150.0  \n",
       "3214              550         200                3               3    950.0  \n",
       "3215              550         200                3               3    550.0  \n",
       "\n",
       "[3216 rows x 21 columns]"
      ]
     },
     "metadata": {},
     "output_type": "display_data"
    }
   ],
   "source": [
    "display(data)"
   ]
  },
  {
   "cell_type": "code",
   "execution_count": 29,
   "id": "419836f4",
   "metadata": {},
   "outputs": [
    {
     "data": {
      "text/html": [
       "<div>\n",
       "<style scoped>\n",
       "    .dataframe tbody tr th:only-of-type {\n",
       "        vertical-align: middle;\n",
       "    }\n",
       "\n",
       "    .dataframe tbody tr th {\n",
       "        vertical-align: top;\n",
       "    }\n",
       "\n",
       "    .dataframe thead tr th {\n",
       "        text-align: left;\n",
       "    }\n",
       "\n",
       "    .dataframe thead tr:last-of-type th {\n",
       "        text-align: right;\n",
       "    }\n",
       "</style>\n",
       "<table border=\"1\" class=\"dataframe\">\n",
       "  <thead>\n",
       "    <tr>\n",
       "      <th></th>\n",
       "      <th colspan=\"3\" halign=\"left\">calls_duration</th>\n",
       "      <th colspan=\"3\" halign=\"left\">msgs_number</th>\n",
       "      <th colspan=\"3\" halign=\"left\">traffic</th>\n",
       "    </tr>\n",
       "    <tr>\n",
       "      <th></th>\n",
       "      <th>median</th>\n",
       "      <th>std</th>\n",
       "      <th>var</th>\n",
       "      <th>median</th>\n",
       "      <th>std</th>\n",
       "      <th>var</th>\n",
       "      <th>median</th>\n",
       "      <th>std</th>\n",
       "      <th>var</th>\n",
       "    </tr>\n",
       "    <tr>\n",
       "      <th>tariff</th>\n",
       "      <th></th>\n",
       "      <th></th>\n",
       "      <th></th>\n",
       "      <th></th>\n",
       "      <th></th>\n",
       "      <th></th>\n",
       "      <th></th>\n",
       "      <th></th>\n",
       "      <th></th>\n",
       "    </tr>\n",
       "  </thead>\n",
       "  <tbody>\n",
       "    <tr>\n",
       "      <th>smart</th>\n",
       "      <td>421.5</td>\n",
       "      <td>190.476754</td>\n",
       "      <td>36281.393836</td>\n",
       "      <td>28.0</td>\n",
       "      <td>28.230396</td>\n",
       "      <td>796.955256</td>\n",
       "      <td>16505.475</td>\n",
       "      <td>5879.187315</td>\n",
       "      <td>3.456484e+07</td>\n",
       "    </tr>\n",
       "    <tr>\n",
       "      <th>ultra</th>\n",
       "      <td>518.0</td>\n",
       "      <td>317.887549</td>\n",
       "      <td>101052.493549</td>\n",
       "      <td>38.0</td>\n",
       "      <td>47.806040</td>\n",
       "      <td>2285.417425</td>\n",
       "      <td>19304.020</td>\n",
       "      <td>10101.095459</td>\n",
       "      <td>1.020321e+08</td>\n",
       "    </tr>\n",
       "  </tbody>\n",
       "</table>\n",
       "</div>"
      ],
      "text/plain": [
       "       calls_duration                            msgs_number             \\\n",
       "               median         std            var      median        std   \n",
       "tariff                                                                    \n",
       "smart           421.5  190.476754   36281.393836        28.0  28.230396   \n",
       "ultra           518.0  317.887549  101052.493549        38.0  47.806040   \n",
       "\n",
       "                       traffic                              \n",
       "                var     median           std           var  \n",
       "tariff                                                      \n",
       "smart    796.955256  16505.475   5879.187315  3.456484e+07  \n",
       "ultra   2285.417425  19304.020  10101.095459  1.020321e+08  "
      ]
     },
     "execution_count": 29,
     "metadata": {},
     "output_type": "execute_result"
    }
   ],
   "source": [
    "desc_stat = data.pivot_table(index=['tariff'], values=['calls_duration', 'msgs_number', 'traffic'], \n",
    "                    aggfunc={'calls_duration': [np.median, np.var, np.std], \n",
    "                             'msgs_number': [np.median, np.var, np.std], \n",
    "                             'traffic': [np.median, np.var, np.std]})\n",
    "desc_stat"
   ]
  },
  {
   "cell_type": "markdown",
   "id": "2ff20cf9",
   "metadata": {},
   "source": [
    "Для визуального анализа построим гистограммы."
   ]
  },
  {
   "cell_type": "code",
   "execution_count": 30,
   "id": "dbc2197d",
   "metadata": {},
   "outputs": [
    {
     "data": {
      "text/plain": [
       "<AxesSubplot:>"
      ]
     },
     "execution_count": 30,
     "metadata": {},
     "output_type": "execute_result"
    },
    {
     "data": {
      "image/png": "[encoded data removed]",
      "text/plain": [
       "<Figure size 432x288 with 1 Axes>"
      ]
     },
     "metadata": {
      "needs_background": "light"
     },
     "output_type": "display_data"
    }
   ],
   "source": [
    "data_smart = data.query('tariff == \"smart\"')\n",
    "data_ultra = data.query('tariff == \"ultra\"')\n",
    "\n",
    "data_smart['calls_duration'].hist()\n",
    "data_ultra['calls_duration'].hist()"
   ]
  },
  {
   "cell_type": "code",
   "execution_count": 31,
   "id": "60de0dc1",
   "metadata": {},
   "outputs": [
    {
     "data": {
      "text/plain": [
       "<AxesSubplot:>"
      ]
     },
     "execution_count": 31,
     "metadata": {},
     "output_type": "execute_result"
    },
    {
     "data": {
      "image/png": "[encoded data removed]",
      "text/plain": [
       "<Figure size 432x288 with 1 Axes>"
      ]
     },
     "metadata": {
      "needs_background": "light"
     },
     "output_type": "display_data"
    }
   ],
   "source": [
    "data_smart['msgs_number'].hist()\n",
    "data_ultra['msgs_number'].hist()"
   ]
  },
  {
   "cell_type": "code",
   "execution_count": 32,
   "id": "68c66993",
   "metadata": {},
   "outputs": [
    {
     "data": {
      "text/plain": [
       "<AxesSubplot:>"
      ]
     },
     "execution_count": 32,
     "metadata": {},
     "output_type": "execute_result"
    },
    {
     "data": {
      "image/png": "[encoded data removed]",
      "text/plain": [
       "<Figure size 432x288 with 1 Axes>"
      ]
     },
     "metadata": {
      "needs_background": "light"
     },
     "output_type": "display_data"
    }
   ],
   "source": [
    "data_smart['traffic'].hist()\n",
    "data_ultra['traffic'].hist()"
   ]
  },
  {
   "cell_type": "markdown",
   "id": "62c4a748",
   "metadata": {},
   "source": [
    "<div class=\"alert alert-info\">\n",
    "<b>ВЫВОД:</b>\n",
    "<br>\n",
    "    Как видно из графиков и рассчитанных данных, длительность звонков, количество сообщений и интернет трафик по тарифу \"Ультра\" имеет большую дисперсию по сравнению с тарифом «Смарт», и медианы по вышеперечисленным признакам также смещены в большую сторону. Пользователи тарифа \"Ультра\" всегда укладываются в лимиты звонков и смс, но небольшая часть не укаладывается в лимит интернет трафика.\n",
    "    В рамках тарифа \"Смарт\" можно наблюдать выбросы, это пользователи, которые не укладываются в лимиты тарифа.\n",
    "    \n",
    "    \n",
    "  "
   ]
  },
  {
   "cell_type": "markdown",
   "id": "69ce08fd",
   "metadata": {},
   "source": [
    "## Гипотезы\n"
   ]
  },
  {
   "cell_type": "markdown",
   "id": "9e12f0e9",
   "metadata": {},
   "source": [
    "### Средняя выручка пользователей тарифов Ультра и Смарт различаются"
   ]
  },
  {
   "cell_type": "markdown",
   "id": "86942065",
   "metadata": {},
   "source": [
    "H0 - Средняя выручка пользователей тарифов Ультра и Смарт, то есть средние значения равны\n",
    "\n",
    "H1 -  Средняя выручка пользователей тарифов Ультра и Смарт, то есть средние значения не равны\n",
    "\n",
    "\n",
    "Дисперсии выборок были рассчитаны выше, они отличаются больше чем на 5%."
   ]
  },
  {
   "cell_type": "code",
   "execution_count": 33,
   "id": "42bcb6a6",
   "metadata": {},
   "outputs": [
    {
     "name": "stdout",
     "output_type": "stream",
     "text": [
      "0      1950.0\n",
      "1      1950.0\n",
      "2      1950.0\n",
      "3      1950.0\n",
      "4      1950.0\n",
      "        ...  \n",
      "981    1950.0\n",
      "982    1950.0\n",
      "983    1950.0\n",
      "984    1950.0\n",
      "985    1950.0\n",
      "Name: revenue, Length: 986, dtype: float64\n",
      "p-значение: 1.927011394420941e-250\n",
      "Отвергаем нулевую гипотезу\n"
     ]
    }
   ],
   "source": [
    "ultra = data.query('tariff == \"ultra\"')['revenue']\n",
    "smart = data.query('tariff == \"smart\"')['revenue']\n",
    "print(ultra)\n",
    "alpha = .05\n",
    "\n",
    "results = st.ttest_ind(\n",
    "    ultra, \n",
    "    smart, \n",
    "    equal_var=False)\n",
    "\n",
    "print('p-значение:', results.pvalue)\n",
    "\n",
    "if (results.pvalue < alpha):\n",
    "    print(\"Отвергаем нулевую гипотезу\")\n",
    "else:\n",
    "    print(\"Не получилось отвергнуть нулевую гипотезу\")"
   ]
  },
  {
   "cell_type": "markdown",
   "id": "cd0462e4",
   "metadata": {},
   "source": [
    "<div class=\"alert alert-info\">\n",
    "<b>ВЫВОД:</b>\n",
    "<br>p-значение достаточно мало, что дает основание отвергнуть предположение об отсутствии различий между выручками у разных тарифных планов, то есть маловероятна случайность результатов теста гипотезы.\n",
    "    "
   ]
  },
  {
   "cell_type": "code",
   "execution_count": 34,
   "id": "5b2b81cc",
   "metadata": {},
   "outputs": [
    {
     "data": {
      "text/html": [
       "<div>\n",
       "<style scoped>\n",
       "    .dataframe tbody tr th:only-of-type {\n",
       "        vertical-align: middle;\n",
       "    }\n",
       "\n",
       "    .dataframe tbody tr th {\n",
       "        vertical-align: top;\n",
       "    }\n",
       "\n",
       "    .dataframe thead th {\n",
       "        text-align: right;\n",
       "    }\n",
       "</style>\n",
       "<table border=\"1\" class=\"dataframe\">\n",
       "  <thead>\n",
       "    <tr style=\"text-align: right;\">\n",
       "      <th></th>\n",
       "      <th>revenue</th>\n",
       "    </tr>\n",
       "    <tr>\n",
       "      <th>tariff</th>\n",
       "      <th></th>\n",
       "    </tr>\n",
       "  </thead>\n",
       "  <tbody>\n",
       "    <tr>\n",
       "      <th>smart</th>\n",
       "      <td>1021.0</td>\n",
       "    </tr>\n",
       "    <tr>\n",
       "      <th>ultra</th>\n",
       "      <td>1950.0</td>\n",
       "    </tr>\n",
       "  </tbody>\n",
       "</table>\n",
       "</div>"
      ],
      "text/plain": [
       "        revenue\n",
       "tariff         \n",
       "smart    1021.0\n",
       "ultra    1950.0"
      ]
     },
     "execution_count": 34,
     "metadata": {},
     "output_type": "execute_result"
    }
   ],
   "source": [
    "data.pivot_table(index='tariff', values='revenue', aggfunc='median')"
   ]
  },
  {
   "cell_type": "code",
   "execution_count": 35,
   "id": "6aab873f",
   "metadata": {},
   "outputs": [
    {
     "data": {
      "text/plain": [
       "<AxesSubplot:xlabel='tariff', ylabel='revenue'>"
      ]
     },
     "execution_count": 35,
     "metadata": {},
     "output_type": "execute_result"
    },
    {
     "data": {
      "image/png": "[encoded data removed]",
      "text/plain": [
       "<Figure size 432x288 with 1 Axes>"
      ]
     },
     "metadata": {
      "needs_background": "light"
     },
     "output_type": "display_data"
    }
   ],
   "source": [
    "sns.boxplot(x=\"tariff\", y='revenue',data=data)"
   ]
  },
  {
   "cell_type": "markdown",
   "id": "32d5c5ec",
   "metadata": {},
   "source": [
    "<div class=\"alert alert-info\">\n",
    "<b>ВЫВОД:</b>\n",
    "<br> Средние значения выручки по тарифам различаются почти в 3 раза. Если у пользователя подключен тариф \"Смарт\" с абонентской платой в 550 рублей, то он скорее всего по итогам месяца заплатит гораздо больше из-за нехватки услуг в рамках тарифного пакета, это видно из графика.\n",
    "\n",
    "В заключение можно подтвердить, что доходы \"Мегалайна\" с пользователя по тарифу \"Ультра\" действительно отличаются по сравнению с доходами от тарифа \"Смарт\"."
   ]
  },
  {
   "cell_type": "markdown",
   "id": "d8b37365",
   "metadata": {},
   "source": [
    "### Cредняя выручка пользователей из Москвы равна средней выручке пользователей из других регионов\n",
    "H0  — средняя выручка пользователей из Москвы равна средней выручке пользователей из других регионов.\n",
    "\n",
    "H1 — средняя выручка пользователей из Москвы отличается от средней выручке пользователей из других регионов.\n",
    "\n",
    "α=1%"
   ]
  },
  {
   "cell_type": "code",
   "execution_count": 36,
   "id": "167e47a5",
   "metadata": {},
   "outputs": [
    {
     "name": "stdout",
     "output_type": "stream",
     "text": [
      "p-значение: 0.5216952110000278\n",
      "Не получилось отвергнуть нулевую гипотезу\n"
     ]
    }
   ],
   "source": [
    "moscow = data.query('city == \"Москва\"')['revenue']\n",
    "regions = data.query('city != \"Москва\"')['revenue']\n",
    "\n",
    "alpha = .05\n",
    "\n",
    "results = st.ttest_ind(\n",
    "    moscow, \n",
    "    regions, \n",
    "    equal_var=False)\n",
    "\n",
    "print('p-значение:', results.pvalue)\n",
    "\n",
    "if (results.pvalue < alpha):\n",
    "    print(\"Отвергаем нулевую гипотезу\")\n",
    "else:\n",
    "    print(\"Не получилось отвергнуть нулевую гипотезу\")"
   ]
  },
  {
   "cell_type": "markdown",
   "id": "6424e8e4",
   "metadata": {},
   "source": [
    "<div class=\"alert alert-info\">\n",
    "<b>ВЫВОД:</b>\n",
    "<br>T-тест не дал возможности опровергунть исходную гипотезу о том, средняя выручка пользователей из Москвы равна средней выручке пользователей из других регионов."
   ]
  },
  {
   "cell_type": "markdown",
   "id": "212016f3",
   "metadata": {},
   "source": [
    "# Итоговый вывод"
   ]
  },
  {
   "cell_type": "markdown",
   "id": "8843844b",
   "metadata": {},
   "source": [
    "<div class=\"alert alert-info\">\n",
    "<b></b>\n",
    "<br>По результатам проведенной работы можно сделать вывод, что доходы от тарифа «Ультра» больше, чем от тарифа «Смарт»: в среднем «Мегалайн» от одного пользователя в месяц получает 1950 рублей и 616 рублей соответственно.\n",
    "\n",
    "Особенности использования тарифов заключаются в следующем:\n",
    "\n",
    "Некоторым пользователям тарифа «Смарт» не хватает услуг в рамках тарифного пакета - и они вынуждены брать дополнительные пакеты звонков, сообщений и интернет трафика. \n",
    "    \n",
    "  А пользователи тарифа «Ультра», напротив, не используют тарифный пакет в полном объеме.\n",
    "   \n",
    "   \n",
    "  С точки зрения бизнеса, на мой взгляд, интерес представляют пользователи тарифа \"Смарт\", которые не укладываются в лимиты представленных в рамках тарифа услуг. Им можно предложить перейти на более премиальный тариф \"Смарт\", что будет гораздо комфортнее. "
   ]
  }
 ],
 "metadata": {
  "ExecuteTimeLog": [
   {
    "duration": 108,
    "start_time": "2022-03-31T14:01:32.684Z"
   },
   {
    "duration": 125,
    "start_time": "2022-03-31T14:01:54.624Z"
   },
   {
    "duration": 6,
    "start_time": "2022-03-31T14:02:18.755Z"
   },
   {
    "duration": 64,
    "start_time": "2022-03-31T14:02:50.459Z"
   },
   {
    "duration": 2307,
    "start_time": "2022-03-31T14:02:59.019Z"
   },
   {
    "duration": 6,
    "start_time": "2022-03-31T14:03:04.867Z"
   },
   {
    "duration": 134,
    "start_time": "2022-03-31T14:03:06.899Z"
   },
   {
    "duration": 6,
    "start_time": "2022-03-31T14:04:03.776Z"
   },
   {
    "duration": 7,
    "start_time": "2022-03-31T14:04:11.544Z"
   },
   {
    "duration": 6,
    "start_time": "2022-03-31T14:05:49.789Z"
   },
   {
    "duration": 6,
    "start_time": "2022-03-31T14:05:58.278Z"
   },
   {
    "duration": 2014,
    "start_time": "2022-03-31T14:06:09.031Z"
   },
   {
    "duration": 6,
    "start_time": "2022-03-31T14:06:11.068Z"
   },
   {
    "duration": 195,
    "start_time": "2022-03-31T14:06:11.076Z"
   },
   {
    "duration": 0,
    "start_time": "2022-03-31T14:06:11.273Z"
   },
   {
    "duration": 0,
    "start_time": "2022-03-31T14:06:11.276Z"
   },
   {
    "duration": 0,
    "start_time": "2022-03-31T14:06:11.277Z"
   },
   {
    "duration": 0,
    "start_time": "2022-03-31T14:06:11.279Z"
   },
   {
    "duration": 0,
    "start_time": "2022-03-31T14:06:11.282Z"
   },
   {
    "duration": 0,
    "start_time": "2022-03-31T14:06:11.283Z"
   },
   {
    "duration": 0,
    "start_time": "2022-03-31T14:06:11.284Z"
   },
   {
    "duration": 0,
    "start_time": "2022-03-31T14:06:11.286Z"
   },
   {
    "duration": 0,
    "start_time": "2022-03-31T14:06:11.287Z"
   },
   {
    "duration": 6,
    "start_time": "2022-03-31T14:07:03.371Z"
   },
   {
    "duration": 6,
    "start_time": "2022-03-31T14:07:09.163Z"
   },
   {
    "duration": 1978,
    "start_time": "2022-03-31T14:07:15.889Z"
   },
   {
    "duration": 6,
    "start_time": "2022-03-31T14:07:17.870Z"
   },
   {
    "duration": 236,
    "start_time": "2022-03-31T14:07:17.878Z"
   },
   {
    "duration": 125,
    "start_time": "2022-03-31T14:07:18.117Z"
   },
   {
    "duration": 75,
    "start_time": "2022-03-31T14:07:18.244Z"
   },
   {
    "duration": 53,
    "start_time": "2022-03-31T14:07:18.322Z"
   },
   {
    "duration": 57,
    "start_time": "2022-03-31T14:07:18.377Z"
   },
   {
    "duration": 60,
    "start_time": "2022-03-31T14:07:18.437Z"
   },
   {
    "duration": 28,
    "start_time": "2022-03-31T14:07:18.499Z"
   },
   {
    "duration": 37,
    "start_time": "2022-03-31T14:07:18.531Z"
   },
   {
    "duration": 9,
    "start_time": "2022-03-31T14:07:18.570Z"
   },
   {
    "duration": 163,
    "start_time": "2022-03-31T14:07:18.582Z"
   },
   {
    "duration": 520,
    "start_time": "2022-03-31T14:07:43.140Z"
   },
   {
    "duration": 169,
    "start_time": "2022-03-31T14:08:10.342Z"
   },
   {
    "duration": 103,
    "start_time": "2022-03-31T14:08:45.951Z"
   },
   {
    "duration": 30,
    "start_time": "2022-03-31T14:09:11.974Z"
   },
   {
    "duration": 10,
    "start_time": "2022-03-31T14:09:43.485Z"
   },
   {
    "duration": 31,
    "start_time": "2022-03-31T14:09:50.268Z"
   },
   {
    "duration": 12,
    "start_time": "2022-03-31T14:59:16.720Z"
   },
   {
    "duration": 10,
    "start_time": "2022-03-31T15:01:08.317Z"
   },
   {
    "duration": 63,
    "start_time": "2022-03-31T15:01:25.872Z"
   },
   {
    "duration": 11,
    "start_time": "2022-03-31T15:03:57.689Z"
   },
   {
    "duration": 68,
    "start_time": "2022-04-01T03:51:21.296Z"
   },
   {
    "duration": 2336,
    "start_time": "2022-04-01T03:51:31.937Z"
   },
   {
    "duration": 7,
    "start_time": "2022-04-01T03:51:34.275Z"
   },
   {
    "duration": 205,
    "start_time": "2022-04-01T03:51:34.284Z"
   },
   {
    "duration": 168,
    "start_time": "2022-04-01T03:51:34.492Z"
   },
   {
    "duration": 116,
    "start_time": "2022-04-01T03:51:34.662Z"
   },
   {
    "duration": 28,
    "start_time": "2022-04-01T03:51:34.780Z"
   },
   {
    "duration": 62,
    "start_time": "2022-04-01T03:51:34.810Z"
   },
   {
    "duration": 122,
    "start_time": "2022-04-01T03:51:34.874Z"
   },
   {
    "duration": 356288,
    "start_time": "2022-04-01T03:51:34.999Z"
   },
   {
    "duration": 0,
    "start_time": "2022-04-01T03:57:31.290Z"
   },
   {
    "duration": 0,
    "start_time": "2022-04-01T03:57:31.292Z"
   },
   {
    "duration": 0,
    "start_time": "2022-04-01T03:57:31.294Z"
   },
   {
    "duration": 0,
    "start_time": "2022-04-01T03:57:31.295Z"
   },
   {
    "duration": 0,
    "start_time": "2022-04-01T03:57:31.297Z"
   },
   {
    "duration": 0,
    "start_time": "2022-04-01T03:57:31.298Z"
   },
   {
    "duration": 0,
    "start_time": "2022-04-01T03:57:31.300Z"
   },
   {
    "duration": 0,
    "start_time": "2022-04-01T03:57:31.301Z"
   },
   {
    "duration": 0,
    "start_time": "2022-04-01T03:57:31.302Z"
   },
   {
    "duration": 0,
    "start_time": "2022-04-01T03:57:31.304Z"
   },
   {
    "duration": 0,
    "start_time": "2022-04-01T03:57:31.305Z"
   },
   {
    "duration": 74,
    "start_time": "2022-04-01T12:19:35.485Z"
   },
   {
    "duration": 2328,
    "start_time": "2022-04-01T12:19:41.819Z"
   },
   {
    "duration": 6,
    "start_time": "2022-04-01T12:19:44.150Z"
   },
   {
    "duration": 135,
    "start_time": "2022-04-01T12:19:48.450Z"
   },
   {
    "duration": 2007,
    "start_time": "2022-04-01T12:23:13.714Z"
   },
   {
    "duration": 6,
    "start_time": "2022-04-01T12:23:15.724Z"
   },
   {
    "duration": 219,
    "start_time": "2022-04-01T12:23:15.733Z"
   },
   {
    "duration": 179,
    "start_time": "2022-04-01T12:23:15.955Z"
   },
   {
    "duration": 124,
    "start_time": "2022-04-01T12:23:16.137Z"
   },
   {
    "duration": 43,
    "start_time": "2022-04-01T12:23:16.263Z"
   },
   {
    "duration": 77,
    "start_time": "2022-04-01T12:23:16.308Z"
   },
   {
    "duration": 177,
    "start_time": "2022-04-01T12:23:16.387Z"
   },
   {
    "duration": 552,
    "start_time": "2022-04-01T12:23:16.566Z"
   },
   {
    "duration": 261,
    "start_time": "2022-04-01T12:23:17.123Z"
   },
   {
    "duration": 599,
    "start_time": "2022-04-01T12:23:17.387Z"
   },
   {
    "duration": 0,
    "start_time": "2022-04-01T12:23:17.989Z"
   },
   {
    "duration": 0,
    "start_time": "2022-04-01T12:23:17.990Z"
   },
   {
    "duration": 0,
    "start_time": "2022-04-01T12:23:17.993Z"
   },
   {
    "duration": 0,
    "start_time": "2022-04-01T12:23:17.995Z"
   },
   {
    "duration": 0,
    "start_time": "2022-04-01T12:23:17.997Z"
   },
   {
    "duration": 0,
    "start_time": "2022-04-01T12:23:17.999Z"
   },
   {
    "duration": 0,
    "start_time": "2022-04-01T12:23:18.001Z"
   },
   {
    "duration": 0,
    "start_time": "2022-04-01T12:23:18.003Z"
   },
   {
    "duration": 0,
    "start_time": "2022-04-01T12:23:18.005Z"
   },
   {
    "duration": 63,
    "start_time": "2022-04-01T12:23:33.826Z"
   },
   {
    "duration": 36,
    "start_time": "2022-04-01T12:23:37.907Z"
   },
   {
    "duration": 37,
    "start_time": "2022-04-01T12:23:52.427Z"
   },
   {
    "duration": 2029,
    "start_time": "2022-04-01T12:24:01.282Z"
   },
   {
    "duration": 8,
    "start_time": "2022-04-01T12:24:03.314Z"
   },
   {
    "duration": 231,
    "start_time": "2022-04-01T12:24:03.325Z"
   },
   {
    "duration": 200,
    "start_time": "2022-04-01T12:24:03.560Z"
   },
   {
    "duration": 164,
    "start_time": "2022-04-01T12:24:03.763Z"
   },
   {
    "duration": 27,
    "start_time": "2022-04-01T12:24:03.983Z"
   },
   {
    "duration": 80,
    "start_time": "2022-04-01T12:24:04.013Z"
   },
   {
    "duration": 297,
    "start_time": "2022-04-01T12:24:04.096Z"
   },
   {
    "duration": 792,
    "start_time": "2022-04-01T12:24:04.396Z"
   },
   {
    "duration": 124,
    "start_time": "2022-04-01T12:24:05.191Z"
   },
   {
    "duration": 367,
    "start_time": "2022-04-01T12:24:05.318Z"
   },
   {
    "duration": 0,
    "start_time": "2022-04-01T12:24:05.687Z"
   },
   {
    "duration": 0,
    "start_time": "2022-04-01T12:24:05.689Z"
   },
   {
    "duration": 0,
    "start_time": "2022-04-01T12:24:05.690Z"
   },
   {
    "duration": 0,
    "start_time": "2022-04-01T12:24:05.692Z"
   },
   {
    "duration": 0,
    "start_time": "2022-04-01T12:24:05.694Z"
   },
   {
    "duration": 0,
    "start_time": "2022-04-01T12:24:05.695Z"
   },
   {
    "duration": 0,
    "start_time": "2022-04-01T12:24:05.697Z"
   },
   {
    "duration": 0,
    "start_time": "2022-04-01T12:24:05.698Z"
   },
   {
    "duration": 0,
    "start_time": "2022-04-01T12:24:05.700Z"
   },
   {
    "duration": 52,
    "start_time": "2022-04-01T12:24:17.585Z"
   },
   {
    "duration": 13,
    "start_time": "2022-04-01T12:27:53.828Z"
   },
   {
    "duration": 34,
    "start_time": "2022-04-01T12:28:17.804Z"
   },
   {
    "duration": 37,
    "start_time": "2022-04-01T12:31:23.030Z"
   },
   {
    "duration": 248,
    "start_time": "2022-04-01T12:31:32.206Z"
   },
   {
    "duration": 78,
    "start_time": "2022-04-01T12:32:18.352Z"
   },
   {
    "duration": 125,
    "start_time": "2022-04-01T12:32:50.072Z"
   },
   {
    "duration": 82,
    "start_time": "2022-04-01T12:35:39.310Z"
   },
   {
    "duration": 98,
    "start_time": "2022-04-01T12:36:00.171Z"
   },
   {
    "duration": 108,
    "start_time": "2022-04-01T12:36:59.069Z"
   },
   {
    "duration": 1776,
    "start_time": "2022-04-01T12:39:06.477Z"
   },
   {
    "duration": 133,
    "start_time": "2022-04-01T12:39:14.683Z"
   },
   {
    "duration": 64,
    "start_time": "2022-04-01T12:39:50.947Z"
   },
   {
    "duration": 87,
    "start_time": "2022-04-01T12:39:59.718Z"
   },
   {
    "duration": 39,
    "start_time": "2022-04-01T12:40:34.694Z"
   },
   {
    "duration": 46,
    "start_time": "2022-04-01T12:41:34.246Z"
   },
   {
    "duration": 43,
    "start_time": "2022-04-01T12:43:08.376Z"
   },
   {
    "duration": 42,
    "start_time": "2022-04-01T12:44:02.286Z"
   },
   {
    "duration": 43,
    "start_time": "2022-04-01T12:45:32.539Z"
   },
   {
    "duration": 483,
    "start_time": "2022-04-01T12:49:47.694Z"
   },
   {
    "duration": 300,
    "start_time": "2022-04-01T12:49:56.236Z"
   },
   {
    "duration": 238,
    "start_time": "2022-04-01T12:50:04.157Z"
   },
   {
    "duration": 249,
    "start_time": "2022-04-01T12:50:21.685Z"
   },
   {
    "duration": 244,
    "start_time": "2022-04-01T12:50:26.733Z"
   },
   {
    "duration": 90,
    "start_time": "2022-04-01T12:51:45.300Z"
   },
   {
    "duration": 588087,
    "start_time": "2022-04-01T12:54:59.655Z"
   },
   {
    "duration": 71,
    "start_time": "2022-04-01T13:04:48.125Z"
   },
   {
    "duration": 41,
    "start_time": "2022-04-01T13:04:48.198Z"
   },
   {
    "duration": 32,
    "start_time": "2022-04-01T13:04:48.308Z"
   },
   {
    "duration": 14,
    "start_time": "2022-04-01T13:06:12.435Z"
   },
   {
    "duration": 34,
    "start_time": "2022-04-01T13:06:20.843Z"
   },
   {
    "duration": 12,
    "start_time": "2022-04-01T13:10:43.229Z"
   },
   {
    "duration": 22,
    "start_time": "2022-04-01T13:10:55.309Z"
   },
   {
    "duration": 12,
    "start_time": "2022-04-01T13:11:34.647Z"
   },
   {
    "duration": 18,
    "start_time": "2022-04-01T13:11:46.639Z"
   },
   {
    "duration": 23,
    "start_time": "2022-04-01T13:11:58.950Z"
   },
   {
    "duration": 30,
    "start_time": "2022-04-01T13:12:51.490Z"
   },
   {
    "duration": 27,
    "start_time": "2022-04-01T13:14:32.898Z"
   },
   {
    "duration": 32,
    "start_time": "2022-04-01T13:14:43.633Z"
   },
   {
    "duration": 31,
    "start_time": "2022-04-01T13:14:55.010Z"
   },
   {
    "duration": 30,
    "start_time": "2022-04-01T13:15:07.890Z"
   },
   {
    "duration": 29,
    "start_time": "2022-04-01T13:15:14.842Z"
   },
   {
    "duration": 28,
    "start_time": "2022-04-01T13:16:36.363Z"
   },
   {
    "duration": 28,
    "start_time": "2022-04-01T13:17:26.818Z"
   },
   {
    "duration": 496,
    "start_time": "2022-04-01T13:18:19.055Z"
   },
   {
    "duration": 31,
    "start_time": "2022-04-01T13:18:44.988Z"
   },
   {
    "duration": 32,
    "start_time": "2022-04-01T13:18:58.916Z"
   },
   {
    "duration": 28,
    "start_time": "2022-04-01T13:19:15.261Z"
   },
   {
    "duration": 31,
    "start_time": "2022-04-01T13:19:24.829Z"
   },
   {
    "duration": 27,
    "start_time": "2022-04-01T13:20:39.526Z"
   },
   {
    "duration": 121,
    "start_time": "2022-04-01T13:20:54.326Z"
   },
   {
    "duration": 31,
    "start_time": "2022-04-01T13:20:59.470Z"
   },
   {
    "duration": 29,
    "start_time": "2022-04-01T13:21:54.038Z"
   },
   {
    "duration": 20,
    "start_time": "2022-04-01T13:22:57.175Z"
   },
   {
    "duration": 17,
    "start_time": "2022-04-01T13:23:09.760Z"
   },
   {
    "duration": 18,
    "start_time": "2022-04-01T13:23:16.912Z"
   },
   {
    "duration": 2008,
    "start_time": "2022-04-01T13:23:29.825Z"
   },
   {
    "duration": 7,
    "start_time": "2022-04-01T13:23:31.836Z"
   },
   {
    "duration": 352,
    "start_time": "2022-04-01T13:23:31.845Z"
   },
   {
    "duration": 200,
    "start_time": "2022-04-01T13:23:32.200Z"
   },
   {
    "duration": 137,
    "start_time": "2022-04-01T13:23:32.403Z"
   },
   {
    "duration": 49,
    "start_time": "2022-04-01T13:23:32.542Z"
   },
   {
    "duration": 33,
    "start_time": "2022-04-01T13:23:32.593Z"
   },
   {
    "duration": 213,
    "start_time": "2022-04-01T13:23:32.684Z"
   },
   {
    "duration": 514,
    "start_time": "2022-04-01T13:23:32.899Z"
   },
   {
    "duration": 198,
    "start_time": "2022-04-01T13:23:33.416Z"
   },
   {
    "duration": 798,
    "start_time": "2022-04-01T13:23:33.617Z"
   },
   {
    "duration": 291,
    "start_time": "2022-04-01T13:23:34.418Z"
   },
   {
    "duration": 0,
    "start_time": "2022-04-01T13:33:04.311Z"
   },
   {
    "duration": 0,
    "start_time": "2022-04-01T13:33:04.313Z"
   },
   {
    "duration": 0,
    "start_time": "2022-04-01T13:33:04.315Z"
   },
   {
    "duration": 0,
    "start_time": "2022-04-01T13:33:04.317Z"
   },
   {
    "duration": 0,
    "start_time": "2022-04-01T13:33:04.323Z"
   },
   {
    "duration": 0,
    "start_time": "2022-04-01T13:33:04.325Z"
   },
   {
    "duration": 0,
    "start_time": "2022-04-01T13:33:04.327Z"
   },
   {
    "duration": 0,
    "start_time": "2022-04-01T13:33:04.332Z"
   },
   {
    "duration": 0,
    "start_time": "2022-04-01T13:33:04.336Z"
   },
   {
    "duration": 0,
    "start_time": "2022-04-01T13:33:04.338Z"
   },
   {
    "duration": 0,
    "start_time": "2022-04-01T13:33:04.342Z"
   },
   {
    "duration": 0,
    "start_time": "2022-04-01T13:33:04.344Z"
   },
   {
    "duration": 12,
    "start_time": "2022-04-01T13:33:26.497Z"
   },
   {
    "duration": 38,
    "start_time": "2022-04-01T13:33:32.842Z"
   },
   {
    "duration": 6,
    "start_time": "2022-04-01T13:33:37.410Z"
   },
   {
    "duration": 11,
    "start_time": "2022-04-01T13:33:41.258Z"
   },
   {
    "duration": 20,
    "start_time": "2022-04-01T13:33:44.330Z"
   },
   {
    "duration": 11,
    "start_time": "2022-04-01T13:33:49.241Z"
   },
   {
    "duration": 11,
    "start_time": "2022-04-01T13:33:52.385Z"
   },
   {
    "duration": 13,
    "start_time": "2022-04-01T13:33:56.945Z"
   },
   {
    "duration": 12,
    "start_time": "2022-04-01T13:37:00.045Z"
   },
   {
    "duration": 10,
    "start_time": "2022-04-01T13:37:25.180Z"
   },
   {
    "duration": 13,
    "start_time": "2022-04-01T13:37:28.740Z"
   },
   {
    "duration": 12,
    "start_time": "2022-04-01T13:39:20.157Z"
   },
   {
    "duration": 11,
    "start_time": "2022-04-01T13:39:24.125Z"
   },
   {
    "duration": 18,
    "start_time": "2022-04-01T13:39:32.734Z"
   },
   {
    "duration": 10,
    "start_time": "2022-04-01T13:39:35.414Z"
   },
   {
    "duration": 20,
    "start_time": "2022-04-01T13:52:44.297Z"
   },
   {
    "duration": 18,
    "start_time": "2022-04-01T13:53:24.116Z"
   },
   {
    "duration": 38,
    "start_time": "2022-04-01T13:54:40.945Z"
   },
   {
    "duration": 36,
    "start_time": "2022-04-01T13:54:51.930Z"
   },
   {
    "duration": 18,
    "start_time": "2022-04-01T13:56:27.355Z"
   },
   {
    "duration": 12,
    "start_time": "2022-04-01T13:57:01.859Z"
   },
   {
    "duration": 20,
    "start_time": "2022-04-01T13:57:04.619Z"
   },
   {
    "duration": 53,
    "start_time": "2022-04-01T14:01:23.640Z"
   },
   {
    "duration": 6,
    "start_time": "2022-04-01T14:01:48.639Z"
   },
   {
    "duration": 19,
    "start_time": "2022-04-01T14:01:51.671Z"
   },
   {
    "duration": 50,
    "start_time": "2022-04-01T14:03:08.833Z"
   },
   {
    "duration": 13,
    "start_time": "2022-04-01T14:05:48.242Z"
   },
   {
    "duration": 15,
    "start_time": "2022-04-01T14:06:03.285Z"
   },
   {
    "duration": 13,
    "start_time": "2022-04-01T14:08:49.661Z"
   },
   {
    "duration": 12,
    "start_time": "2022-04-01T14:09:10.037Z"
   },
   {
    "duration": 2085,
    "start_time": "2022-04-01T14:09:20.842Z"
   },
   {
    "duration": 7,
    "start_time": "2022-04-01T14:09:22.931Z"
   },
   {
    "duration": 263,
    "start_time": "2022-04-01T14:09:22.940Z"
   },
   {
    "duration": 261,
    "start_time": "2022-04-01T14:09:23.205Z"
   },
   {
    "duration": 114,
    "start_time": "2022-04-01T14:09:23.471Z"
   },
   {
    "duration": 28,
    "start_time": "2022-04-01T14:09:23.588Z"
   },
   {
    "duration": 51,
    "start_time": "2022-04-01T14:09:23.618Z"
   },
   {
    "duration": 126,
    "start_time": "2022-04-01T14:09:23.684Z"
   },
   {
    "duration": 276,
    "start_time": "2022-04-01T14:09:23.812Z"
   },
   {
    "duration": 76,
    "start_time": "2022-04-01T14:09:24.091Z"
   },
   {
    "duration": 271,
    "start_time": "2022-04-01T14:09:24.185Z"
   },
   {
    "duration": 108,
    "start_time": "2022-04-01T14:09:24.459Z"
   },
   {
    "duration": 0,
    "start_time": "2022-04-01T14:19:10.326Z"
   },
   {
    "duration": 1,
    "start_time": "2022-04-01T14:19:10.328Z"
   },
   {
    "duration": 0,
    "start_time": "2022-04-01T14:19:10.331Z"
   },
   {
    "duration": 0,
    "start_time": "2022-04-01T14:19:10.384Z"
   },
   {
    "duration": 0,
    "start_time": "2022-04-01T14:19:10.387Z"
   },
   {
    "duration": 0,
    "start_time": "2022-04-01T14:19:10.390Z"
   },
   {
    "duration": 0,
    "start_time": "2022-04-01T14:19:10.393Z"
   },
   {
    "duration": 0,
    "start_time": "2022-04-01T14:19:10.395Z"
   },
   {
    "duration": 14,
    "start_time": "2022-04-01T14:19:13.704Z"
   },
   {
    "duration": 59,
    "start_time": "2022-04-01T14:19:21.392Z"
   },
   {
    "duration": 40,
    "start_time": "2022-04-01T14:19:24.767Z"
   },
   {
    "duration": 38,
    "start_time": "2022-04-01T14:19:28.280Z"
   },
   {
    "duration": 52,
    "start_time": "2022-04-01T14:19:33.095Z"
   },
   {
    "duration": 14,
    "start_time": "2022-04-01T14:19:45.816Z"
   },
   {
    "duration": 14,
    "start_time": "2022-04-01T14:19:59.568Z"
   },
   {
    "duration": 13,
    "start_time": "2022-04-01T14:20:13.619Z"
   },
   {
    "duration": 20,
    "start_time": "2022-04-01T14:20:28.424Z"
   },
   {
    "duration": 56,
    "start_time": "2022-04-01T14:20:38.832Z"
   },
   {
    "duration": 39,
    "start_time": "2022-04-01T14:20:41.280Z"
   },
   {
    "duration": 41,
    "start_time": "2022-04-01T14:20:43.553Z"
   },
   {
    "duration": 48,
    "start_time": "2022-04-01T14:20:48.136Z"
   },
   {
    "duration": 50,
    "start_time": "2022-04-01T14:21:04.345Z"
   },
   {
    "duration": 70,
    "start_time": "2022-04-01T14:21:20.433Z"
   },
   {
    "duration": 72,
    "start_time": "2022-04-01T14:22:24.284Z"
   },
   {
    "duration": 78,
    "start_time": "2022-04-01T14:22:44.419Z"
   },
   {
    "duration": 6,
    "start_time": "2022-04-01T14:22:56.844Z"
   },
   {
    "duration": 23,
    "start_time": "2022-04-01T14:22:59.058Z"
   },
   {
    "duration": 17,
    "start_time": "2022-04-01T14:23:45.572Z"
   },
   {
    "duration": 383,
    "start_time": "2022-04-01T14:32:17.402Z"
   },
   {
    "duration": 10,
    "start_time": "2022-04-01T14:35:06.893Z"
   },
   {
    "duration": 10,
    "start_time": "2022-04-01T14:35:10.381Z"
   },
   {
    "duration": 381,
    "start_time": "2022-04-01T14:35:52.880Z"
   },
   {
    "duration": 8,
    "start_time": "2022-04-01T14:36:14.742Z"
   },
   {
    "duration": 49,
    "start_time": "2022-04-01T14:36:22.854Z"
   },
   {
    "duration": 51,
    "start_time": "2022-04-01T14:36:53.480Z"
   },
   {
    "duration": 6,
    "start_time": "2022-04-01T14:37:39.223Z"
   },
   {
    "duration": 389,
    "start_time": "2022-04-01T14:37:41.495Z"
   },
   {
    "duration": 6,
    "start_time": "2022-04-01T14:38:20.128Z"
   },
   {
    "duration": 400,
    "start_time": "2022-04-01T14:38:21.999Z"
   },
   {
    "duration": 28,
    "start_time": "2022-04-01T14:39:22.855Z"
   },
   {
    "duration": 405,
    "start_time": "2022-04-01T14:39:39.011Z"
   },
   {
    "duration": 2075,
    "start_time": "2022-04-01T14:39:56.387Z"
   },
   {
    "duration": 7,
    "start_time": "2022-04-01T14:39:58.464Z"
   },
   {
    "duration": 243,
    "start_time": "2022-04-01T14:39:58.473Z"
   },
   {
    "duration": 194,
    "start_time": "2022-04-01T14:39:58.720Z"
   },
   {
    "duration": 131,
    "start_time": "2022-04-01T14:39:58.916Z"
   },
   {
    "duration": 39,
    "start_time": "2022-04-01T14:39:59.049Z"
   },
   {
    "duration": 32,
    "start_time": "2022-04-01T14:39:59.091Z"
   },
   {
    "duration": 145,
    "start_time": "2022-04-01T14:39:59.126Z"
   },
   {
    "duration": 289,
    "start_time": "2022-04-01T14:39:59.273Z"
   },
   {
    "duration": 77,
    "start_time": "2022-04-01T14:39:59.565Z"
   },
   {
    "duration": 274,
    "start_time": "2022-04-01T14:39:59.644Z"
   },
   {
    "duration": 120,
    "start_time": "2022-04-01T14:39:59.920Z"
   },
   {
    "duration": 565049,
    "start_time": "2022-04-01T14:40:00.042Z"
   },
   {
    "duration": 14,
    "start_time": "2022-04-01T14:49:25.093Z"
   },
   {
    "duration": 80,
    "start_time": "2022-04-01T14:49:25.109Z"
   },
   {
    "duration": 40,
    "start_time": "2022-04-01T14:49:25.191Z"
   },
   {
    "duration": 64,
    "start_time": "2022-04-01T14:49:25.233Z"
   },
   {
    "duration": 19,
    "start_time": "2022-04-01T14:49:25.866Z"
   },
   {
    "duration": 161,
    "start_time": "2022-04-01T14:49:25.887Z"
   },
   {
    "duration": 0,
    "start_time": "2022-04-01T14:49:26.050Z"
   },
   {
    "duration": 0,
    "start_time": "2022-04-01T14:49:26.052Z"
   },
   {
    "duration": 0,
    "start_time": "2022-04-01T14:49:26.054Z"
   },
   {
    "duration": 0,
    "start_time": "2022-04-01T14:49:26.056Z"
   },
   {
    "duration": 0,
    "start_time": "2022-04-01T14:49:26.060Z"
   },
   {
    "duration": 0,
    "start_time": "2022-04-01T14:49:26.084Z"
   },
   {
    "duration": 0,
    "start_time": "2022-04-01T14:49:26.085Z"
   },
   {
    "duration": 0,
    "start_time": "2022-04-01T14:49:26.087Z"
   },
   {
    "duration": 0,
    "start_time": "2022-04-01T14:49:26.088Z"
   },
   {
    "duration": 12,
    "start_time": "2022-04-01T14:49:54.965Z"
   },
   {
    "duration": 11,
    "start_time": "2022-04-01T14:51:49.370Z"
   },
   {
    "duration": 19,
    "start_time": "2022-04-01T14:51:57.694Z"
   },
   {
    "duration": 15,
    "start_time": "2022-04-01T14:52:13.411Z"
   },
   {
    "duration": 378,
    "start_time": "2022-04-01T14:52:20.283Z"
   },
   {
    "duration": 15,
    "start_time": "2022-04-01T14:54:34.543Z"
   },
   {
    "duration": 17,
    "start_time": "2022-04-01T14:56:51.676Z"
   },
   {
    "duration": 77,
    "start_time": "2022-04-01T14:57:57.000Z"
   },
   {
    "duration": 52,
    "start_time": "2022-04-01T14:58:18.984Z"
   },
   {
    "duration": 59,
    "start_time": "2022-04-01T14:58:49.754Z"
   },
   {
    "duration": 6,
    "start_time": "2022-04-01T14:58:58.849Z"
   },
   {
    "duration": 423,
    "start_time": "2022-04-01T14:59:02.552Z"
   },
   {
    "duration": 85,
    "start_time": "2022-04-01T15:02:47.779Z"
   },
   {
    "duration": 567956,
    "start_time": "2022-04-01T15:02:59.732Z"
   },
   {
    "duration": 59,
    "start_time": "2022-04-01T15:12:27.690Z"
   },
   {
    "duration": 60,
    "start_time": "2022-04-01T15:12:27.751Z"
   },
   {
    "duration": 64,
    "start_time": "2022-04-01T15:12:27.853Z"
   },
   {
    "duration": 106,
    "start_time": "2022-04-01T15:12:27.920Z"
   },
   {
    "duration": 67,
    "start_time": "2022-04-01T15:12:28.029Z"
   },
   {
    "duration": 346,
    "start_time": "2022-04-01T15:12:28.109Z"
   },
   {
    "duration": 6,
    "start_time": "2022-04-01T15:12:28.461Z"
   },
   {
    "duration": 244,
    "start_time": "2022-04-01T15:12:28.709Z"
   },
   {
    "duration": 58,
    "start_time": "2022-04-01T15:12:28.955Z"
   },
   {
    "duration": 13,
    "start_time": "2022-04-01T15:12:29.015Z"
   },
   {
    "duration": 0,
    "start_time": "2022-04-01T15:12:29.030Z"
   },
   {
    "duration": 0,
    "start_time": "2022-04-01T15:12:29.035Z"
   },
   {
    "duration": 0,
    "start_time": "2022-04-01T15:12:29.036Z"
   },
   {
    "duration": 0,
    "start_time": "2022-04-01T15:12:29.038Z"
   },
   {
    "duration": 15,
    "start_time": "2022-04-01T15:14:39.972Z"
   },
   {
    "duration": 292,
    "start_time": "2022-04-01T15:18:42.527Z"
   },
   {
    "duration": 44,
    "start_time": "2022-04-01T15:18:59.248Z"
   },
   {
    "duration": 12,
    "start_time": "2022-04-01T15:20:12.821Z"
   },
   {
    "duration": 12,
    "start_time": "2022-04-01T15:20:22.232Z"
   },
   {
    "duration": 13,
    "start_time": "2022-04-01T15:21:41.818Z"
   },
   {
    "duration": 14,
    "start_time": "2022-04-01T15:21:51.386Z"
   },
   {
    "duration": 12,
    "start_time": "2022-04-01T15:22:27.539Z"
   },
   {
    "duration": 190,
    "start_time": "2022-04-01T15:24:16.141Z"
   },
   {
    "duration": 246,
    "start_time": "2022-04-01T15:24:36.493Z"
   },
   {
    "duration": 197,
    "start_time": "2022-04-01T15:25:11.342Z"
   },
   {
    "duration": 188,
    "start_time": "2022-04-01T15:25:39.198Z"
   },
   {
    "duration": 184,
    "start_time": "2022-04-01T15:25:48.013Z"
   },
   {
    "duration": 1940,
    "start_time": "2022-04-01T15:26:22.502Z"
   },
   {
    "duration": 27,
    "start_time": "2022-04-01T15:30:05.198Z"
   },
   {
    "duration": 23,
    "start_time": "2022-04-01T15:30:25.284Z"
   },
   {
    "duration": 11,
    "start_time": "2022-04-01T15:30:31.313Z"
   },
   {
    "duration": 180,
    "start_time": "2022-04-01T15:30:38.513Z"
   },
   {
    "duration": 1570,
    "start_time": "2022-04-12T10:55:13.341Z"
   },
   {
    "duration": 4,
    "start_time": "2022-04-12T10:55:14.913Z"
   },
   {
    "duration": 166,
    "start_time": "2022-04-12T10:55:14.918Z"
   },
   {
    "duration": 110,
    "start_time": "2022-04-12T10:55:15.087Z"
   },
   {
    "duration": 87,
    "start_time": "2022-04-12T10:55:15.199Z"
   },
   {
    "duration": 18,
    "start_time": "2022-04-12T10:55:15.287Z"
   },
   {
    "duration": 19,
    "start_time": "2022-04-12T10:55:15.307Z"
   },
   {
    "duration": 98,
    "start_time": "2022-04-12T10:55:15.328Z"
   },
   {
    "duration": 162,
    "start_time": "2022-04-12T10:55:15.428Z"
   },
   {
    "duration": 48,
    "start_time": "2022-04-12T10:55:15.592Z"
   },
   {
    "duration": 154,
    "start_time": "2022-04-12T10:55:15.642Z"
   },
   {
    "duration": 71,
    "start_time": "2022-04-12T10:55:15.798Z"
   },
   {
    "duration": 2104,
    "start_time": "2022-04-12T10:57:25.530Z"
   },
   {
    "duration": 5,
    "start_time": "2022-04-12T10:57:27.636Z"
   },
   {
    "duration": 247,
    "start_time": "2022-04-12T10:57:27.643Z"
   },
   {
    "duration": 121,
    "start_time": "2022-04-12T10:57:27.893Z"
   },
   {
    "duration": 82,
    "start_time": "2022-04-12T10:57:28.015Z"
   },
   {
    "duration": 19,
    "start_time": "2022-04-12T10:57:28.099Z"
   },
   {
    "duration": 41,
    "start_time": "2022-04-12T10:57:28.120Z"
   },
   {
    "duration": 74,
    "start_time": "2022-04-12T10:57:28.163Z"
   },
   {
    "duration": 158,
    "start_time": "2022-04-12T10:57:28.239Z"
   },
   {
    "duration": 55,
    "start_time": "2022-04-12T10:57:28.400Z"
   },
   {
    "duration": 150,
    "start_time": "2022-04-12T10:57:28.457Z"
   },
   {
    "duration": 71,
    "start_time": "2022-04-12T10:57:28.609Z"
   },
   {
    "duration": 430559,
    "start_time": "2022-04-12T10:57:28.682Z"
   },
   {
    "duration": 20,
    "start_time": "2022-04-12T11:04:39.243Z"
   },
   {
    "duration": 51,
    "start_time": "2022-04-12T11:04:39.265Z"
   },
   {
    "duration": 27,
    "start_time": "2022-04-12T11:04:39.318Z"
   },
   {
    "duration": 31,
    "start_time": "2022-04-12T11:04:39.346Z"
   },
   {
    "duration": 48,
    "start_time": "2022-04-12T11:04:39.379Z"
   },
   {
    "duration": 55,
    "start_time": "2022-04-12T11:04:39.429Z"
   },
   {
    "duration": 4,
    "start_time": "2022-04-12T11:04:39.486Z"
   },
   {
    "duration": 265,
    "start_time": "2022-04-12T11:04:39.492Z"
   },
   {
    "duration": 140,
    "start_time": "2022-04-12T11:04:39.759Z"
   },
   {
    "duration": 27,
    "start_time": "2022-04-12T11:04:39.902Z"
   },
   {
    "duration": 135,
    "start_time": "2022-04-12T11:04:39.930Z"
   },
   {
    "duration": 121,
    "start_time": "2022-04-12T11:04:40.068Z"
   },
   {
    "duration": 129,
    "start_time": "2022-04-12T11:04:40.191Z"
   },
   {
    "duration": 14,
    "start_time": "2022-04-12T11:04:40.322Z"
   },
   {
    "duration": 13,
    "start_time": "2022-04-12T11:04:40.354Z"
   },
   {
    "duration": 111,
    "start_time": "2022-04-12T11:04:40.369Z"
   },
   {
    "duration": 109,
    "start_time": "2022-04-12T11:04:40.481Z"
   },
   {
    "duration": 28,
    "start_time": "2022-04-12T11:12:03.897Z"
   },
   {
    "duration": 1455,
    "start_time": "2022-04-13T00:13:23.082Z"
   },
   {
    "duration": 418,
    "start_time": "2022-04-13T00:13:30.596Z"
   },
   {
    "duration": 16,
    "start_time": "2022-04-13T01:19:53.613Z"
   },
   {
    "duration": 54,
    "start_time": "2022-04-13T01:20:10.948Z"
   },
   {
    "duration": 16,
    "start_time": "2022-04-13T01:20:15.337Z"
   },
   {
    "duration": 2338,
    "start_time": "2022-04-13T01:39:29.466Z"
   },
   {
    "duration": 13,
    "start_time": "2022-04-13T01:50:37.191Z"
   },
   {
    "duration": 163,
    "start_time": "2022-04-13T01:51:04.507Z"
   },
   {
    "duration": 15,
    "start_time": "2022-04-13T01:54:28.985Z"
   },
   {
    "duration": 13,
    "start_time": "2022-04-13T01:55:28.815Z"
   },
   {
    "duration": 153,
    "start_time": "2022-04-13T01:57:36.867Z"
   },
   {
    "duration": 243,
    "start_time": "2022-04-13T01:58:39.011Z"
   },
   {
    "duration": 1373307,
    "start_time": "2022-04-13T01:59:02.930Z"
   },
   {
    "duration": 12,
    "start_time": "2022-04-13T02:33:54.518Z"
   },
   {
    "duration": 1351,
    "start_time": "2022-04-13T02:34:06.490Z"
   },
   {
    "duration": 421,
    "start_time": "2022-04-13T02:34:07.843Z"
   },
   {
    "duration": 4,
    "start_time": "2022-04-13T02:34:08.267Z"
   },
   {
    "duration": 183,
    "start_time": "2022-04-13T02:34:08.273Z"
   },
   {
    "duration": 132,
    "start_time": "2022-04-13T02:34:08.458Z"
   },
   {
    "duration": 94,
    "start_time": "2022-04-13T02:34:08.592Z"
   },
   {
    "duration": 36,
    "start_time": "2022-04-13T02:34:08.688Z"
   },
   {
    "duration": 26,
    "start_time": "2022-04-13T02:34:08.726Z"
   },
   {
    "duration": 113,
    "start_time": "2022-04-13T02:34:08.754Z"
   },
   {
    "duration": 183,
    "start_time": "2022-04-13T02:34:08.872Z"
   },
   {
    "duration": 69,
    "start_time": "2022-04-13T02:34:09.057Z"
   },
   {
    "duration": 3,
    "start_time": "2022-04-13T02:34:09.129Z"
   },
   {
    "duration": 93,
    "start_time": "2022-04-13T02:34:09.134Z"
   },
   {
    "duration": 165,
    "start_time": "2022-04-13T02:34:09.229Z"
   },
   {
    "duration": 23,
    "start_time": "2022-04-13T02:34:09.396Z"
   },
   {
    "duration": 47,
    "start_time": "2022-04-13T02:34:09.422Z"
   },
   {
    "duration": 54,
    "start_time": "2022-04-13T02:34:09.472Z"
   },
   {
    "duration": 29,
    "start_time": "2022-04-13T02:34:09.528Z"
   },
   {
    "duration": 65,
    "start_time": "2022-04-13T02:34:09.559Z"
   },
   {
    "duration": 30,
    "start_time": "2022-04-13T02:34:09.626Z"
   },
   {
    "duration": 5,
    "start_time": "2022-04-13T02:34:09.658Z"
   },
   {
    "duration": 265,
    "start_time": "2022-04-13T02:34:09.665Z"
   },
   {
    "duration": 148,
    "start_time": "2022-04-13T02:34:09.932Z"
   },
   {
    "duration": 48,
    "start_time": "2022-04-13T02:34:10.082Z"
   },
   {
    "duration": 135,
    "start_time": "2022-04-13T02:34:10.132Z"
   },
   {
    "duration": 135,
    "start_time": "2022-04-13T02:34:10.270Z"
   },
   {
    "duration": 146,
    "start_time": "2022-04-13T02:34:10.407Z"
   },
   {
    "duration": 14,
    "start_time": "2022-04-13T02:34:10.558Z"
   },
   {
    "duration": 15,
    "start_time": "2022-04-13T02:34:10.574Z"
   },
   {
    "duration": 142,
    "start_time": "2022-04-13T02:34:10.591Z"
   },
   {
    "duration": 111,
    "start_time": "2022-04-13T02:34:10.736Z"
   },
   {
    "duration": 42,
    "start_time": "2022-04-13T02:43:31.031Z"
   },
   {
    "duration": 4,
    "start_time": "2022-04-13T03:29:31.532Z"
   },
   {
    "duration": 308,
    "start_time": "2022-04-13T03:29:34.811Z"
   },
   {
    "duration": 30,
    "start_time": "2022-04-13T05:20:34.383Z"
   },
   {
    "duration": 31,
    "start_time": "2022-04-13T05:25:21.539Z"
   },
   {
    "duration": 30,
    "start_time": "2022-04-13T05:25:55.202Z"
   },
   {
    "duration": 10,
    "start_time": "2022-04-13T05:45:11.377Z"
   },
   {
    "duration": 72,
    "start_time": "2022-04-13T05:52:36.063Z"
   },
   {
    "duration": 10,
    "start_time": "2022-04-13T05:55:19.815Z"
   },
   {
    "duration": 99,
    "start_time": "2022-04-13T05:55:48.422Z"
   },
   {
    "duration": 11,
    "start_time": "2022-04-13T05:57:25.025Z"
   },
   {
    "duration": 11,
    "start_time": "2022-04-13T06:04:51.948Z"
   },
   {
    "duration": 58,
    "start_time": "2022-04-13T06:05:13.236Z"
   },
   {
    "duration": 39,
    "start_time": "2022-04-13T06:07:41.546Z"
   },
   {
    "duration": 9,
    "start_time": "2022-04-13T06:15:22.611Z"
   },
   {
    "duration": 18,
    "start_time": "2022-04-13T06:15:30.530Z"
   },
   {
    "duration": 131,
    "start_time": "2022-04-13T06:40:15.401Z"
   },
   {
    "duration": 142,
    "start_time": "2022-04-13T06:59:25.673Z"
   },
   {
    "duration": 126,
    "start_time": "2022-04-13T07:00:19.112Z"
   },
   {
    "duration": 11,
    "start_time": "2022-04-13T07:00:51.359Z"
   },
   {
    "duration": 147,
    "start_time": "2022-04-13T07:02:09.678Z"
   },
   {
    "duration": 139,
    "start_time": "2022-04-13T07:06:50.954Z"
   },
   {
    "duration": 10,
    "start_time": "2022-04-13T07:07:33.248Z"
   },
   {
    "duration": 11,
    "start_time": "2022-04-13T07:10:17.486Z"
   },
   {
    "duration": 10,
    "start_time": "2022-04-13T07:10:25.582Z"
   },
   {
    "duration": 10,
    "start_time": "2022-04-13T07:10:31.517Z"
   },
   {
    "duration": 9,
    "start_time": "2022-04-13T07:15:37.481Z"
   },
   {
    "duration": 10,
    "start_time": "2022-04-13T07:15:46.305Z"
   },
   {
    "duration": 12,
    "start_time": "2022-04-13T07:15:52.944Z"
   },
   {
    "duration": 31,
    "start_time": "2022-04-13T07:17:23.552Z"
   },
   {
    "duration": 134,
    "start_time": "2022-04-13T07:21:00.861Z"
   },
   {
    "duration": 159,
    "start_time": "2022-04-13T07:21:51.675Z"
   },
   {
    "duration": 151,
    "start_time": "2022-04-13T07:35:00.102Z"
   },
   {
    "duration": 132,
    "start_time": "2022-04-13T07:35:18.142Z"
   },
   {
    "duration": 143,
    "start_time": "2022-04-13T07:35:24.798Z"
   },
   {
    "duration": 225,
    "start_time": "2022-04-13T07:35:59.630Z"
   },
   {
    "duration": 153,
    "start_time": "2022-04-13T07:39:01.940Z"
   },
   {
    "duration": 147,
    "start_time": "2022-04-13T07:39:22.086Z"
   },
   {
    "duration": 162,
    "start_time": "2022-04-13T07:39:34.023Z"
   },
   {
    "duration": 12,
    "start_time": "2022-04-13T07:42:35.192Z"
   },
   {
    "duration": 14,
    "start_time": "2022-04-13T07:46:02.507Z"
   },
   {
    "duration": 1469,
    "start_time": "2022-04-13T13:37:51.403Z"
   },
   {
    "duration": 469,
    "start_time": "2022-04-13T13:37:52.875Z"
   },
   {
    "duration": 7,
    "start_time": "2022-04-13T13:37:53.346Z"
   },
   {
    "duration": 231,
    "start_time": "2022-04-13T13:37:53.356Z"
   },
   {
    "duration": 168,
    "start_time": "2022-04-13T13:37:53.589Z"
   },
   {
    "duration": 129,
    "start_time": "2022-04-13T13:37:53.759Z"
   },
   {
    "duration": 28,
    "start_time": "2022-04-13T13:37:53.890Z"
   },
   {
    "duration": 54,
    "start_time": "2022-04-13T13:37:53.921Z"
   },
   {
    "duration": 129,
    "start_time": "2022-04-13T13:37:53.977Z"
   },
   {
    "duration": 265,
    "start_time": "2022-04-13T13:37:54.110Z"
   },
   {
    "duration": 77,
    "start_time": "2022-04-13T13:37:54.377Z"
   },
   {
    "duration": 3,
    "start_time": "2022-04-13T13:37:54.456Z"
   },
   {
    "duration": 112,
    "start_time": "2022-04-13T13:37:54.461Z"
   },
   {
    "duration": 247,
    "start_time": "2022-04-13T13:37:54.575Z"
   },
   {
    "duration": 12,
    "start_time": "2022-04-13T13:37:54.824Z"
   },
   {
    "duration": 67,
    "start_time": "2022-04-13T13:37:54.838Z"
   },
   {
    "duration": 63,
    "start_time": "2022-04-13T13:37:54.908Z"
   },
   {
    "duration": 34,
    "start_time": "2022-04-13T13:37:54.974Z"
   },
   {
    "duration": 84,
    "start_time": "2022-04-13T13:37:55.010Z"
   },
   {
    "duration": 55,
    "start_time": "2022-04-13T13:37:55.097Z"
   },
   {
    "duration": 6,
    "start_time": "2022-04-13T13:37:55.154Z"
   },
   {
    "duration": 347,
    "start_time": "2022-04-13T13:37:55.162Z"
   },
   {
    "duration": 213,
    "start_time": "2022-04-13T13:37:55.512Z"
   },
   {
    "duration": 57,
    "start_time": "2022-04-13T13:37:55.728Z"
   },
   {
    "duration": 195,
    "start_time": "2022-04-13T13:37:55.787Z"
   },
   {
    "duration": 208,
    "start_time": "2022-04-13T13:37:55.985Z"
   },
   {
    "duration": 221,
    "start_time": "2022-04-13T13:37:56.195Z"
   },
   {
    "duration": 56,
    "start_time": "2022-04-13T13:37:56.420Z"
   },
   {
    "duration": 40,
    "start_time": "2022-04-13T13:37:56.478Z"
   },
   {
    "duration": 270,
    "start_time": "2022-04-13T13:37:56.520Z"
   },
   {
    "duration": 236,
    "start_time": "2022-04-13T13:37:56.792Z"
   },
   {
    "duration": 294,
    "start_time": "2022-04-13T13:37:57.030Z"
   },
   {
    "duration": 27,
    "start_time": "2022-04-13T13:37:57.326Z"
   },
   {
    "duration": 17,
    "start_time": "2022-04-13T13:37:57.355Z"
   },
   {
    "duration": 204,
    "start_time": "2022-04-13T13:37:57.374Z"
   },
   {
    "duration": 15,
    "start_time": "2022-04-13T13:37:57.581Z"
   },
   {
    "duration": 8,
    "start_time": "2022-04-14T01:40:43.087Z"
   },
   {
    "duration": 1217,
    "start_time": "2022-04-14T08:32:09.904Z"
   },
   {
    "duration": 406,
    "start_time": "2022-04-14T08:32:11.123Z"
   },
   {
    "duration": 4,
    "start_time": "2022-04-14T08:32:11.530Z"
   },
   {
    "duration": 170,
    "start_time": "2022-04-14T08:32:11.536Z"
   },
   {
    "duration": 115,
    "start_time": "2022-04-14T08:32:11.707Z"
   },
   {
    "duration": 77,
    "start_time": "2022-04-14T08:32:11.824Z"
   },
   {
    "duration": 36,
    "start_time": "2022-04-14T08:32:11.902Z"
   },
   {
    "duration": 20,
    "start_time": "2022-04-14T08:32:11.940Z"
   },
   {
    "duration": 99,
    "start_time": "2022-04-14T08:32:11.962Z"
   },
   {
    "duration": 163,
    "start_time": "2022-04-14T08:32:12.064Z"
   },
   {
    "duration": 49,
    "start_time": "2022-04-14T08:32:12.229Z"
   },
   {
    "duration": 3,
    "start_time": "2022-04-14T08:32:12.280Z"
   },
   {
    "duration": 89,
    "start_time": "2022-04-14T08:32:12.284Z"
   },
   {
    "duration": 152,
    "start_time": "2022-04-14T08:32:12.375Z"
   },
   {
    "duration": 9,
    "start_time": "2022-04-14T08:32:12.529Z"
   },
   {
    "duration": 59,
    "start_time": "2022-04-14T08:32:12.539Z"
   },
   {
    "duration": 38,
    "start_time": "2022-04-14T08:32:12.599Z"
   },
   {
    "duration": 25,
    "start_time": "2022-04-14T08:32:12.638Z"
   },
   {
    "duration": 59,
    "start_time": "2022-04-14T08:32:12.664Z"
   },
   {
    "duration": 27,
    "start_time": "2022-04-14T08:32:12.724Z"
   },
   {
    "duration": 11,
    "start_time": "2022-04-14T08:32:12.752Z"
   },
   {
    "duration": 205,
    "start_time": "2022-04-14T08:32:12.765Z"
   },
   {
    "duration": 132,
    "start_time": "2022-04-14T08:32:12.971Z"
   },
   {
    "duration": 45,
    "start_time": "2022-04-14T08:32:13.105Z"
   },
   {
    "duration": 123,
    "start_time": "2022-04-14T08:32:13.151Z"
   },
   {
    "duration": 122,
    "start_time": "2022-04-14T08:32:13.276Z"
   },
   {
    "duration": 129,
    "start_time": "2022-04-14T08:32:13.400Z"
   },
   {
    "duration": 28,
    "start_time": "2022-04-14T08:32:13.533Z"
   },
   {
    "duration": 27,
    "start_time": "2022-04-14T08:32:13.563Z"
   },
   {
    "duration": 191,
    "start_time": "2022-04-14T08:32:13.592Z"
   },
   {
    "duration": 153,
    "start_time": "2022-04-14T08:32:13.785Z"
   },
   {
    "duration": 234,
    "start_time": "2022-04-14T08:32:13.940Z"
   },
   {
    "duration": 13,
    "start_time": "2022-04-14T08:32:14.175Z"
   },
   {
    "duration": 14,
    "start_time": "2022-04-14T08:32:14.190Z"
   },
   {
    "duration": 130,
    "start_time": "2022-04-14T08:32:14.206Z"
   },
   {
    "duration": 12,
    "start_time": "2022-04-14T08:32:14.337Z"
   },
   {
    "duration": 19,
    "start_time": "2022-04-14T08:33:07.150Z"
   },
   {
    "duration": 53,
    "start_time": "2022-04-14T12:53:08.085Z"
   },
   {
    "duration": 1456,
    "start_time": "2022-04-14T12:53:16.065Z"
   },
   {
    "duration": 450,
    "start_time": "2022-04-14T12:53:17.523Z"
   },
   {
    "duration": 4,
    "start_time": "2022-04-14T12:53:17.975Z"
   },
   {
    "duration": 179,
    "start_time": "2022-04-14T12:53:17.981Z"
   },
   {
    "duration": 128,
    "start_time": "2022-04-14T12:53:18.162Z"
   },
   {
    "duration": 98,
    "start_time": "2022-04-14T12:53:18.291Z"
   },
   {
    "duration": 19,
    "start_time": "2022-04-14T12:53:18.391Z"
   },
   {
    "duration": 41,
    "start_time": "2022-04-14T12:53:18.412Z"
   },
   {
    "duration": 107,
    "start_time": "2022-04-14T12:53:18.455Z"
   },
   {
    "duration": 199,
    "start_time": "2022-04-14T12:53:18.565Z"
   },
   {
    "duration": 56,
    "start_time": "2022-04-14T12:53:18.766Z"
   },
   {
    "duration": 3,
    "start_time": "2022-04-14T12:53:18.834Z"
   },
   {
    "duration": 79,
    "start_time": "2022-04-14T12:53:18.839Z"
   },
   {
    "duration": 187,
    "start_time": "2022-04-14T12:53:18.934Z"
   },
   {
    "duration": 16,
    "start_time": "2022-04-14T12:53:19.124Z"
   },
   {
    "duration": 50,
    "start_time": "2022-04-14T12:53:19.142Z"
   },
   {
    "duration": 48,
    "start_time": "2022-04-14T12:53:19.193Z"
   },
   {
    "duration": 27,
    "start_time": "2022-04-14T12:53:19.243Z"
   },
   {
    "duration": 43,
    "start_time": "2022-04-14T12:53:19.272Z"
   },
   {
    "duration": 45,
    "start_time": "2022-04-14T12:53:19.316Z"
   },
   {
    "duration": 4,
    "start_time": "2022-04-14T12:53:19.363Z"
   },
   {
    "duration": 266,
    "start_time": "2022-04-14T12:53:19.369Z"
   },
   {
    "duration": 296,
    "start_time": "2022-04-14T12:53:19.637Z"
   },
   {
    "duration": 32,
    "start_time": "2022-04-14T12:53:19.935Z"
   },
   {
    "duration": 290,
    "start_time": "2022-04-14T12:53:19.969Z"
   },
   {
    "duration": 295,
    "start_time": "2022-04-14T12:53:20.261Z"
   },
   {
    "duration": 305,
    "start_time": "2022-04-14T12:53:20.557Z"
   },
   {
    "duration": 86,
    "start_time": "2022-04-14T12:53:20.866Z"
   },
   {
    "duration": 86,
    "start_time": "2022-04-14T12:53:20.954Z"
   },
   {
    "duration": 311,
    "start_time": "2022-04-14T12:53:21.042Z"
   },
   {
    "duration": 249,
    "start_time": "2022-04-14T12:53:21.355Z"
   },
   {
    "duration": 175,
    "start_time": "2022-04-14T12:53:21.606Z"
   },
   {
    "duration": 14,
    "start_time": "2022-04-14T12:53:21.783Z"
   },
   {
    "duration": 13,
    "start_time": "2022-04-14T12:53:21.798Z"
   },
   {
    "duration": 168,
    "start_time": "2022-04-14T12:53:21.814Z"
   },
   {
    "duration": 15,
    "start_time": "2022-04-14T12:53:21.984Z"
   }
  ],
  "kernelspec": {
   "display_name": "Python 3 (ipykernel)",
   "language": "python",
   "name": "python3"
  },
  "language_info": {
   "codemirror_mode": {
    "name": "ipython",
    "version": 3
   },
   "file_extension": ".py",
   "mimetype": "text/x-python",
   "name": "python",
   "nbconvert_exporter": "python",
   "pygments_lexer": "ipython3",
   "version": "3.10.1"
  },
  "toc": {
   "base_numbering": "",
   "nav_menu": {
    "height": "286px",
    "width": "482px"
   },
   "number_sections": false,
   "sideBar": true,
   "skip_h1_title": false,
   "title_cell": "Статистический анализ данных",
   "title_sidebar": "Contents",
   "toc_cell": true,
   "toc_position": {
    "height": "834px",
    "left": "28px",
    "top": "230.125px",
    "width": "384px"
   },
   "toc_section_display": true,
   "toc_window_display": true
  }
 },
 "nbformat": 4,
 "nbformat_minor": 5
}
