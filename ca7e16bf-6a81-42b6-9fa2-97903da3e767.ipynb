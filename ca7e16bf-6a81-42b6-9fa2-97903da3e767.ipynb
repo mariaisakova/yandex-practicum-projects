{
 "cells": [
  {
   "cell_type": "markdown",
   "metadata": {
    "id": "E0vqbgi9ay0H"
   },
   "source": [
    "# Яндекс.Музыка"
   ]
  },
  {
   "cell_type": "markdown",
   "metadata": {
    "id": "VUC88oWjTJw2"
   },
   "source": [
    "Сравнение Москвы и Петербурга окружено мифами. Например:\n",
    " * Москва — мегаполис, подчинённый жёсткому ритму рабочей недели;\n",
    " * Петербург — культурная столица, со своими вкусами.\n",
    "\n",
    "На данных Яндекс.Музыки мы сравним поведение пользователей двух столиц.\n",
    "\n",
    "**Цель исследования** — проверьте три гипотезы:\n",
    "1. Активность пользователей зависит от дня недели. Причём в Москве и Петербурге это проявляется по-разному.\n",
    "2. В понедельник утром в Москве преобладают одни жанры, а в Петербурге — другие. Так же и вечером пятницы преобладают разные жанры — в зависимости от города. \n",
    "3. Москва и Петербург предпочитают разные жанры музыки. В Москве чаще слушают поп-музыку, в Петербурге — русский рэп.\n",
    "\n",
    "**Ход исследования**\n",
    "\n",
    "Данные о поведении пользователей мы получим из файла `yandex_music_project.csv`. О качестве данных ничего не известно. Поэтому перед проверкой гипотез нам понадобится обзор данных. \n",
    "\n",
    "Мы проверите данные на ошибки и оценим их влияние на исследование. Затем, на этапе предобработки мы поищем возможность исправить самые критичные ошибки данных.\n",
    " \n",
    "Таким образом, исследование пройдёт в три этапа:\n",
    " 1. Обзор данных.\n",
    " 2. Предобработка данных.\n",
    " 3. Проверка гипотез.\n",
    "\n"
   ]
  },
  {
   "cell_type": "markdown",
   "metadata": {
    "id": "Ml1hmfXC_Zcs"
   },
   "source": [
    "## Обзор данных\n",
    "\n",
    "Составим первое представление о данных Яндекс.Музыки.\n",
    "\n",
    "\n"
   ]
  },
  {
   "cell_type": "markdown",
   "metadata": {
    "id": "57eAOGIz_Zcs"
   },
   "source": [
    "Импортируем библиотеку pandas"
   ]
  },
  {
   "cell_type": "code",
   "execution_count": 2,
   "metadata": {
    "id": "AXN7PHPN_Zcs"
   },
   "outputs": [],
   "source": [
    "import pandas as pd# импорт библиотеки pandas"
   ]
  },
  {
   "cell_type": "markdown",
   "metadata": {
    "id": "SG23P8tt_Zcs"
   },
   "source": [
    "Прочитаем файл `из папки `/datasets` и сохраним его в переменной `df`:"
   ]
  },
  {
   "cell_type": "code",
   "execution_count": 3,
   "metadata": {
    "id": "fFVu7vqh_Zct"
   },
   "outputs": [],
   "source": [
    "df = pd.read_csv('/datasets/yandex_music_project.csv')# чтение файла с данными и сохранение в df"
   ]
  },
  {
   "cell_type": "markdown",
   "metadata": {
    "id": "rDoOMd3uTqnZ"
   },
   "source": [
    "Выведем на экран первые десять строк таблицы:"
   ]
  },
  {
   "cell_type": "code",
   "execution_count": 3,
   "metadata": {
    "id": "oWTVX3gW_Zct"
   },
   "outputs": [
    {
     "data": {
      "text/html": [
       "<div>\n",
       "<style scoped>\n",
       "    .dataframe tbody tr th:only-of-type {\n",
       "        vertical-align: middle;\n",
       "    }\n",
       "\n",
       "    .dataframe tbody tr th {\n",
       "        vertical-align: top;\n",
       "    }\n",
       "\n",
       "    .dataframe thead th {\n",
       "        text-align: right;\n",
       "    }\n",
       "</style>\n",
       "<table border=\"1\" class=\"dataframe\">\n",
       "  <thead>\n",
       "    <tr style=\"text-align: right;\">\n",
       "      <th></th>\n",
       "      <th>userID</th>\n",
       "      <th>Track</th>\n",
       "      <th>artist</th>\n",
       "      <th>genre</th>\n",
       "      <th>City</th>\n",
       "      <th>time</th>\n",
       "      <th>Day</th>\n",
       "    </tr>\n",
       "  </thead>\n",
       "  <tbody>\n",
       "    <tr>\n",
       "      <td>0</td>\n",
       "      <td>FFB692EC</td>\n",
       "      <td>Kamigata To Boots</td>\n",
       "      <td>The Mass Missile</td>\n",
       "      <td>rock</td>\n",
       "      <td>Saint-Petersburg</td>\n",
       "      <td>20:28:33</td>\n",
       "      <td>Wednesday</td>\n",
       "    </tr>\n",
       "    <tr>\n",
       "      <td>1</td>\n",
       "      <td>55204538</td>\n",
       "      <td>Delayed Because of Accident</td>\n",
       "      <td>Andreas Rönnberg</td>\n",
       "      <td>rock</td>\n",
       "      <td>Moscow</td>\n",
       "      <td>14:07:09</td>\n",
       "      <td>Friday</td>\n",
       "    </tr>\n",
       "    <tr>\n",
       "      <td>2</td>\n",
       "      <td>20EC38</td>\n",
       "      <td>Funiculì funiculà</td>\n",
       "      <td>Mario Lanza</td>\n",
       "      <td>pop</td>\n",
       "      <td>Saint-Petersburg</td>\n",
       "      <td>20:58:07</td>\n",
       "      <td>Wednesday</td>\n",
       "    </tr>\n",
       "    <tr>\n",
       "      <td>3</td>\n",
       "      <td>A3DD03C9</td>\n",
       "      <td>Dragons in the Sunset</td>\n",
       "      <td>Fire + Ice</td>\n",
       "      <td>folk</td>\n",
       "      <td>Saint-Petersburg</td>\n",
       "      <td>08:37:09</td>\n",
       "      <td>Monday</td>\n",
       "    </tr>\n",
       "    <tr>\n",
       "      <td>4</td>\n",
       "      <td>E2DC1FAE</td>\n",
       "      <td>Soul People</td>\n",
       "      <td>Space Echo</td>\n",
       "      <td>dance</td>\n",
       "      <td>Moscow</td>\n",
       "      <td>08:34:34</td>\n",
       "      <td>Monday</td>\n",
       "    </tr>\n",
       "    <tr>\n",
       "      <td>5</td>\n",
       "      <td>842029A1</td>\n",
       "      <td>Преданная</td>\n",
       "      <td>IMPERVTOR</td>\n",
       "      <td>rusrap</td>\n",
       "      <td>Saint-Petersburg</td>\n",
       "      <td>13:09:41</td>\n",
       "      <td>Friday</td>\n",
       "    </tr>\n",
       "    <tr>\n",
       "      <td>6</td>\n",
       "      <td>4CB90AA5</td>\n",
       "      <td>True</td>\n",
       "      <td>Roman Messer</td>\n",
       "      <td>dance</td>\n",
       "      <td>Moscow</td>\n",
       "      <td>13:00:07</td>\n",
       "      <td>Wednesday</td>\n",
       "    </tr>\n",
       "    <tr>\n",
       "      <td>7</td>\n",
       "      <td>F03E1C1F</td>\n",
       "      <td>Feeling This Way</td>\n",
       "      <td>Polina Griffith</td>\n",
       "      <td>dance</td>\n",
       "      <td>Moscow</td>\n",
       "      <td>20:47:49</td>\n",
       "      <td>Wednesday</td>\n",
       "    </tr>\n",
       "    <tr>\n",
       "      <td>8</td>\n",
       "      <td>8FA1D3BE</td>\n",
       "      <td>И вновь продолжается бой</td>\n",
       "      <td>NaN</td>\n",
       "      <td>ruspop</td>\n",
       "      <td>Moscow</td>\n",
       "      <td>09:17:40</td>\n",
       "      <td>Friday</td>\n",
       "    </tr>\n",
       "    <tr>\n",
       "      <td>9</td>\n",
       "      <td>E772D5C0</td>\n",
       "      <td>Pessimist</td>\n",
       "      <td>NaN</td>\n",
       "      <td>dance</td>\n",
       "      <td>Saint-Petersburg</td>\n",
       "      <td>21:20:49</td>\n",
       "      <td>Wednesday</td>\n",
       "    </tr>\n",
       "  </tbody>\n",
       "</table>\n",
       "</div>"
      ],
      "text/plain": [
       "     userID                        Track            artist   genre  \\\n",
       "0  FFB692EC            Kamigata To Boots  The Mass Missile    rock   \n",
       "1  55204538  Delayed Because of Accident  Andreas Rönnberg    rock   \n",
       "2    20EC38            Funiculì funiculà       Mario Lanza     pop   \n",
       "3  A3DD03C9        Dragons in the Sunset        Fire + Ice    folk   \n",
       "4  E2DC1FAE                  Soul People        Space Echo   dance   \n",
       "5  842029A1                    Преданная         IMPERVTOR  rusrap   \n",
       "6  4CB90AA5                         True      Roman Messer   dance   \n",
       "7  F03E1C1F             Feeling This Way   Polina Griffith   dance   \n",
       "8  8FA1D3BE     И вновь продолжается бой               NaN  ruspop   \n",
       "9  E772D5C0                    Pessimist               NaN   dance   \n",
       "\n",
       "             City        time        Day  \n",
       "0  Saint-Petersburg  20:28:33  Wednesday  \n",
       "1            Moscow  14:07:09     Friday  \n",
       "2  Saint-Petersburg  20:58:07  Wednesday  \n",
       "3  Saint-Petersburg  08:37:09     Monday  \n",
       "4            Moscow  08:34:34     Monday  \n",
       "5  Saint-Petersburg  13:09:41     Friday  \n",
       "6            Moscow  13:00:07  Wednesday  \n",
       "7            Moscow  20:47:49  Wednesday  \n",
       "8            Moscow  09:17:40     Friday  \n",
       "9  Saint-Petersburg  21:20:49  Wednesday  "
      ]
     },
     "metadata": {},
     "output_type": "display_data"
    }
   ],
   "source": [
    "df.head(10) #посмотрим первые 10 строк таблицы df"
   ]
  },
  {
   "cell_type": "markdown",
   "metadata": {
    "id": "EO73Kwic_Zct"
   },
   "source": [
    "Одной командой получим общую информацию о таблице:"
   ]
  },
  {
   "cell_type": "code",
   "execution_count": 4,
   "metadata": {
    "id": "DSf2kIb-_Zct"
   },
   "outputs": [
    {
     "name": "stdout",
     "output_type": "stream",
     "text": [
      "<class 'pandas.core.frame.DataFrame'>\n",
      "RangeIndex: 65079 entries, 0 to 65078\n",
      "Data columns (total 7 columns):\n",
      "  userID    65079 non-null object\n",
      "Track       63848 non-null object\n",
      "artist      57876 non-null object\n",
      "genre       63881 non-null object\n",
      "  City      65079 non-null object\n",
      "time        65079 non-null object\n",
      "Day         65079 non-null object\n",
      "dtypes: object(7)\n",
      "memory usage: 3.5+ MB\n"
     ]
    }
   ],
   "source": [
    "df.info()# получение общей информации о данных в таблице df"
   ]
  },
  {
   "cell_type": "markdown",
   "metadata": {
    "id": "TaQ2Iwbr_Zct"
   },
   "source": [
    "Итак, в таблице семь столбцов. Тип данных во всех столбцах — `object`.\n",
    "\n",
    "Согласно документации к данным:\n",
    "* `userID` — идентификатор пользователя;\n",
    "* `Track` — название трека;  \n",
    "* `artist` — имя исполнителя;\n",
    "* `genre` — название жанра;\n",
    "* `City` — город пользователя;\n",
    "* `time` — время начала прослушивания;\n",
    "* `Day` — день недели.\n",
    "\n",
    "В названиях колонок видны три нарушения стиля:\n",
    "1. Строчные буквы сочетаются с прописными.\n",
    "2. Встречаются пробелы.\n",
    "3. Отсутствует нижнее подчеркивание, там где название столбца состоит из нескольких слов.\n",
    "\n",
    "\n",
    "\n",
    "\n",
    "Количество значений в столбцах различается. Значит, в данных есть пропущенные значения.\n"
   ]
  },
  {
   "cell_type": "markdown",
   "metadata": {
    "id": "MCB6-dXG_Zct"
   },
   "source": [
    "**Выводы**\n",
    "\n",
    "В каждой строке таблицы — данные о прослушанном треке. Часть колонок описывает саму композицию: название, исполнителя и жанр. Остальные данные рассказывают о пользователе: из какого он города, когда он слушал музыку. \n",
    "\n",
    "Предварительно можно утверждать, что, данных достаточно для проверки гипотез. Но встречаются пропуски в данных, а в названиях колонок — расхождения с хорошим стилем.\n",
    "\n",
    "Чтобы двигаться дальше, нужно устранить проблемы в данных."
   ]
  },
  {
   "cell_type": "markdown",
   "metadata": {
    "id": "SjYF6Ub9_Zct"
   },
   "source": [
    "## Предобработка данных\n",
    "Исправим стиль в заголовках столбцов, исключим пропуски. Затем проверим данные на дубликаты."
   ]
  },
  {
   "cell_type": "markdown",
   "metadata": {
    "id": "dIaKXr29_Zct"
   },
   "source": [
    "### Стиль заголовков\n",
    "Выведем на экран названия столбцов:"
   ]
  },
  {
   "cell_type": "code",
   "execution_count": 5,
   "metadata": {
    "id": "oKOTdF_Q_Zct"
   },
   "outputs": [
    {
     "data": {
      "text/plain": [
       "Index(['  userID', 'Track', 'artist', 'genre', '  City  ', 'time', 'Day'], dtype='object')"
      ]
     },
     "execution_count": 5,
     "metadata": {},
     "output_type": "execute_result"
    }
   ],
   "source": [
    "df.columns# перечень названий столбцов таблицы df"
   ]
  },
  {
   "cell_type": "markdown",
   "metadata": {
    "id": "zj5534cv_Zct"
   },
   "source": [
    "Приведем названия в соответствие с хорошим стилем:\n",
    "* несколько слов в названии запишите в «змеином_регистре»,\n",
    "* все символы сделаем строчными,\n",
    "* устраним пробелы.\n",
    "\n",
    "Для этого переименуем колонки так:\n",
    "* `'  userID'` → `'user_id'`;\n",
    "* `'Track'` → `'track'`;\n",
    "* `'  City  '` → `'city'`;\n",
    "* `'Day'` → `'day'`."
   ]
  },
  {
   "cell_type": "code",
   "execution_count": 6,
   "metadata": {
    "id": "ISlFqs5y_Zct"
   },
   "outputs": [],
   "source": [
    "#переименуем названия столбцов\n",
    "df = df.rename(columns={'  userID':'user_id', 'Track':'track', '  City  ':'city', 'Day':'day'})# переименование столбцов"
   ]
  },
  {
   "cell_type": "markdown",
   "metadata": {
    "id": "1dqbh00J_Zct"
   },
   "source": [
    "Проверяем результат. Для этого ещё раз выведем на экран названия столбцов:"
   ]
  },
  {
   "cell_type": "code",
   "execution_count": 7,
   "metadata": {
    "id": "d4NOAmTW_Zct"
   },
   "outputs": [
    {
     "data": {
      "text/plain": [
       "Index(['user_id', 'track', 'artist', 'genre', 'city', 'time', 'day'], dtype='object')"
      ]
     },
     "execution_count": 7,
     "metadata": {},
     "output_type": "execute_result"
    }
   ],
   "source": [
    "df.columns #проверка результатов - перечень названий столбцов"
   ]
  },
  {
   "cell_type": "markdown",
   "metadata": {
    "id": "5ISfbcfY_Zct"
   },
   "source": [
    "### Пропуски значений\n",
    "Посмотрим, сколько в таблице пропущенных значений. Для этого достаточно двух методов `pandas`:"
   ]
  },
  {
   "cell_type": "code",
   "execution_count": 8,
   "metadata": {
    "id": "RskX29qr_Zct"
   },
   "outputs": [
    {
     "name": "stdout",
     "output_type": "stream",
     "text": [
      "user_id       0\n",
      "track      1231\n",
      "artist     7203\n",
      "genre      1198\n",
      "city          0\n",
      "time          0\n",
      "day           0\n",
      "dtype: int64\n"
     ]
    }
   ],
   "source": [
    "df.isna().sum() #подсчёт пропусков"
   ]
  },
  {
   "cell_type": "markdown",
   "metadata": {
    "id": "qubhgnlO_Zct"
   },
   "source": [
    "Не все пропущенные значения влияют на исследование. Так в `track` и `artist` пропуски не важны для нашей работы. Достаточно заменить их явными обозначениями.\n",
    "\n",
    "Но пропуски в `genre` могут помешать сравнению музыкальных вкусов в Москве и Санкт-Петербурге. На практике было бы правильно установить причину пропусков и восстановить данные. Такой возможности нет в учебном проекте. Придётся:\n",
    "* заполнить и эти пропуски явными обозначениями,\n",
    "* оценить, насколько они повредят расчётам. "
   ]
  },
  {
   "cell_type": "markdown",
   "metadata": {
    "id": "fSv2laPA_Zct"
   },
   "source": [
    "Заменим пропущенные значения в столбцах `track`, `artist` и `genre` на строку `'unknown'`. Для этого создаем список `columns_to_replace`, переберем его элементы циклом `for` и для каждого столбца выполним замену пропущенных значений:"
   ]
  },
  {
   "cell_type": "code",
   "execution_count": 9,
   "metadata": {
    "id": "KplB5qWs_Zct"
   },
   "outputs": [],
   "source": [
    "columns_to_replace = ['track', 'artist', 'genre']\n",
    "for column in columns_to_replace:\n",
    "    df[column] = df[column].fillna('unknown')# перебор названий столбцов в цикле и замена пропущенных значений на 'unknown'"
   ]
  },
  {
   "cell_type": "code",
   "execution_count": null,
   "metadata": {},
   "outputs": [],
   "source": [
    "#также данную операцию можно сделать без цикла\n",
    "df = df.fillna(value = {'track':'unknown', 'artist' : 'unknown', 'genre' : 'unknown'})"
   ]
  },
  {
   "cell_type": "markdown",
   "metadata": {
    "id": "Ilsm-MZo_Zct"
   },
   "source": [
    "Убедимся, что в таблице не осталось пропусков. Для этого ещё раз посчитаем пропущенные значения."
   ]
  },
  {
   "cell_type": "code",
   "execution_count": 10,
   "metadata": {
    "id": "Tq4nYRX4_Zct"
   },
   "outputs": [
    {
     "data": {
      "text/plain": [
       "user_id    0\n",
       "track      0\n",
       "artist     0\n",
       "genre      0\n",
       "city       0\n",
       "time       0\n",
       "day        0\n",
       "dtype: int64"
      ]
     },
     "execution_count": 10,
     "metadata": {},
     "output_type": "execute_result"
    }
   ],
   "source": [
    "df.isna().sum()# подсчёт пропусков"
   ]
  },
  {
   "cell_type": "markdown",
   "metadata": {
    "id": "BWKRtBJ3_Zct"
   },
   "source": [
    "### Дубликаты\n",
    "Посчитаем явные дубликаты в таблице одной командой:"
   ]
  },
  {
   "cell_type": "code",
   "execution_count": 11,
   "metadata": {
    "id": "36eES_S0_Zct"
   },
   "outputs": [
    {
     "data": {
      "text/plain": [
       "3826"
      ]
     },
     "execution_count": 11,
     "metadata": {},
     "output_type": "execute_result"
    }
   ],
   "source": [
    "df.duplicated().sum()# подсчёт явных дубликатов"
   ]
  },
  {
   "cell_type": "markdown",
   "metadata": {
    "id": "Ot25h6XR_Zct"
   },
   "source": [
    "Вызовем специальный метод `pandas`, чтобы удалить явные дубликаты:"
   ]
  },
  {
   "cell_type": "code",
   "execution_count": 12,
   "metadata": {
    "id": "exFHq6tt_Zct"
   },
   "outputs": [],
   "source": [
    "df = df.drop_duplicates().reset_index(drop=True) #удаление явных дубликатов (с удалением старых индексов и формированием новых)"
   ]
  },
  {
   "cell_type": "markdown",
   "metadata": {
    "id": "Im2YwBEG_Zct"
   },
   "source": [
    "Ещё раз посчитаем явные дубликаты в таблице — убедимся, что полностью от них избавились:"
   ]
  },
  {
   "cell_type": "code",
   "execution_count": 13,
   "metadata": {
    "id": "-8PuNWQ0_Zct"
   },
   "outputs": [
    {
     "data": {
      "text/plain": [
       "0"
      ]
     },
     "execution_count": 13,
     "metadata": {},
     "output_type": "execute_result"
    }
   ],
   "source": [
    "df.duplicated().sum() #проверим на отсутствие дубликатов"
   ]
  },
  {
   "cell_type": "markdown",
   "metadata": {
    "id": "QlFBsxAr_Zct"
   },
   "source": [
    "Теперь избавимся от неявных дубликатов в колонке `genre`. Например, название одного и того же жанра может быть записано немного по-разному. Такие ошибки тоже повлияют на результат исследования."
   ]
  },
  {
   "cell_type": "markdown",
   "metadata": {
    "id": "eSjWwsOh_Zct"
   },
   "source": [
    "Выведем на экран список уникальных названий жанров, отсортированный в алфавитном порядке. Для этого:\n",
    "* извлечем нужный столбец датафрейма, \n",
    "* применим к нему метод сортировки,\n",
    "* для отсортированного столбца вызовем метод, который вернёт уникальные значения из столбца."
   ]
  },
  {
   "cell_type": "code",
   "execution_count": 14,
   "metadata": {
    "id": "JIUcqzZN_Zct"
   },
   "outputs": [
    {
     "data": {
      "text/plain": [
       "array(['acid', 'acoustic', 'action', 'adult', 'africa', 'afrikaans',\n",
       "       'alternative', 'alternativepunk', 'ambient', 'americana',\n",
       "       'animated', 'anime', 'arabesk', 'arabic', 'arena',\n",
       "       'argentinetango', 'art', 'audiobook', 'author', 'avantgarde',\n",
       "       'axé', 'baile', 'balkan', 'beats', 'bigroom', 'black', 'bluegrass',\n",
       "       'blues', 'bollywood', 'bossa', 'brazilian', 'breakbeat', 'breaks',\n",
       "       'broadway', 'cantautori', 'cantopop', 'canzone', 'caribbean',\n",
       "       'caucasian', 'celtic', 'chamber', 'chanson', 'children', 'chill',\n",
       "       'chinese', 'choral', 'christian', 'christmas', 'classical',\n",
       "       'classicmetal', 'club', 'colombian', 'comedy', 'conjazz',\n",
       "       'contemporary', 'country', 'cuban', 'dance', 'dancehall',\n",
       "       'dancepop', 'dark', 'death', 'deep', 'deutschrock', 'deutschspr',\n",
       "       'dirty', 'disco', 'dnb', 'documentary', 'downbeat', 'downtempo',\n",
       "       'drum', 'dub', 'dubstep', 'eastern', 'easy', 'electronic',\n",
       "       'electropop', 'emo', 'entehno', 'epicmetal', 'estrada', 'ethnic',\n",
       "       'eurofolk', 'european', 'experimental', 'extrememetal', 'fado',\n",
       "       'fairytail', 'film', 'fitness', 'flamenco', 'folk', 'folklore',\n",
       "       'folkmetal', 'folkrock', 'folktronica', 'forró', 'frankreich',\n",
       "       'französisch', 'french', 'funk', 'future', 'gangsta', 'garage',\n",
       "       'german', 'ghazal', 'gitarre', 'glitch', 'gospel', 'gothic',\n",
       "       'grime', 'grunge', 'gypsy', 'handsup', \"hard'n'heavy\", 'hardcore',\n",
       "       'hardstyle', 'hardtechno', 'hip', 'hip-hop', 'hiphop',\n",
       "       'historisch', 'holiday', 'hop', 'horror', 'house', 'hymn', 'idm',\n",
       "       'independent', 'indian', 'indie', 'indipop', 'industrial',\n",
       "       'inspirational', 'instrumental', 'international', 'irish', 'jam',\n",
       "       'japanese', 'jazz', 'jewish', 'jpop', 'jungle', 'k-pop',\n",
       "       'karadeniz', 'karaoke', 'kayokyoku', 'korean', 'laiko', 'latin',\n",
       "       'latino', 'leftfield', 'local', 'lounge', 'loungeelectronic',\n",
       "       'lovers', 'malaysian', 'mandopop', 'marschmusik', 'meditative',\n",
       "       'mediterranean', 'melodic', 'metal', 'metalcore', 'mexican',\n",
       "       'middle', 'minimal', 'miscellaneous', 'modern', 'mood', 'mpb',\n",
       "       'muslim', 'native', 'neoklassik', 'neue', 'new', 'newage',\n",
       "       'newwave', 'nu', 'nujazz', 'numetal', 'oceania', 'old', 'opera',\n",
       "       'orchestral', 'other', 'piano', 'podcasts', 'pop', 'popdance',\n",
       "       'popelectronic', 'popeurodance', 'poprussian', 'post',\n",
       "       'posthardcore', 'postrock', 'power', 'progmetal', 'progressive',\n",
       "       'psychedelic', 'punjabi', 'punk', 'quebecois', 'ragga', 'ram',\n",
       "       'rancheras', 'rap', 'rave', 'reggae', 'reggaeton', 'regional',\n",
       "       'relax', 'religious', 'retro', 'rhythm', 'rnb', 'rnr', 'rock',\n",
       "       'rockabilly', 'rockalternative', 'rockindie', 'rockother',\n",
       "       'romance', 'roots', 'ruspop', 'rusrap', 'rusrock', 'russian',\n",
       "       'salsa', 'samba', 'scenic', 'schlager', 'self', 'sertanejo',\n",
       "       'shanson', 'shoegazing', 'showtunes', 'singer', 'ska', 'skarock',\n",
       "       'slow', 'smooth', 'soft', 'soul', 'soulful', 'sound', 'soundtrack',\n",
       "       'southern', 'specialty', 'speech', 'spiritual', 'sport',\n",
       "       'stonerrock', 'surf', 'swing', 'synthpop', 'synthrock',\n",
       "       'sängerportrait', 'tango', 'tanzorchester', 'taraftar', 'tatar',\n",
       "       'tech', 'techno', 'teen', 'thrash', 'top', 'traditional',\n",
       "       'tradjazz', 'trance', 'tribal', 'trip', 'triphop', 'tropical',\n",
       "       'türk', 'türkçe', 'ukrrock', 'unknown', 'urban', 'uzbek',\n",
       "       'variété', 'vi', 'videogame', 'vocal', 'western', 'world',\n",
       "       'worldbeat', 'ïîï', 'электроника'], dtype=object)"
      ]
     },
     "execution_count": 14,
     "metadata": {},
     "output_type": "execute_result"
    }
   ],
   "source": [
    "df['genre'].sort_values().unique() #просмотр уникальных названий жанров"
   ]
  },
  {
   "cell_type": "markdown",
   "metadata": {
    "id": "qej-Qmuo_Zct"
   },
   "source": [
    "Просмотрим список и найдем неявные дубликаты названия `hiphop`. Это могут быть названия с ошибками или альтернативные названия того же жанра.\n",
    "\n",
    "Видим следующие неявные дубликаты:\n",
    "* *hip*,\n",
    "* *hop*,\n",
    "* *hip-hop*.\n",
    "\n",
    "Чтобы очистить от них таблицу, напишем функцию `replace_wrong_genres()` с двумя параметрами: \n",
    "* `wrong_genres` — список дубликатов,\n",
    "* `correct_genre` — строка с правильным значением.\n",
    "\n",
    "Функция должна исправить колонку `genre` в таблице `df`: заменить каждое значение из списка `wrong_genres` на значение из `correct_genre`."
   ]
  },
  {
   "cell_type": "code",
   "execution_count": 15,
   "metadata": {
    "id": "ErNDkmns_Zct"
   },
   "outputs": [],
   "source": [
    "def replace_wrong_genres(wrong_genres):\n",
    "    for index in wrong_genres:\n",
    "        df['genre'] = df['genre'].replace(index, 'hiphop') \n",
    "    return \n",
    "    # Функция для замены неявных дубликатов"
   ]
  },
  {
   "cell_type": "markdown",
   "metadata": {
    "id": "aDoBJxbA_Zct"
   },
   "source": [
    "Вызовем `replace_wrong_genres()` и передаем ей аргументы, чтобы она устранила неявные дубликаты: вместо `hip`, `hop` и `hip-hop` в таблице должно быть значение `hiphop`:"
   ]
  },
  {
   "cell_type": "code",
   "execution_count": 16,
   "metadata": {
    "id": "YN5i2hpmSo09"
   },
   "outputs": [],
   "source": [
    "replace_wrong_genres(['hip', 'hop', 'hip-hop'])\n",
    "# Устранение неявных дубликатов"
   ]
  },
  {
   "cell_type": "markdown",
   "metadata": {
    "id": "zQKF16_RG15m"
   },
   "source": [
    "Проверьте, что заменили неправильные названия:\n",
    "\n",
    "*   hip\n",
    "*   hop\n",
    "*   hip-hop\n",
    "\n",
    "Выведите отсортированный список уникальных значений столбца `genre`:"
   ]
  },
  {
   "cell_type": "code",
   "execution_count": 17,
   "metadata": {
    "id": "wvixALnFG15m"
   },
   "outputs": [
    {
     "data": {
      "text/plain": [
       "array(['acid', 'acoustic', 'action', 'adult', 'africa', 'afrikaans',\n",
       "       'alternative', 'alternativepunk', 'ambient', 'americana',\n",
       "       'animated', 'anime', 'arabesk', 'arabic', 'arena',\n",
       "       'argentinetango', 'art', 'audiobook', 'author', 'avantgarde',\n",
       "       'axé', 'baile', 'balkan', 'beats', 'bigroom', 'black', 'bluegrass',\n",
       "       'blues', 'bollywood', 'bossa', 'brazilian', 'breakbeat', 'breaks',\n",
       "       'broadway', 'cantautori', 'cantopop', 'canzone', 'caribbean',\n",
       "       'caucasian', 'celtic', 'chamber', 'chanson', 'children', 'chill',\n",
       "       'chinese', 'choral', 'christian', 'christmas', 'classical',\n",
       "       'classicmetal', 'club', 'colombian', 'comedy', 'conjazz',\n",
       "       'contemporary', 'country', 'cuban', 'dance', 'dancehall',\n",
       "       'dancepop', 'dark', 'death', 'deep', 'deutschrock', 'deutschspr',\n",
       "       'dirty', 'disco', 'dnb', 'documentary', 'downbeat', 'downtempo',\n",
       "       'drum', 'dub', 'dubstep', 'eastern', 'easy', 'electronic',\n",
       "       'electropop', 'emo', 'entehno', 'epicmetal', 'estrada', 'ethnic',\n",
       "       'eurofolk', 'european', 'experimental', 'extrememetal', 'fado',\n",
       "       'fairytail', 'film', 'fitness', 'flamenco', 'folk', 'folklore',\n",
       "       'folkmetal', 'folkrock', 'folktronica', 'forró', 'frankreich',\n",
       "       'französisch', 'french', 'funk', 'future', 'gangsta', 'garage',\n",
       "       'german', 'ghazal', 'gitarre', 'glitch', 'gospel', 'gothic',\n",
       "       'grime', 'grunge', 'gypsy', 'handsup', \"hard'n'heavy\", 'hardcore',\n",
       "       'hardstyle', 'hardtechno', 'hiphop', 'historisch', 'holiday',\n",
       "       'horror', 'house', 'hymn', 'idm', 'independent', 'indian', 'indie',\n",
       "       'indipop', 'industrial', 'inspirational', 'instrumental',\n",
       "       'international', 'irish', 'jam', 'japanese', 'jazz', 'jewish',\n",
       "       'jpop', 'jungle', 'k-pop', 'karadeniz', 'karaoke', 'kayokyoku',\n",
       "       'korean', 'laiko', 'latin', 'latino', 'leftfield', 'local',\n",
       "       'lounge', 'loungeelectronic', 'lovers', 'malaysian', 'mandopop',\n",
       "       'marschmusik', 'meditative', 'mediterranean', 'melodic', 'metal',\n",
       "       'metalcore', 'mexican', 'middle', 'minimal', 'miscellaneous',\n",
       "       'modern', 'mood', 'mpb', 'muslim', 'native', 'neoklassik', 'neue',\n",
       "       'new', 'newage', 'newwave', 'nu', 'nujazz', 'numetal', 'oceania',\n",
       "       'old', 'opera', 'orchestral', 'other', 'piano', 'podcasts', 'pop',\n",
       "       'popdance', 'popelectronic', 'popeurodance', 'poprussian', 'post',\n",
       "       'posthardcore', 'postrock', 'power', 'progmetal', 'progressive',\n",
       "       'psychedelic', 'punjabi', 'punk', 'quebecois', 'ragga', 'ram',\n",
       "       'rancheras', 'rap', 'rave', 'reggae', 'reggaeton', 'regional',\n",
       "       'relax', 'religious', 'retro', 'rhythm', 'rnb', 'rnr', 'rock',\n",
       "       'rockabilly', 'rockalternative', 'rockindie', 'rockother',\n",
       "       'romance', 'roots', 'ruspop', 'rusrap', 'rusrock', 'russian',\n",
       "       'salsa', 'samba', 'scenic', 'schlager', 'self', 'sertanejo',\n",
       "       'shanson', 'shoegazing', 'showtunes', 'singer', 'ska', 'skarock',\n",
       "       'slow', 'smooth', 'soft', 'soul', 'soulful', 'sound', 'soundtrack',\n",
       "       'southern', 'specialty', 'speech', 'spiritual', 'sport',\n",
       "       'stonerrock', 'surf', 'swing', 'synthpop', 'synthrock',\n",
       "       'sängerportrait', 'tango', 'tanzorchester', 'taraftar', 'tatar',\n",
       "       'tech', 'techno', 'teen', 'thrash', 'top', 'traditional',\n",
       "       'tradjazz', 'trance', 'tribal', 'trip', 'triphop', 'tropical',\n",
       "       'türk', 'türkçe', 'ukrrock', 'unknown', 'urban', 'uzbek',\n",
       "       'variété', 'vi', 'videogame', 'vocal', 'western', 'world',\n",
       "       'worldbeat', 'ïîï', 'электроника'], dtype=object)"
      ]
     },
     "execution_count": 17,
     "metadata": {},
     "output_type": "execute_result"
    }
   ],
   "source": [
    "df['genre'].sort_values().unique()# Проверка на неявные дубликаты"
   ]
  },
  {
   "cell_type": "markdown",
   "metadata": {
    "id": "jz6a9-7HQUDd"
   },
   "source": [
    "**Выводы**\n",
    "\n",
    "Предобработка обнаружила три проблемы в данных:\n",
    "\n",
    "- нарушения в стиле заголовков,\n",
    "- пропущенные значения,\n",
    "- дубликаты — явные и неявные.\n",
    "\n",
    "Мы исправили заголовки, чтобы упростить работу с таблицей. Без дубликатов исследование станет более точным.\n",
    "\n",
    "Пропущенные значения вы заменили на `'unknown'`. Ещё предстоит увидеть, не повредят ли исследованию пропуски в колонке `genre`.\n",
    "\n",
    "Теперь можно перейти к проверке гипотез. "
   ]
  },
  {
   "cell_type": "markdown",
   "metadata": {
    "id": "WttZHXH0SqKk"
   },
   "source": [
    "## Проверка гипотез"
   ]
  },
  {
   "cell_type": "markdown",
   "metadata": {
    "id": "Im936VVi_Zcu"
   },
   "source": [
    "### Сравнение поведения пользователей двух столиц"
   ]
  },
  {
   "cell_type": "markdown",
   "metadata": {
    "id": "nwt_MuaL_Zcu"
   },
   "source": [
    "Первая гипотеза утверждает, что пользователи по-разному слушают музыку в Москве и Санкт-Петербурге. Проверим это предположение по данным о трёх днях недели — понедельнике, среде и пятнице. Для этого:\n",
    "\n",
    "* Разделим пользователей Москвы и Санкт-Петербурга\n",
    "* Сравним, сколько треков послушала каждая группа пользователей в понедельник, среду и пятницу.\n"
   ]
  },
  {
   "cell_type": "markdown",
   "metadata": {
    "id": "8Dw_YMmT_Zcu"
   },
   "source": [
    "Для тренировки сначала выполним каждый из расчётов по отдельности. \n",
    "\n",
    "Оценим активность пользователей в каждом городе. Сгруппируем данные по городу и посчитаем прослушивания в каждой группе.\n",
    "\n"
   ]
  },
  {
   "cell_type": "code",
   "execution_count": 18,
   "metadata": {
    "id": "0_Qs96oh_Zcu"
   },
   "outputs": [
    {
     "name": "stdout",
     "output_type": "stream",
     "text": [
      "city\n",
      "Moscow              42741\n",
      "Saint-Petersburg    18512\n",
      "Name: time, dtype: int64\n"
     ]
    }
   ],
   "source": [
    "df.groupby('city')['time'].count() #подсчёт прослушиваний в каждом городе"
   ]
  },
  {
   "cell_type": "markdown",
   "metadata": {
    "id": "dzli3w8o_Zcu"
   },
   "source": [
    "В Москве прослушиваний больше, чем в Петербурге. Из этого не следует, что московские пользователи чаще слушают музыку. Просто самих пользователей в Москве больше.\n",
    "\n",
    "Теперь сгруппируем данные по дню недели и подсчитаем прослушивания в понедельник, среду и пятницу. Учтем, что в данных есть информация только о прослушиваниях только за эти дни.\n"
   ]
  },
  {
   "cell_type": "code",
   "execution_count": 19,
   "metadata": {
    "id": "uZMKjiJz_Zcu"
   },
   "outputs": [
    {
     "name": "stdout",
     "output_type": "stream",
     "text": [
      "day\n",
      "Friday       21840\n",
      "Monday       21354\n",
      "Wednesday    18059\n",
      "Name: time, dtype: int64\n"
     ]
    }
   ],
   "source": [
    "df.groupby('day')['time'].count() #подсчёт прослушиваний в каждый из трёх дней"
   ]
  },
  {
   "cell_type": "markdown",
   "metadata": {
    "id": "cC2tNrlL_Zcu"
   },
   "source": [
    "В среднем пользователи из двух городов менее активны по средам. Но картина может измениться, если рассмотреть каждый город в отдельности."
   ]
  },
  {
   "cell_type": "markdown",
   "metadata": {
    "id": "POzs8bGa_Zcu"
   },
   "source": [
    "Мы видели, как работает группировка по городу и по дням недели. Теперь напишите функцию, которая объединит два эти расчёта.\n",
    "\n",
    "Создадим функцию `number_tracks()`, которая посчитает прослушивания для заданного дня и города. Ей понадобятся два параметра:\n",
    "* день недели,\n",
    "* название города.\n",
    "\n",
    "В функции сохраним в переменную строки исходной таблицы, у которых значение:\n",
    "  * в колонке `day` равно параметру `day`,\n",
    "  * в колонке `city` равно параметру `city`.\n",
    "\n",
    "Для этого применим последовательную фильтрацию с логической индексацией.\n",
    "\n",
    "Затем посчитаем значения в столбце `user_id` получившейся таблицы. Результат сохраним в новую переменную. Вернем эту переменную из функции."
   ]
  },
  {
   "cell_type": "code",
   "execution_count": 20,
   "metadata": {
    "id": "Nz3GdQB1_Zcu"
   },
   "outputs": [],
   "source": [
    "def number_tracks(day, city):# <создание функции number_tracks()>\n",
    "# Объявляется функция с двумя параметрами: day, city.\n",
    "    track_list= df[df['day'] ==day]# В переменной track_list сохраняются те строки таблицы df, для которых \n",
    "    track_list = track_list[track_list['city'] ==city]# значение в столбце 'day' равно параметру day и одновременно значение\n",
    "# в столбце 'city' равно параметру city (используйте последовательную фильтрацию\n",
    "# с помощью логической индексации).\n",
    "    track_list_count = track_list['user_id'].count()# В переменной track_list_count сохраняется число значений столбца 'user_id',\n",
    "# рассчитанное методом count() для таблицы track_list.\n",
    "    return track_list_count# Функция возвращает число - значение track_list_count.\n",
    "\n",
    "# Функция для подсчёта прослушиваний для конкретного города и дня.\n",
    "# С помощью последовательной фильтрации с логической индексацией она сначала получит из исходной таблицы строки с нужным днём, затем из результата отфильтрует строки с нужным городом,\n",
    "# методом count() посчитает количество значений в колонке user_id. Это количество функция вернёт в качестве результата"
   ]
  },
  {
   "cell_type": "markdown",
   "metadata": {
    "id": "ytf7xFrFJQ2r"
   },
   "source": [
    "Вызовем `number_tracks()` шесть раз, меняя значение параметров — так, чтобы получить данные для каждого города в каждый из трёх дней."
   ]
  },
  {
   "cell_type": "code",
   "execution_count": 21,
   "metadata": {
    "id": "rJcRATNQ_Zcu"
   },
   "outputs": [
    {
     "data": {
      "text/plain": [
       "15740"
      ]
     },
     "execution_count": 21,
     "metadata": {},
     "output_type": "execute_result"
    }
   ],
   "source": [
    "number_tracks('Monday', 'Moscow')# количество прослушиваний в Москве по понедельникам"
   ]
  },
  {
   "cell_type": "code",
   "execution_count": 22,
   "metadata": {
    "id": "hq_ncZ5T_Zcu"
   },
   "outputs": [
    {
     "data": {
      "text/plain": [
       "5614"
      ]
     },
     "execution_count": 22,
     "metadata": {},
     "output_type": "execute_result"
    }
   ],
   "source": [
    "number_tracks('Monday', 'Saint-Petersburg')# количество прослушиваний в Санкт-Петербурге по понедельникам"
   ]
  },
  {
   "cell_type": "code",
   "execution_count": 23,
   "metadata": {
    "id": "_NTy2VPU_Zcu"
   },
   "outputs": [
    {
     "data": {
      "text/plain": [
       "11056"
      ]
     },
     "execution_count": 23,
     "metadata": {},
     "output_type": "execute_result"
    }
   ],
   "source": [
    "number_tracks('Wednesday', 'Moscow')# количество прослушиваний в Москве по средам"
   ]
  },
  {
   "cell_type": "code",
   "execution_count": 24,
   "metadata": {
    "id": "j2y3TAwo_Zcu"
   },
   "outputs": [
    {
     "data": {
      "text/plain": [
       "7003"
      ]
     },
     "execution_count": 24,
     "metadata": {},
     "output_type": "execute_result"
    }
   ],
   "source": [
    "number_tracks('Wednesday', 'Saint-Petersburg')# количество прослушиваний в Санкт-Петербурге по средам"
   ]
  },
  {
   "cell_type": "code",
   "execution_count": 25,
   "metadata": {
    "id": "vYDw5u_K_Zcu"
   },
   "outputs": [
    {
     "data": {
      "text/plain": [
       "15945"
      ]
     },
     "execution_count": 25,
     "metadata": {},
     "output_type": "execute_result"
    }
   ],
   "source": [
    "number_tracks('Friday', 'Moscow')# количество прослушиваний в Москве по пятницам"
   ]
  },
  {
   "cell_type": "code",
   "execution_count": 26,
   "metadata": {
    "id": "8_yzFtW3_Zcu"
   },
   "outputs": [
    {
     "data": {
      "text/plain": [
       "5895"
      ]
     },
     "execution_count": 26,
     "metadata": {},
     "output_type": "execute_result"
    }
   ],
   "source": [
    "number_tracks('Friday', 'Saint-Petersburg')# количество прослушиваний в Санкт-Петербурге по пятницам"
   ]
  },
  {
   "cell_type": "markdown",
   "metadata": {
    "id": "7QXffbO-_Zcu"
   },
   "source": [
    "Создадим c помощью конструктора `pd.DataFrame` таблицу, где\n",
    "* названия колонок — `['city', 'monday', 'wednesday', 'friday']`;\n",
    "* данные — результаты, которые вы получили с помощью `number_tracks`."
   ]
  },
  {
   "cell_type": "code",
   "execution_count": 27,
   "metadata": {
    "id": "APAcLpOr_Zcu"
   },
   "outputs": [
    {
     "data": {
      "text/html": [
       "<div>\n",
       "<style scoped>\n",
       "    .dataframe tbody tr th:only-of-type {\n",
       "        vertical-align: middle;\n",
       "    }\n",
       "\n",
       "    .dataframe tbody tr th {\n",
       "        vertical-align: top;\n",
       "    }\n",
       "\n",
       "    .dataframe thead th {\n",
       "        text-align: right;\n",
       "    }\n",
       "</style>\n",
       "<table border=\"1\" class=\"dataframe\">\n",
       "  <thead>\n",
       "    <tr style=\"text-align: right;\">\n",
       "      <th></th>\n",
       "      <th>city</th>\n",
       "      <th>monday</th>\n",
       "      <th>wednesday</th>\n",
       "      <th>friday</th>\n",
       "    </tr>\n",
       "  </thead>\n",
       "  <tbody>\n",
       "    <tr>\n",
       "      <td>0</td>\n",
       "      <td>Moscow</td>\n",
       "      <td>15740</td>\n",
       "      <td>11056</td>\n",
       "      <td>15945</td>\n",
       "    </tr>\n",
       "    <tr>\n",
       "      <td>1</td>\n",
       "      <td>Saint-Petersburg</td>\n",
       "      <td>5614</td>\n",
       "      <td>7003</td>\n",
       "      <td>5895</td>\n",
       "    </tr>\n",
       "  </tbody>\n",
       "</table>\n",
       "</div>"
      ],
      "text/plain": [
       "               city  monday  wednesday  friday\n",
       "0            Moscow   15740      11056   15945\n",
       "1  Saint-Petersburg    5614       7003    5895"
      ]
     },
     "metadata": {},
     "output_type": "display_data"
    }
   ],
   "source": [
    "data = [['Moscow', 15740, 11056, 15945],\n",
    "       ['Saint-Petersburg', 5614, 7003, 5895]]\n",
    "columns =['city', 'monday', 'wednesday', 'friday'] # Таблица с результатами\n",
    "result = pd.DataFrame(data=data, columns=columns)\n",
    "display(result)\n"
   ]
  },
  {
   "cell_type": "markdown",
   "metadata": {
    "id": "-EgPIHYu_Zcu"
   },
   "source": [
    "**Выводы**\n",
    "\n",
    "Данные показывают разницу поведения пользователей:\n",
    "\n",
    "- В Москве пик прослушиваний приходится на понедельник и пятницу, а в среду заметен спад\n",
    "- В Петербурге, наоборот, больше слушают музыку по средам. Активность в понедельник и пятницу здесь почти в равной мере уступает среде\n",
    "\n",
    "Значит, данные говорят в пользу первой гипотезы."
   ]
  },
  {
   "cell_type": "markdown",
   "metadata": {
    "id": "atZAxtq4_Zcu"
   },
   "source": [
    "### Музыка в начале и в конце недели"
   ]
  },
  {
   "cell_type": "markdown",
   "metadata": {
    "id": "eXrQqXFH_Zcu"
   },
   "source": [
    "Согласно второй гипотезе, утром в понедельник в Москве преобладают одни жанры, а в Петербурге — другие. Так же и вечером пятницы преобладают разные жанры — в зависимости от города."
   ]
  },
  {
   "cell_type": "markdown",
   "metadata": {
    "id": "S8UcW6Hw_Zcu"
   },
   "source": [
    "Сохраним таблицы с данными в две переменные:\n",
    "* по Москве — в `moscow_general`;\n",
    "* по Санкт-Петербургу — в `spb_general`."
   ]
  },
  {
   "cell_type": "code",
   "execution_count": 28,
   "metadata": {
    "id": "qeaFfM_P_Zcu"
   },
   "outputs": [
    {
     "data": {
      "text/html": [
       "<div>\n",
       "<style scoped>\n",
       "    .dataframe tbody tr th:only-of-type {\n",
       "        vertical-align: middle;\n",
       "    }\n",
       "\n",
       "    .dataframe tbody tr th {\n",
       "        vertical-align: top;\n",
       "    }\n",
       "\n",
       "    .dataframe thead th {\n",
       "        text-align: right;\n",
       "    }\n",
       "</style>\n",
       "<table border=\"1\" class=\"dataframe\">\n",
       "  <thead>\n",
       "    <tr style=\"text-align: right;\">\n",
       "      <th></th>\n",
       "      <th>user_id</th>\n",
       "      <th>track</th>\n",
       "      <th>artist</th>\n",
       "      <th>genre</th>\n",
       "      <th>city</th>\n",
       "      <th>time</th>\n",
       "      <th>day</th>\n",
       "    </tr>\n",
       "  </thead>\n",
       "  <tbody>\n",
       "    <tr>\n",
       "      <td>1</td>\n",
       "      <td>55204538</td>\n",
       "      <td>Delayed Because of Accident</td>\n",
       "      <td>Andreas Rönnberg</td>\n",
       "      <td>rock</td>\n",
       "      <td>Moscow</td>\n",
       "      <td>14:07:09</td>\n",
       "      <td>Friday</td>\n",
       "    </tr>\n",
       "    <tr>\n",
       "      <td>4</td>\n",
       "      <td>E2DC1FAE</td>\n",
       "      <td>Soul People</td>\n",
       "      <td>Space Echo</td>\n",
       "      <td>dance</td>\n",
       "      <td>Moscow</td>\n",
       "      <td>08:34:34</td>\n",
       "      <td>Monday</td>\n",
       "    </tr>\n",
       "    <tr>\n",
       "      <td>6</td>\n",
       "      <td>4CB90AA5</td>\n",
       "      <td>True</td>\n",
       "      <td>Roman Messer</td>\n",
       "      <td>dance</td>\n",
       "      <td>Moscow</td>\n",
       "      <td>13:00:07</td>\n",
       "      <td>Wednesday</td>\n",
       "    </tr>\n",
       "    <tr>\n",
       "      <td>7</td>\n",
       "      <td>F03E1C1F</td>\n",
       "      <td>Feeling This Way</td>\n",
       "      <td>Polina Griffith</td>\n",
       "      <td>dance</td>\n",
       "      <td>Moscow</td>\n",
       "      <td>20:47:49</td>\n",
       "      <td>Wednesday</td>\n",
       "    </tr>\n",
       "    <tr>\n",
       "      <td>8</td>\n",
       "      <td>8FA1D3BE</td>\n",
       "      <td>И вновь продолжается бой</td>\n",
       "      <td>unknown</td>\n",
       "      <td>ruspop</td>\n",
       "      <td>Moscow</td>\n",
       "      <td>09:17:40</td>\n",
       "      <td>Friday</td>\n",
       "    </tr>\n",
       "    <tr>\n",
       "      <td>...</td>\n",
       "      <td>...</td>\n",
       "      <td>...</td>\n",
       "      <td>...</td>\n",
       "      <td>...</td>\n",
       "      <td>...</td>\n",
       "      <td>...</td>\n",
       "      <td>...</td>\n",
       "    </tr>\n",
       "    <tr>\n",
       "      <td>61247</td>\n",
       "      <td>83A474E7</td>\n",
       "      <td>I Worship Only What You Bleed</td>\n",
       "      <td>The Black Dahlia Murder</td>\n",
       "      <td>extrememetal</td>\n",
       "      <td>Moscow</td>\n",
       "      <td>21:07:12</td>\n",
       "      <td>Monday</td>\n",
       "    </tr>\n",
       "    <tr>\n",
       "      <td>61248</td>\n",
       "      <td>729CBB09</td>\n",
       "      <td>My Name</td>\n",
       "      <td>McLean</td>\n",
       "      <td>rnb</td>\n",
       "      <td>Moscow</td>\n",
       "      <td>13:32:28</td>\n",
       "      <td>Wednesday</td>\n",
       "    </tr>\n",
       "    <tr>\n",
       "      <td>61250</td>\n",
       "      <td>C5E3A0D5</td>\n",
       "      <td>Jalopiina</td>\n",
       "      <td>unknown</td>\n",
       "      <td>industrial</td>\n",
       "      <td>Moscow</td>\n",
       "      <td>20:09:26</td>\n",
       "      <td>Friday</td>\n",
       "    </tr>\n",
       "    <tr>\n",
       "      <td>61251</td>\n",
       "      <td>321D0506</td>\n",
       "      <td>Freight Train</td>\n",
       "      <td>Chas McDevitt</td>\n",
       "      <td>rock</td>\n",
       "      <td>Moscow</td>\n",
       "      <td>21:43:59</td>\n",
       "      <td>Friday</td>\n",
       "    </tr>\n",
       "    <tr>\n",
       "      <td>61252</td>\n",
       "      <td>3A64EF84</td>\n",
       "      <td>Tell Me Sweet Little Lies</td>\n",
       "      <td>Monica Lopez</td>\n",
       "      <td>country</td>\n",
       "      <td>Moscow</td>\n",
       "      <td>21:59:46</td>\n",
       "      <td>Friday</td>\n",
       "    </tr>\n",
       "  </tbody>\n",
       "</table>\n",
       "<p>42741 rows × 7 columns</p>\n",
       "</div>"
      ],
      "text/plain": [
       "        user_id                          track                   artist  \\\n",
       "1      55204538    Delayed Because of Accident         Andreas Rönnberg   \n",
       "4      E2DC1FAE                    Soul People               Space Echo   \n",
       "6      4CB90AA5                           True             Roman Messer   \n",
       "7      F03E1C1F               Feeling This Way          Polina Griffith   \n",
       "8      8FA1D3BE       И вновь продолжается бой                  unknown   \n",
       "...         ...                            ...                      ...   \n",
       "61247  83A474E7  I Worship Only What You Bleed  The Black Dahlia Murder   \n",
       "61248  729CBB09                        My Name                   McLean   \n",
       "61250  C5E3A0D5                      Jalopiina                  unknown   \n",
       "61251  321D0506                  Freight Train            Chas McDevitt   \n",
       "61252  3A64EF84      Tell Me Sweet Little Lies             Monica Lopez   \n",
       "\n",
       "              genre    city      time        day  \n",
       "1              rock  Moscow  14:07:09     Friday  \n",
       "4             dance  Moscow  08:34:34     Monday  \n",
       "6             dance  Moscow  13:00:07  Wednesday  \n",
       "7             dance  Moscow  20:47:49  Wednesday  \n",
       "8            ruspop  Moscow  09:17:40     Friday  \n",
       "...             ...     ...       ...        ...  \n",
       "61247  extrememetal  Moscow  21:07:12     Monday  \n",
       "61248           rnb  Moscow  13:32:28  Wednesday  \n",
       "61250    industrial  Moscow  20:09:26     Friday  \n",
       "61251          rock  Moscow  21:43:59     Friday  \n",
       "61252       country  Moscow  21:59:46     Friday  \n",
       "\n",
       "[42741 rows x 7 columns]"
      ]
     },
     "metadata": {},
     "output_type": "display_data"
    }
   ],
   "source": [
    "moscow_general = df[df['city'] =='Moscow']# получение таблицы moscow_general из тех строк таблицы df, \n",
    "display(moscow_general)# для которых значение в столбце 'city' равно 'Moscow'\n"
   ]
  },
  {
   "cell_type": "code",
   "execution_count": 29,
   "metadata": {
    "id": "ORaVRKto_Zcu"
   },
   "outputs": [
    {
     "data": {
      "text/html": [
       "<div>\n",
       "<style scoped>\n",
       "    .dataframe tbody tr th:only-of-type {\n",
       "        vertical-align: middle;\n",
       "    }\n",
       "\n",
       "    .dataframe tbody tr th {\n",
       "        vertical-align: top;\n",
       "    }\n",
       "\n",
       "    .dataframe thead th {\n",
       "        text-align: right;\n",
       "    }\n",
       "</style>\n",
       "<table border=\"1\" class=\"dataframe\">\n",
       "  <thead>\n",
       "    <tr style=\"text-align: right;\">\n",
       "      <th></th>\n",
       "      <th>user_id</th>\n",
       "      <th>track</th>\n",
       "      <th>artist</th>\n",
       "      <th>genre</th>\n",
       "      <th>city</th>\n",
       "      <th>time</th>\n",
       "      <th>day</th>\n",
       "    </tr>\n",
       "  </thead>\n",
       "  <tbody>\n",
       "    <tr>\n",
       "      <td>0</td>\n",
       "      <td>FFB692EC</td>\n",
       "      <td>Kamigata To Boots</td>\n",
       "      <td>The Mass Missile</td>\n",
       "      <td>rock</td>\n",
       "      <td>Saint-Petersburg</td>\n",
       "      <td>20:28:33</td>\n",
       "      <td>Wednesday</td>\n",
       "    </tr>\n",
       "    <tr>\n",
       "      <td>2</td>\n",
       "      <td>20EC38</td>\n",
       "      <td>Funiculì funiculà</td>\n",
       "      <td>Mario Lanza</td>\n",
       "      <td>pop</td>\n",
       "      <td>Saint-Petersburg</td>\n",
       "      <td>20:58:07</td>\n",
       "      <td>Wednesday</td>\n",
       "    </tr>\n",
       "    <tr>\n",
       "      <td>3</td>\n",
       "      <td>A3DD03C9</td>\n",
       "      <td>Dragons in the Sunset</td>\n",
       "      <td>Fire + Ice</td>\n",
       "      <td>folk</td>\n",
       "      <td>Saint-Petersburg</td>\n",
       "      <td>08:37:09</td>\n",
       "      <td>Monday</td>\n",
       "    </tr>\n",
       "    <tr>\n",
       "      <td>5</td>\n",
       "      <td>842029A1</td>\n",
       "      <td>Преданная</td>\n",
       "      <td>IMPERVTOR</td>\n",
       "      <td>rusrap</td>\n",
       "      <td>Saint-Petersburg</td>\n",
       "      <td>13:09:41</td>\n",
       "      <td>Friday</td>\n",
       "    </tr>\n",
       "    <tr>\n",
       "      <td>9</td>\n",
       "      <td>E772D5C0</td>\n",
       "      <td>Pessimist</td>\n",
       "      <td>unknown</td>\n",
       "      <td>dance</td>\n",
       "      <td>Saint-Petersburg</td>\n",
       "      <td>21:20:49</td>\n",
       "      <td>Wednesday</td>\n",
       "    </tr>\n",
       "    <tr>\n",
       "      <td>...</td>\n",
       "      <td>...</td>\n",
       "      <td>...</td>\n",
       "      <td>...</td>\n",
       "      <td>...</td>\n",
       "      <td>...</td>\n",
       "      <td>...</td>\n",
       "      <td>...</td>\n",
       "    </tr>\n",
       "    <tr>\n",
       "      <td>61239</td>\n",
       "      <td>D94F810B</td>\n",
       "      <td>Theme from the Walking Dead</td>\n",
       "      <td>Proyecto Halloween</td>\n",
       "      <td>film</td>\n",
       "      <td>Saint-Petersburg</td>\n",
       "      <td>21:14:40</td>\n",
       "      <td>Monday</td>\n",
       "    </tr>\n",
       "    <tr>\n",
       "      <td>61240</td>\n",
       "      <td>BC8EC5CF</td>\n",
       "      <td>Red Lips: Gta (Rover Rework)</td>\n",
       "      <td>Rover</td>\n",
       "      <td>electronic</td>\n",
       "      <td>Saint-Petersburg</td>\n",
       "      <td>21:06:50</td>\n",
       "      <td>Monday</td>\n",
       "    </tr>\n",
       "    <tr>\n",
       "      <td>61241</td>\n",
       "      <td>29E04611</td>\n",
       "      <td>Bre Petrunko</td>\n",
       "      <td>Perunika Trio</td>\n",
       "      <td>world</td>\n",
       "      <td>Saint-Petersburg</td>\n",
       "      <td>13:56:00</td>\n",
       "      <td>Monday</td>\n",
       "    </tr>\n",
       "    <tr>\n",
       "      <td>61242</td>\n",
       "      <td>1B91C621</td>\n",
       "      <td>(Hello) Cloud Mountain</td>\n",
       "      <td>sleepmakeswaves</td>\n",
       "      <td>postrock</td>\n",
       "      <td>Saint-Petersburg</td>\n",
       "      <td>09:22:13</td>\n",
       "      <td>Monday</td>\n",
       "    </tr>\n",
       "    <tr>\n",
       "      <td>61249</td>\n",
       "      <td>D08D4A55</td>\n",
       "      <td>Maybe One Day (feat. Black Spade)</td>\n",
       "      <td>Blu &amp; Exile</td>\n",
       "      <td>hiphop</td>\n",
       "      <td>Saint-Petersburg</td>\n",
       "      <td>10:00:00</td>\n",
       "      <td>Monday</td>\n",
       "    </tr>\n",
       "  </tbody>\n",
       "</table>\n",
       "<p>18512 rows × 7 columns</p>\n",
       "</div>"
      ],
      "text/plain": [
       "        user_id                              track              artist  \\\n",
       "0      FFB692EC                  Kamigata To Boots    The Mass Missile   \n",
       "2        20EC38                  Funiculì funiculà         Mario Lanza   \n",
       "3      A3DD03C9              Dragons in the Sunset          Fire + Ice   \n",
       "5      842029A1                          Преданная           IMPERVTOR   \n",
       "9      E772D5C0                          Pessimist             unknown   \n",
       "...         ...                                ...                 ...   \n",
       "61239  D94F810B        Theme from the Walking Dead  Proyecto Halloween   \n",
       "61240  BC8EC5CF       Red Lips: Gta (Rover Rework)               Rover   \n",
       "61241  29E04611                       Bre Petrunko       Perunika Trio   \n",
       "61242  1B91C621             (Hello) Cloud Mountain     sleepmakeswaves   \n",
       "61249  D08D4A55  Maybe One Day (feat. Black Spade)         Blu & Exile   \n",
       "\n",
       "            genre              city      time        day  \n",
       "0            rock  Saint-Petersburg  20:28:33  Wednesday  \n",
       "2             pop  Saint-Petersburg  20:58:07  Wednesday  \n",
       "3            folk  Saint-Petersburg  08:37:09     Monday  \n",
       "5          rusrap  Saint-Petersburg  13:09:41     Friday  \n",
       "9           dance  Saint-Petersburg  21:20:49  Wednesday  \n",
       "...           ...               ...       ...        ...  \n",
       "61239        film  Saint-Petersburg  21:14:40     Monday  \n",
       "61240  electronic  Saint-Petersburg  21:06:50     Monday  \n",
       "61241       world  Saint-Petersburg  13:56:00     Monday  \n",
       "61242    postrock  Saint-Petersburg  09:22:13     Monday  \n",
       "61249      hiphop  Saint-Petersburg  10:00:00     Monday  \n",
       "\n",
       "[18512 rows x 7 columns]"
      ]
     },
     "metadata": {},
     "output_type": "display_data"
    }
   ],
   "source": [
    "spb_general = df[df['city'] =='Saint-Petersburg']# получение таблицы spb_general из тех строк таблицы df,\n",
    "display(spb_general)# для которых значение в столбце 'city' равно 'Saint-Petersburg'\n"
   ]
  },
  {
   "cell_type": "markdown",
   "metadata": {
    "id": "MEJV-CX2_Zcu"
   },
   "source": [
    "Создадим функцию `genre_weekday()` с четырьмя параметрами:\n",
    "* таблица (датафрейм) с данными,\n",
    "* день недели,\n",
    "* начальная временная метка в формате 'hh:mm', \n",
    "* последняя временная метка в формате 'hh:mm'.\n",
    "\n",
    "Функция должна вернуть информацию о топ-10 жанров тех треков, которые прослушивали в указанный день, в промежутке между двумя отметками времени."
   ]
  },
  {
   "cell_type": "code",
   "execution_count": 30,
   "metadata": {
    "id": "laJT9BYl_Zcu"
   },
   "outputs": [],
   "source": [
    "def genre_weekday(table, day, time1, time2):\n",
    "# Объявление функции genre_weekday() с параметрами table, day, time1, time2,\n",
    "# которая возвращает информацию о самых популярных жанрах в указанный день в заданное время:\n",
    "# 1) в переменную genre_df сохраняются те строки переданного датафрейма table, для которых одновременно:\n",
    "    genre_df = table[table['day'] == day] #    - значение в столбце day равно значению аргумента day\n",
    "    genre_df = genre_df[genre_df['time'] > time1]#    - значение в столбце time больше значения аргумента time1\n",
    "    genre_df = genre_df[genre_df['time'] < time2]#    - значение в столбце time меньше значения аргумента time2\n",
    "#    Используйте последовательную фильтрацию с помощью логической индексации.\n",
    "# 2) сгруппировать датафрейм genre_df по столбцу genre, взять один из его\n",
    "    genre_df_count = genre_df.groupby('genre')['genre'].count()\n",
    "#    столбцов и посчитать методом count() количество записей для каждого из\n",
    "#    присутствующих жанров, получившийся Series записать в переменную\n",
    "#    genre_df_count\n",
    "    genre_df_sorted = genre_df_count.sort_values(ascending=False)\n",
    "# 3) отсортировать genre_df_count по убыванию встречаемости и сохранить\n",
    "#    в переменную genre_df_sorted\n",
    "    return genre_df_sorted.head(10)\n",
    "# 4) вернуть Series из 10 первых значений genre_df_sorted, это будут топ-10\n",
    "#    популярных жанров (в указанный день, в заданное время)"
   ]
  },
  {
   "cell_type": "markdown",
   "metadata": {
    "id": "la2s2_PF_Zcu"
   },
   "source": [
    "Cравните результаты функции `genre_weekday()` для Москвы и Санкт-Петербурга в понедельник утром (с 7:00 до 11:00) и в пятницу вечером (с 17:00 до 23:00):"
   ]
  },
  {
   "cell_type": "code",
   "execution_count": 31,
   "metadata": {
    "id": "yz7itPUQ_Zcu"
   },
   "outputs": [
    {
     "data": {
      "text/plain": [
       "genre\n",
       "pop            781\n",
       "dance          549\n",
       "electronic     480\n",
       "rock           474\n",
       "hiphop         286\n",
       "ruspop         186\n",
       "world          181\n",
       "rusrap         175\n",
       "alternative    164\n",
       "unknown        161\n",
       "Name: genre, dtype: int64"
      ]
     },
     "execution_count": 31,
     "metadata": {},
     "output_type": "execute_result"
    }
   ],
   "source": [
    "genre_weekday(moscow_general, 'Monday', '07:00', '11:00')\n",
    "# вызов функции для утра понедельника в Москве (вместо df — таблица moscow_general)\n",
    "# объекты, хранящие время, являются строками и сравниваются как строки\n",
    "# пример вызова: genre_weekday(moscow_general, 'Monday', '07:00', '11:00')"
   ]
  },
  {
   "cell_type": "code",
   "execution_count": 32,
   "metadata": {
    "id": "kwUcHPdy_Zcu"
   },
   "outputs": [
    {
     "data": {
      "text/plain": [
       "genre\n",
       "pop            218\n",
       "dance          182\n",
       "rock           162\n",
       "electronic     147\n",
       "hiphop          80\n",
       "ruspop          64\n",
       "alternative     58\n",
       "rusrap          55\n",
       "jazz            44\n",
       "classical       40\n",
       "Name: genre, dtype: int64"
      ]
     },
     "execution_count": 32,
     "metadata": {},
     "output_type": "execute_result"
    }
   ],
   "source": [
    "genre_weekday(spb_general, 'Monday', '07:00', '11:00')\n",
    "# вызов функции для утра понедельника в Петербурге (вместо df — таблица spb_general)"
   ]
  },
  {
   "cell_type": "code",
   "execution_count": 33,
   "metadata": {
    "id": "EzXVRE1o_Zcu"
   },
   "outputs": [
    {
     "data": {
      "text/plain": [
       "genre\n",
       "pop            713\n",
       "rock           517\n",
       "dance          495\n",
       "electronic     482\n",
       "hiphop         273\n",
       "world          208\n",
       "ruspop         170\n",
       "alternative    163\n",
       "classical      163\n",
       "rusrap         142\n",
       "Name: genre, dtype: int64"
      ]
     },
     "execution_count": 33,
     "metadata": {},
     "output_type": "execute_result"
    }
   ],
   "source": [
    "genre_weekday(moscow_general, 'Friday', '17:00', '23:00')\n",
    "# вызов функции для вечера пятницы в Москве"
   ]
  },
  {
   "cell_type": "code",
   "execution_count": 34,
   "metadata": {
    "id": "JZaEKu5v_Zcu"
   },
   "outputs": [
    {
     "data": {
      "text/plain": [
       "genre\n",
       "pop            256\n",
       "rock           216\n",
       "electronic     216\n",
       "dance          210\n",
       "hiphop          97\n",
       "alternative     63\n",
       "jazz            61\n",
       "classical       60\n",
       "rusrap          59\n",
       "world           54\n",
       "Name: genre, dtype: int64"
      ]
     },
     "execution_count": 34,
     "metadata": {},
     "output_type": "execute_result"
    }
   ],
   "source": [
    "genre_weekday(spb_general, 'Friday', '17:00', '23:00')\n",
    "# вызов функции для вечера пятницы в Петербурге"
   ]
  },
  {
   "cell_type": "markdown",
   "metadata": {
    "id": "wrCe4MNX_Zcu"
   },
   "source": [
    "**Выводы**\n",
    "\n",
    "Если сравнить топ-10 жанров в понедельник утром, можно сделать такие выводы:\n",
    "\n",
    "1. В Москве и Петербурге слушают похожую музыку. Единственное отличие — в московский рейтинг вошёл жанр “world”, а в петербургский — джаз и классика.\n",
    "\n",
    "2. В Москве пропущенных значений оказалось так много, что значение `'unknown'` заняло десятое место среди самых популярных жанров. Значит, пропущенные значения занимают существенную долю в данных и угрожают достоверности исследования.\n",
    "\n",
    "Вечер пятницы не меняет эту картину. Некоторые жанры поднимаются немного выше, другие спускаются, но в целом топ-10 остаётся тем же самым.\n",
    "\n",
    "Таким образом, вторая гипотеза подтвердилась лишь частично:\n",
    "* Пользователи слушают похожую музыку в начале недели и в конце.\n",
    "* Разница между Москвой и Петербургом не слишком выражена. В Москве чаще слушают русскую популярную музыку, в Петербурге — джаз.\n",
    "\n",
    "Однако пропуски в данных ставят под сомнение этот результат. В Москве их так много, что рейтинг топ-10 мог бы выглядеть иначе, если бы не утерянные  данные о жанрах."
   ]
  },
  {
   "cell_type": "markdown",
   "metadata": {
    "id": "JolODAqr_Zcu"
   },
   "source": [
    "### Жанровые предпочтения в Москве и Петербурге\n",
    "\n",
    "Гипотеза: Петербург — столица рэпа, музыку этого жанра там слушают чаще, чем в Москве.  А Москва — город контрастов, в котором, тем не менее, преобладает поп-музыка."
   ]
  },
  {
   "cell_type": "markdown",
   "metadata": {
    "id": "DlegSvaT_Zcu"
   },
   "source": [
    "Сгруппируем таблицу `moscow_general` по жанру и посчитаем прослушивания треков каждого жанра методом `count()`. Затем отсортируем результат в порядке убывания и сохраним его в таблице `moscow_genres`."
   ]
  },
  {
   "cell_type": "code",
   "execution_count": 35,
   "metadata": {
    "id": "r19lIPke_Zcu"
   },
   "outputs": [],
   "source": [
    "moscow_genres = moscow_general.groupby ('genre')['genre'].count() # одной строкой: группировка таблицы moscow_general по столбцу 'genre', \n",
    "# подсчёт числа значений 'genre' в этой группировке методом count(), \n",
    "moscow_genres = moscow_genres.sort_values(ascending=False)# сортировка получившегося Series в порядке убывания и сохранение в moscow_genres"
   ]
  },
  {
   "cell_type": "markdown",
   "metadata": {
    "id": "6kMuomxTiIr8"
   },
   "source": [
    "Выведем на экран первые десять строк `moscow_genres`:"
   ]
  },
  {
   "cell_type": "code",
   "execution_count": 36,
   "metadata": {
    "id": "WhCSooF8_Zcv"
   },
   "outputs": [
    {
     "data": {
      "text/plain": [
       "genre\n",
       "pop            5892\n",
       "dance          4435\n",
       "rock           3965\n",
       "electronic     3786\n",
       "hiphop         2096\n",
       "classical      1616\n",
       "world          1432\n",
       "alternative    1379\n",
       "ruspop         1372\n",
       "rusrap         1161\n",
       "Name: genre, dtype: int64"
      ]
     },
     "metadata": {},
     "output_type": "display_data"
    }
   ],
   "source": [
    "moscow_genres.head(10)# просмотр первых 10 строк moscow_genres"
   ]
  },
  {
   "cell_type": "markdown",
   "metadata": {
    "id": "cnPG2vnN_Zcv"
   },
   "source": [
    "Теперь повторим то же и для Петербурга.\n",
    "\n",
    "Сгруппируем таблицу `spb_general` по жанру. Посчитаем прослушивания треков каждого жанра. Результат отсортируем в порядке убывания и сохраните в таблице `spb_genres`:\n"
   ]
  },
  {
   "cell_type": "code",
   "execution_count": 37,
   "metadata": {
    "id": "gluLIpE7_Zcv"
   },
   "outputs": [],
   "source": [
    "spb_genres = spb_general.groupby ('genre')['genre'].count()# одной строкой: группировка таблицы spb_general по столбцу 'genre', \n",
    "# подсчёт числа значений 'genre' в этой группировке методом count(), \n",
    "spb_genres = spb_genres.sort_values(ascending=False)# сортировка получившегося Series в порядке убывания и сохранение в spb_genres"
   ]
  },
  {
   "cell_type": "markdown",
   "metadata": {
    "id": "5Doha_ODgyQ8"
   },
   "source": [
    "Выведем на экран первые десять строк `spb_genres`:"
   ]
  },
  {
   "cell_type": "code",
   "execution_count": 38,
   "metadata": {
    "id": "uaGJHjVU_Zcv"
   },
   "outputs": [
    {
     "data": {
      "text/plain": [
       "genre\n",
       "pop            2431\n",
       "dance          1932\n",
       "rock           1879\n",
       "electronic     1736\n",
       "hiphop          960\n",
       "alternative     649\n",
       "classical       646\n",
       "rusrap          564\n",
       "ruspop          538\n",
       "world           515\n",
       "Name: genre, dtype: int64"
      ]
     },
     "metadata": {},
     "output_type": "display_data"
    }
   ],
   "source": [
    "spb_genres.head(10)# просмотр первых 10 строк spb_genres"
   ]
  },
  {
   "cell_type": "markdown",
   "metadata": {
    "id": "RY51YJYu_Zcv"
   },
   "source": [
    "**Выводы**"
   ]
  },
  {
   "cell_type": "markdown",
   "metadata": {
    "id": "nVhnJEm__Zcv"
   },
   "source": [
    "Гипотеза частично подтвердилась:\n",
    "* Поп-музыка — самый популярный жанр в Москве, как и предполагала гипотеза. Более того, в топ-10 жанров встречается близкий жанр — русская популярная музыка.\n",
    "* Вопреки ожиданиям, рэп одинаково популярен в Москве и Петербурге. \n"
   ]
  },
  {
   "cell_type": "markdown",
   "metadata": {
    "id": "ykKQ0N65_Zcv"
   },
   "source": [
    "## Итоги исследования"
   ]
  },
  {
   "cell_type": "markdown",
   "metadata": {
    "id": "tjUwbHb3_Zcv"
   },
   "source": [
    "Мы проверили три гипотезы и установили:\n",
    "\n",
    "1. День недели по-разному влияет на активность пользователей в Москве и Петербурге. \n",
    "\n",
    "Первая гипотеза полностью подтвердилась.\n",
    "\n",
    "2. Музыкальные предпочтения не сильно меняются в течение недели — будь то Москва или Петербург. Небольшие различия заметны в начале недели, по понедельникам:\n",
    "* в Москве слушают музыку жанра “world”,\n",
    "* в Петербурге — джаз и классику.\n",
    "\n",
    "Таким образом, вторая гипотеза подтвердилась лишь отчасти. Этот результат мог оказаться иным, если бы не пропуски в данных.\n",
    "\n",
    "3. Во вкусах пользователей Москвы и Петербурга больше общего чем различий. Вопреки ожиданиям, предпочтения жанров в Петербурге напоминают московские.\n",
    "\n",
    "Третья гипотеза не подтвердилась. Если различия в предпочтениях и существуют, на основной массе пользователей они незаметны.\n",
    "\n",
    "**На практике исследования содержат проверки статистических гипотез.**\n",
    "Из данных одного сервиса не всегда можно сделать вывод о всех жителях города.\n",
    "Проверки статистических гипотез покажут, насколько они достоверны, исходя из имеющихся данных. "
   ]
  }
 ],
 "metadata": {
  "ExecuteTimeLog": [
   {
    "duration": 597,
    "start_time": "2022-02-11T16:14:50.168Z"
   },
   {
    "duration": 228,
    "start_time": "2022-02-11T16:15:05.158Z"
   },
   {
    "duration": 161,
    "start_time": "2022-02-11T16:15:24.546Z"
   },
   {
    "duration": 176,
    "start_time": "2022-02-11T16:17:56.974Z"
   },
   {
    "duration": 187,
    "start_time": "2022-02-11T16:18:09.177Z"
   },
   {
    "duration": 58,
    "start_time": "2022-02-11T16:18:26.543Z"
   },
   {
    "duration": 131,
    "start_time": "2022-02-11T16:18:47.447Z"
   },
   {
    "duration": 9,
    "start_time": "2022-02-11T16:19:00.031Z"
   },
   {
    "duration": 11,
    "start_time": "2022-02-11T16:19:28.772Z"
   },
   {
    "duration": 16,
    "start_time": "2022-02-11T16:20:14.214Z"
   },
   {
    "duration": 9,
    "start_time": "2022-02-11T16:20:26.091Z"
   },
   {
    "duration": 5,
    "start_time": "2022-02-11T16:33:04.475Z"
   },
   {
    "duration": 20,
    "start_time": "2022-02-11T16:35:53.194Z"
   },
   {
    "duration": 3,
    "start_time": "2022-02-11T16:36:04.015Z"
   },
   {
    "duration": 502,
    "start_time": "2022-02-12T07:56:46.789Z"
   },
   {
    "duration": 355,
    "start_time": "2022-02-12T07:57:37.661Z"
   },
   {
    "duration": 341,
    "start_time": "2022-02-12T08:05:18.911Z"
   },
   {
    "duration": 353,
    "start_time": "2022-02-12T08:06:56.279Z"
   },
   {
    "duration": 749,
    "start_time": "2022-02-12T08:07:04.880Z"
   },
   {
    "duration": 172,
    "start_time": "2022-02-12T08:07:07.761Z"
   },
   {
    "duration": 28,
    "start_time": "2022-02-12T08:07:14.399Z"
   },
   {
    "duration": 12,
    "start_time": "2022-02-12T08:07:18.790Z"
   },
   {
    "duration": 5,
    "start_time": "2022-02-12T08:07:53.088Z"
   },
   {
    "duration": 25,
    "start_time": "2022-02-12T08:08:01.874Z"
   },
   {
    "duration": 6,
    "start_time": "2022-02-12T08:08:13.950Z"
   },
   {
    "duration": 29,
    "start_time": "2022-02-12T08:08:18.934Z"
   },
   {
    "duration": 26,
    "start_time": "2022-02-12T08:14:48.018Z"
   },
   {
    "duration": 22,
    "start_time": "2022-02-12T08:14:52.718Z"
   },
   {
    "duration": 33,
    "start_time": "2022-02-12T08:15:08.198Z"
   },
   {
    "duration": 81,
    "start_time": "2022-02-12T08:19:00.338Z"
   },
   {
    "duration": 96,
    "start_time": "2022-02-12T08:20:36.335Z"
   },
   {
    "duration": 73,
    "start_time": "2022-02-12T08:20:39.723Z"
   },
   {
    "duration": 9,
    "start_time": "2022-02-12T08:23:28.664Z"
   },
   {
    "duration": 8,
    "start_time": "2022-02-12T08:23:54.219Z"
   },
   {
    "duration": 422,
    "start_time": "2022-02-12T08:32:22.489Z"
   },
   {
    "duration": 8,
    "start_time": "2022-02-12T08:32:32.728Z"
   },
   {
    "duration": 131,
    "start_time": "2022-02-12T08:34:50.070Z"
   },
   {
    "duration": 383,
    "start_time": "2022-02-12T08:35:01.104Z"
   },
   {
    "duration": 184,
    "start_time": "2022-02-12T08:36:38.240Z"
   },
   {
    "duration": 135,
    "start_time": "2022-02-12T08:39:09.637Z"
   },
   {
    "duration": 131,
    "start_time": "2022-02-12T08:40:44.178Z"
   },
   {
    "duration": 371,
    "start_time": "2022-02-12T08:40:48.419Z"
   },
   {
    "duration": 108,
    "start_time": "2022-02-12T08:42:54.171Z"
   },
   {
    "duration": 122,
    "start_time": "2022-02-12T08:43:08.186Z"
   },
   {
    "duration": 115,
    "start_time": "2022-02-12T08:44:43.984Z"
   },
   {
    "duration": 139,
    "start_time": "2022-02-12T08:45:57.334Z"
   },
   {
    "duration": 194,
    "start_time": "2022-02-12T08:49:28.756Z"
   },
   {
    "duration": 134,
    "start_time": "2022-02-12T08:50:00.523Z"
   },
   {
    "duration": 371,
    "start_time": "2022-02-12T08:50:17.044Z"
   },
   {
    "duration": 366,
    "start_time": "2022-02-12T08:50:29.172Z"
   },
   {
    "duration": 5,
    "start_time": "2022-02-12T10:42:19.263Z"
   },
   {
    "duration": 126,
    "start_time": "2022-02-12T10:50:42.699Z"
   },
   {
    "duration": 227,
    "start_time": "2022-02-12T10:51:56.146Z"
   },
   {
    "duration": 158,
    "start_time": "2022-02-12T10:52:44.561Z"
   },
   {
    "duration": 115,
    "start_time": "2022-02-12T10:52:56.775Z"
   },
   {
    "duration": 124,
    "start_time": "2022-02-12T10:53:08.585Z"
   },
   {
    "duration": 116,
    "start_time": "2022-02-12T10:53:39.762Z"
   },
   {
    "duration": 160,
    "start_time": "2022-02-12T10:53:56.979Z"
   },
   {
    "duration": 118,
    "start_time": "2022-02-12T11:08:19.551Z"
   },
   {
    "duration": 349,
    "start_time": "2022-02-12T11:08:42.597Z"
   },
   {
    "duration": 8,
    "start_time": "2022-02-12T11:08:51.824Z"
   },
   {
    "duration": 125,
    "start_time": "2022-02-12T11:12:52.256Z"
   },
   {
    "duration": 248,
    "start_time": "2022-02-12T11:20:07.743Z"
   },
   {
    "duration": 119,
    "start_time": "2022-02-12T11:20:36.030Z"
   },
   {
    "duration": 116,
    "start_time": "2022-02-12T11:20:49.796Z"
   },
   {
    "duration": 4,
    "start_time": "2022-02-12T11:21:34.382Z"
   },
   {
    "duration": 705,
    "start_time": "2022-02-12T11:21:43.358Z"
   },
   {
    "duration": 4,
    "start_time": "2022-02-12T11:22:08.305Z"
   },
   {
    "duration": 826,
    "start_time": "2022-02-12T11:22:28.383Z"
   },
   {
    "duration": 354,
    "start_time": "2022-02-12T11:22:55.013Z"
   },
   {
    "duration": 358,
    "start_time": "2022-02-12T11:23:04.453Z"
   },
   {
    "duration": 350,
    "start_time": "2022-02-12T11:25:55.529Z"
   },
   {
    "duration": 421,
    "start_time": "2022-02-12T11:26:46.806Z"
   },
   {
    "duration": 352,
    "start_time": "2022-02-12T11:27:52.611Z"
   },
   {
    "duration": 345,
    "start_time": "2022-02-12T11:29:10.499Z"
   },
   {
    "duration": 712,
    "start_time": "2022-02-12T11:29:27.131Z"
   },
   {
    "duration": 339,
    "start_time": "2022-02-12T11:32:38.108Z"
   },
   {
    "duration": 391,
    "start_time": "2022-02-12T11:33:19.374Z"
   },
   {
    "duration": 1050,
    "start_time": "2022-02-12T11:33:33.017Z"
   },
   {
    "duration": 4,
    "start_time": "2022-02-12T11:33:53.222Z"
   },
   {
    "duration": 3,
    "start_time": "2022-02-12T11:33:57.468Z"
   },
   {
    "duration": 740,
    "start_time": "2022-02-12T11:34:03.210Z"
   },
   {
    "duration": 4,
    "start_time": "2022-02-12T11:36:08.041Z"
   },
   {
    "duration": 913,
    "start_time": "2022-02-12T11:36:13.435Z"
   },
   {
    "duration": 564,
    "start_time": "2022-02-12T11:36:45.037Z"
   },
   {
    "duration": 4,
    "start_time": "2022-02-12T11:36:58.368Z"
   },
   {
    "duration": 381,
    "start_time": "2022-02-12T11:37:04.068Z"
   },
   {
    "duration": 9,
    "start_time": "2022-02-12T11:37:18.961Z"
   },
   {
    "duration": 119,
    "start_time": "2022-02-12T11:40:58.869Z"
   },
   {
    "duration": 5,
    "start_time": "2022-02-12T11:41:30.853Z"
   },
   {
    "duration": 9,
    "start_time": "2022-02-12T11:41:35.991Z"
   },
   {
    "duration": 8,
    "start_time": "2022-02-12T11:42:10.650Z"
   },
   {
    "duration": 13,
    "start_time": "2022-02-12T11:46:17.845Z"
   },
   {
    "duration": 9,
    "start_time": "2022-02-12T11:46:24.595Z"
   },
   {
    "duration": 9,
    "start_time": "2022-02-12T11:47:25.837Z"
   },
   {
    "duration": 10,
    "start_time": "2022-02-12T11:47:45.061Z"
   },
   {
    "duration": 8,
    "start_time": "2022-02-12T11:47:51.494Z"
   },
   {
    "duration": 9,
    "start_time": "2022-02-12T11:48:11.386Z"
   },
   {
    "duration": 8,
    "start_time": "2022-02-12T11:48:23.944Z"
   },
   {
    "duration": 10,
    "start_time": "2022-02-12T11:48:46.360Z"
   },
   {
    "duration": 8,
    "start_time": "2022-02-12T11:48:51.272Z"
   },
   {
    "duration": 363,
    "start_time": "2022-02-12T11:49:10.154Z"
   },
   {
    "duration": 408,
    "start_time": "2022-02-12T11:49:32.640Z"
   },
   {
    "duration": 10,
    "start_time": "2022-02-12T11:49:38.052Z"
   },
   {
    "duration": 8,
    "start_time": "2022-02-12T11:49:43.088Z"
   },
   {
    "duration": 10,
    "start_time": "2022-02-12T11:52:39.863Z"
   },
   {
    "duration": 8,
    "start_time": "2022-02-12T11:52:58.921Z"
   },
   {
    "duration": 4,
    "start_time": "2022-02-12T11:53:18.301Z"
   },
   {
    "duration": 9,
    "start_time": "2022-02-12T11:53:33.338Z"
   },
   {
    "duration": 8,
    "start_time": "2022-02-12T11:53:39.851Z"
   },
   {
    "duration": 13,
    "start_time": "2022-02-12T11:56:52.419Z"
   },
   {
    "duration": 14,
    "start_time": "2022-02-12T11:57:08.856Z"
   },
   {
    "duration": 14,
    "start_time": "2022-02-12T11:58:15.149Z"
   },
   {
    "duration": 14,
    "start_time": "2022-02-12T11:58:29.935Z"
   },
   {
    "duration": 14,
    "start_time": "2022-02-12T12:16:35.559Z"
   },
   {
    "duration": 8,
    "start_time": "2022-02-12T12:16:41.515Z"
   },
   {
    "duration": 5,
    "start_time": "2022-02-12T13:09:15.589Z"
   },
   {
    "duration": 354,
    "start_time": "2022-02-12T13:09:29.689Z"
   },
   {
    "duration": 23,
    "start_time": "2022-02-12T13:09:41.098Z"
   },
   {
    "duration": 20,
    "start_time": "2022-02-12T13:15:42.746Z"
   },
   {
    "duration": 19,
    "start_time": "2022-02-12T13:15:46.738Z"
   },
   {
    "duration": 20,
    "start_time": "2022-02-12T13:15:51.017Z"
   },
   {
    "duration": 22,
    "start_time": "2022-02-12T13:15:53.967Z"
   },
   {
    "duration": 19,
    "start_time": "2022-02-12T13:15:56.709Z"
   },
   {
    "duration": 126,
    "start_time": "2022-02-12T13:23:08.123Z"
   },
   {
    "duration": 121,
    "start_time": "2022-02-12T13:23:36.586Z"
   },
   {
    "duration": 136,
    "start_time": "2022-02-12T13:23:52.744Z"
   },
   {
    "duration": 111,
    "start_time": "2022-02-12T13:27:09.297Z"
   },
   {
    "duration": 124,
    "start_time": "2022-02-12T13:27:26.849Z"
   },
   {
    "duration": 373,
    "start_time": "2022-02-12T13:28:17.637Z"
   },
   {
    "duration": 130,
    "start_time": "2022-02-12T13:31:35.303Z"
   },
   {
    "duration": 12,
    "start_time": "2022-02-12T13:32:34.697Z"
   },
   {
    "duration": 12,
    "start_time": "2022-02-12T13:32:49.517Z"
   },
   {
    "duration": 5,
    "start_time": "2022-02-12T13:39:09.260Z"
   },
   {
    "duration": 11,
    "start_time": "2022-02-12T13:39:35.120Z"
   },
   {
    "duration": 130,
    "start_time": "2022-02-12T13:41:09.511Z"
   },
   {
    "duration": 132,
    "start_time": "2022-02-12T13:41:18.507Z"
   },
   {
    "duration": 11,
    "start_time": "2022-02-12T13:42:14.221Z"
   },
   {
    "duration": 12,
    "start_time": "2022-02-12T13:42:52.505Z"
   },
   {
    "duration": 155,
    "start_time": "2022-02-12T13:42:56.366Z"
   },
   {
    "duration": 12,
    "start_time": "2022-02-12T13:48:41.847Z"
   },
   {
    "duration": 11,
    "start_time": "2022-02-12T13:48:51.093Z"
   },
   {
    "duration": 13,
    "start_time": "2022-02-12T13:49:40.732Z"
   },
   {
    "duration": 11,
    "start_time": "2022-02-12T13:49:47.709Z"
   },
   {
    "duration": 123,
    "start_time": "2022-02-12T13:49:51.341Z"
   },
   {
    "duration": 116,
    "start_time": "2022-02-12T14:05:27.445Z"
   },
   {
    "duration": 356,
    "start_time": "2022-02-12T14:05:50.123Z"
   },
   {
    "duration": 11,
    "start_time": "2022-02-12T14:06:53.975Z"
   },
   {
    "duration": 127,
    "start_time": "2022-02-12T14:06:57.690Z"
   },
   {
    "duration": 11,
    "start_time": "2022-02-12T14:13:26.437Z"
   },
   {
    "duration": 11,
    "start_time": "2022-02-12T14:13:31.605Z"
   },
   {
    "duration": 221,
    "start_time": "2022-02-12T14:13:33.996Z"
   },
   {
    "duration": 117,
    "start_time": "2022-02-12T14:13:43.422Z"
   },
   {
    "duration": 419,
    "start_time": "2022-02-12T14:16:41.714Z"
   },
   {
    "duration": 10,
    "start_time": "2022-02-12T14:20:58.718Z"
   },
   {
    "duration": 10,
    "start_time": "2022-02-12T14:21:35.371Z"
   },
   {
    "duration": 138,
    "start_time": "2022-02-12T14:21:46.849Z"
   },
   {
    "duration": 10,
    "start_time": "2022-02-12T14:22:09.733Z"
   },
   {
    "duration": 4,
    "start_time": "2022-02-12T14:22:16.692Z"
   },
   {
    "duration": 169,
    "start_time": "2022-02-12T14:22:20.271Z"
   },
   {
    "duration": 16,
    "start_time": "2022-02-12T14:22:24.701Z"
   },
   {
    "duration": 13,
    "start_time": "2022-02-12T14:22:30.703Z"
   },
   {
    "duration": 6,
    "start_time": "2022-02-12T14:22:35.744Z"
   },
   {
    "duration": 18,
    "start_time": "2022-02-12T14:22:39.358Z"
   },
   {
    "duration": 6,
    "start_time": "2022-02-12T14:22:44.766Z"
   },
   {
    "duration": 30,
    "start_time": "2022-02-12T14:22:48.213Z"
   },
   {
    "duration": 22,
    "start_time": "2022-02-12T14:22:57.398Z"
   },
   {
    "duration": 29,
    "start_time": "2022-02-12T14:23:01.743Z"
   },
   {
    "duration": 80,
    "start_time": "2022-02-12T14:23:06.390Z"
   },
   {
    "duration": 87,
    "start_time": "2022-02-12T14:23:10.556Z"
   },
   {
    "duration": 71,
    "start_time": "2022-02-12T14:23:14.293Z"
   },
   {
    "duration": 8,
    "start_time": "2022-02-12T14:23:19.672Z"
   },
   {
    "duration": 4,
    "start_time": "2022-02-12T14:23:27.342Z"
   },
   {
    "duration": 16,
    "start_time": "2022-02-12T14:23:32.304Z"
   },
   {
    "duration": 9,
    "start_time": "2022-02-12T14:23:44.308Z"
   },
   {
    "duration": 13,
    "start_time": "2022-02-12T14:24:03.887Z"
   },
   {
    "duration": 14,
    "start_time": "2022-02-12T14:24:18.340Z"
   },
   {
    "duration": 5,
    "start_time": "2022-02-12T14:24:29.104Z"
   },
   {
    "duration": 31,
    "start_time": "2022-02-12T14:24:32.330Z"
   },
   {
    "duration": 4,
    "start_time": "2022-02-12T14:24:41.258Z"
   },
   {
    "duration": 12,
    "start_time": "2022-02-12T14:24:50.442Z"
   },
   {
    "duration": 19,
    "start_time": "2022-02-12T14:24:55.022Z"
   },
   {
    "duration": 136,
    "start_time": "2022-02-12T14:25:00.724Z"
   },
   {
    "duration": 30,
    "start_time": "2022-02-12T14:25:16.458Z"
   },
   {
    "duration": 127,
    "start_time": "2022-02-12T14:25:23.539Z"
   },
   {
    "duration": 28,
    "start_time": "2022-02-12T14:25:52.510Z"
   },
   {
    "duration": 142,
    "start_time": "2022-02-12T14:26:00.152Z"
   },
   {
    "duration": 118,
    "start_time": "2022-02-12T14:26:10.246Z"
   },
   {
    "duration": 5,
    "start_time": "2022-02-12T14:26:54.641Z"
   },
   {
    "duration": 744,
    "start_time": "2022-02-12T14:27:00.853Z"
   },
   {
    "duration": 5,
    "start_time": "2022-02-12T14:38:23.060Z"
   },
   {
    "duration": 810,
    "start_time": "2022-02-12T14:38:30.268Z"
   },
   {
    "duration": 7,
    "start_time": "2022-02-12T14:39:06.268Z"
   },
   {
    "duration": 590,
    "start_time": "2022-02-12T14:39:23.561Z"
   },
   {
    "duration": 11043,
    "start_time": "2022-02-12T14:39:25.128Z"
   },
   {
    "duration": 5,
    "start_time": "2022-02-12T14:40:09.973Z"
   },
   {
    "duration": 1802,
    "start_time": "2022-02-12T14:40:15.847Z"
   },
   {
    "duration": 28,
    "start_time": "2022-02-12T14:42:47.710Z"
   },
   {
    "duration": 27,
    "start_time": "2022-02-12T14:42:55.313Z"
   },
   {
    "duration": 5,
    "start_time": "2022-02-12T14:45:32.473Z"
   },
   {
    "duration": 792,
    "start_time": "2022-02-12T14:45:37.263Z"
   },
   {
    "duration": 1052,
    "start_time": "2022-02-12T14:45:42.933Z"
   },
   {
    "duration": 849,
    "start_time": "2022-02-12T14:46:45.084Z"
   },
   {
    "duration": 6,
    "start_time": "2022-02-12T14:47:14.746Z"
   },
   {
    "duration": 6,
    "start_time": "2022-02-12T14:51:13.593Z"
   },
   {
    "duration": 6,
    "start_time": "2022-02-12T14:53:31.199Z"
   },
   {
    "duration": 32,
    "start_time": "2022-02-12T14:53:34.510Z"
   },
   {
    "duration": 30,
    "start_time": "2022-02-12T14:56:20.210Z"
   },
   {
    "duration": 7,
    "start_time": "2022-02-12T14:56:26.214Z"
   },
   {
    "duration": 33,
    "start_time": "2022-02-12T14:56:31.699Z"
   },
   {
    "duration": 25,
    "start_time": "2022-02-12T14:56:52.984Z"
   },
   {
    "duration": 32,
    "start_time": "2022-02-12T14:57:07.705Z"
   },
   {
    "duration": 29,
    "start_time": "2022-02-12T14:57:11.304Z"
   },
   {
    "duration": 44,
    "start_time": "2022-02-12T15:02:00.213Z"
   },
   {
    "duration": 13,
    "start_time": "2022-02-12T15:02:03.523Z"
   },
   {
    "duration": 12,
    "start_time": "2022-02-12T15:02:34.371Z"
   },
   {
    "duration": 10709,
    "start_time": "2022-02-12T15:04:55.444Z"
   },
   {
    "duration": 610,
    "start_time": "2022-02-12T15:05:05.548Z"
   },
   {
    "duration": 396,
    "start_time": "2022-02-12T15:05:36.838Z"
   },
   {
    "duration": 31,
    "start_time": "2022-02-12T15:06:40.858Z"
   },
   {
    "duration": 12,
    "start_time": "2022-02-12T15:06:44.081Z"
   },
   {
    "duration": 16,
    "start_time": "2022-02-12T15:08:06.468Z"
   },
   {
    "duration": 12,
    "start_time": "2022-02-12T15:08:09.788Z"
   },
   {
    "duration": 4,
    "start_time": "2022-02-12T15:12:03.071Z"
   },
   {
    "duration": 15,
    "start_time": "2022-02-12T15:12:15.852Z"
   },
   {
    "duration": 9,
    "start_time": "2022-02-12T15:12:28.778Z"
   },
   {
    "duration": 31,
    "start_time": "2022-02-12T15:13:44.999Z"
   },
   {
    "duration": 28,
    "start_time": "2022-02-12T15:13:54.792Z"
   },
   {
    "duration": 5,
    "start_time": "2022-02-12T15:14:06.849Z"
   },
   {
    "duration": 32,
    "start_time": "2022-02-12T15:14:09.519Z"
   },
   {
    "duration": 23,
    "start_time": "2022-02-12T15:14:22.609Z"
   },
   {
    "duration": 30,
    "start_time": "2022-02-12T15:14:33.080Z"
   },
   {
    "duration": 22,
    "start_time": "2022-02-12T15:14:35.784Z"
   },
   {
    "duration": 28,
    "start_time": "2022-02-12T15:14:56.962Z"
   },
   {
    "duration": 12,
    "start_time": "2022-02-12T15:14:58.828Z"
   },
   {
    "duration": 17,
    "start_time": "2022-02-12T15:15:08.789Z"
   },
   {
    "duration": 12,
    "start_time": "2022-02-12T15:15:11.426Z"
   },
   {
    "duration": 216,
    "start_time": "2022-02-12T15:22:02.685Z"
   },
   {
    "duration": 129,
    "start_time": "2022-02-12T15:23:41.148Z"
   },
   {
    "duration": 124,
    "start_time": "2022-02-12T15:24:16.003Z"
   },
   {
    "duration": 40,
    "start_time": "2022-02-12T15:33:37.763Z"
   },
   {
    "duration": 6,
    "start_time": "2022-02-12T15:35:05.827Z"
   },
   {
    "duration": 42,
    "start_time": "2022-02-12T15:35:09.939Z"
   },
   {
    "duration": 30,
    "start_time": "2022-02-12T15:35:30.698Z"
   },
   {
    "duration": 38,
    "start_time": "2022-02-12T15:35:34.910Z"
   },
   {
    "duration": 30,
    "start_time": "2022-02-12T15:35:49.622Z"
   },
   {
    "duration": 13,
    "start_time": "2022-02-12T15:35:51.980Z"
   },
   {
    "duration": 19,
    "start_time": "2022-02-12T15:36:01.563Z"
   },
   {
    "duration": 13,
    "start_time": "2022-02-12T15:36:04.141Z"
   },
   {
    "duration": 82,
    "start_time": "2022-02-12T16:14:38.727Z"
   },
   {
    "duration": 634,
    "start_time": "2022-02-12T16:15:23.323Z"
   },
   {
    "duration": 150,
    "start_time": "2022-02-12T16:15:23.959Z"
   },
   {
    "duration": 21,
    "start_time": "2022-02-12T16:15:24.111Z"
   },
   {
    "duration": 11,
    "start_time": "2022-02-12T16:15:24.135Z"
   },
   {
    "duration": 7,
    "start_time": "2022-02-12T16:15:24.148Z"
   },
   {
    "duration": 51,
    "start_time": "2022-02-12T16:15:24.157Z"
   },
   {
    "duration": 5,
    "start_time": "2022-02-12T16:15:24.210Z"
   },
   {
    "duration": 25,
    "start_time": "2022-02-12T16:15:24.219Z"
   },
   {
    "duration": 21,
    "start_time": "2022-02-12T16:15:24.247Z"
   },
   {
    "duration": 49,
    "start_time": "2022-02-12T16:15:24.270Z"
   },
   {
    "duration": 64,
    "start_time": "2022-02-12T16:15:24.321Z"
   },
   {
    "duration": 90,
    "start_time": "2022-02-12T16:15:24.387Z"
   },
   {
    "duration": 70,
    "start_time": "2022-02-12T16:15:24.479Z"
   },
   {
    "duration": 6,
    "start_time": "2022-02-12T16:15:24.551Z"
   },
   {
    "duration": 4,
    "start_time": "2022-02-12T16:15:24.559Z"
   },
   {
    "duration": 21,
    "start_time": "2022-02-12T16:15:24.565Z"
   },
   {
    "duration": 24,
    "start_time": "2022-02-12T16:15:24.588Z"
   },
   {
    "duration": 18,
    "start_time": "2022-02-12T16:15:24.614Z"
   },
   {
    "duration": 11,
    "start_time": "2022-02-12T16:15:24.634Z"
   },
   {
    "duration": 5,
    "start_time": "2022-02-12T16:15:24.647Z"
   },
   {
    "duration": 26,
    "start_time": "2022-02-12T16:15:24.654Z"
   },
   {
    "duration": 36,
    "start_time": "2022-02-12T16:15:24.682Z"
   },
   {
    "duration": 18,
    "start_time": "2022-02-12T16:15:24.722Z"
   },
   {
    "duration": 16,
    "start_time": "2022-02-12T16:15:24.743Z"
   },
   {
    "duration": 52,
    "start_time": "2022-02-12T16:15:24.760Z"
   },
   {
    "duration": 17,
    "start_time": "2022-02-12T16:15:24.813Z"
   },
   {
    "duration": 9,
    "start_time": "2022-02-12T16:15:24.832Z"
   },
   {
    "duration": 23,
    "start_time": "2022-02-12T16:15:24.843Z"
   },
   {
    "duration": 48,
    "start_time": "2022-02-12T16:15:24.868Z"
   },
   {
    "duration": 4,
    "start_time": "2022-02-12T16:15:24.918Z"
   },
   {
    "duration": 35,
    "start_time": "2022-02-12T16:15:24.924Z"
   },
   {
    "duration": 22,
    "start_time": "2022-02-12T16:15:24.960Z"
   },
   {
    "duration": 45,
    "start_time": "2022-02-12T16:15:24.984Z"
   },
   {
    "duration": 19,
    "start_time": "2022-02-12T16:15:25.031Z"
   },
   {
    "duration": 24,
    "start_time": "2022-02-12T16:15:25.052Z"
   },
   {
    "duration": 34,
    "start_time": "2022-02-12T16:15:25.078Z"
   },
   {
    "duration": 17,
    "start_time": "2022-02-12T16:15:25.114Z"
   },
   {
    "duration": 12,
    "start_time": "2022-02-12T16:15:25.133Z"
   },
   {
    "duration": 102,
    "start_time": "2022-02-12T16:36:55.138Z"
   },
   {
    "duration": 81,
    "start_time": "2022-02-12T16:58:08.489Z"
   },
   {
    "duration": 128,
    "start_time": "2022-02-12T17:01:29.315Z"
   },
   {
    "duration": 87,
    "start_time": "2022-02-12T17:08:17.643Z"
   },
   {
    "duration": 79,
    "start_time": "2022-02-12T17:10:13.685Z"
   },
   {
    "duration": 82,
    "start_time": "2022-02-12T17:32:45.958Z"
   },
   {
    "duration": 639,
    "start_time": "2022-02-12T17:35:42.749Z"
   },
   {
    "duration": 86,
    "start_time": "2022-02-12T17:38:44.628Z"
   },
   {
    "duration": 111,
    "start_time": "2022-02-12T17:39:45.475Z"
   },
   {
    "duration": 87,
    "start_time": "2022-02-12T17:42:40.007Z"
   },
   {
    "duration": 59,
    "start_time": "2022-02-13T08:42:56.643Z"
   },
   {
    "duration": 323,
    "start_time": "2022-02-14T10:11:10.804Z"
   },
   {
    "duration": 875,
    "start_time": "2022-02-14T10:11:26.845Z"
   },
   {
    "duration": 458,
    "start_time": "2022-02-14T10:11:29.173Z"
   },
   {
    "duration": 27,
    "start_time": "2022-02-14T10:11:31.692Z"
   },
   {
    "duration": 34,
    "start_time": "2022-02-14T10:11:36.112Z"
   },
   {
    "duration": 32,
    "start_time": "2022-02-14T10:17:19.674Z"
   },
   {
    "duration": 30,
    "start_time": "2022-02-14T10:17:33.464Z"
   },
   {
    "duration": 13620,
    "start_time": "2022-02-14T10:17:37.120Z"
   },
   {
    "duration": 1848,
    "start_time": "2022-02-14T10:17:48.895Z"
   },
   {
    "duration": 31,
    "start_time": "2022-02-14T10:18:06.990Z"
   },
   {
    "duration": 27,
    "start_time": "2022-02-14T10:18:41.066Z"
   },
   {
    "duration": 6,
    "start_time": "2022-02-14T10:18:43.814Z"
   },
   {
    "duration": 30,
    "start_time": "2022-02-14T10:18:47.835Z"
   },
   {
    "duration": 26,
    "start_time": "2022-02-14T10:18:51.162Z"
   },
   {
    "duration": 33,
    "start_time": "2022-02-14T10:19:03.291Z"
   },
   {
    "duration": 85,
    "start_time": "2022-02-14T10:19:24.793Z"
   },
   {
    "duration": 80,
    "start_time": "2022-02-14T10:20:14.472Z"
   },
   {
    "duration": 101,
    "start_time": "2022-02-14T10:20:19.035Z"
   },
   {
    "duration": 78,
    "start_time": "2022-02-14T10:20:21.336Z"
   },
   {
    "duration": 59,
    "start_time": "2022-02-14T10:21:30.155Z"
   },
   {
    "duration": 106,
    "start_time": "2022-02-14T10:26:07.078Z"
   },
   {
    "duration": 140,
    "start_time": "2022-02-14T10:29:48.689Z"
   },
   {
    "duration": 4,
    "start_time": "2022-02-14T10:30:23.631Z"
   },
   {
    "duration": 6711,
    "start_time": "2022-02-14T10:31:11.497Z"
   },
   {
    "duration": 4,
    "start_time": "2022-02-14T10:40:19.346Z"
   },
   {
    "duration": 13471,
    "start_time": "2022-02-14T10:40:32.250Z"
   },
   {
    "duration": 254,
    "start_time": "2022-02-14T10:42:02.646Z"
   },
   {
    "duration": 128,
    "start_time": "2022-02-14T10:42:23.192Z"
   },
   {
    "duration": 4,
    "start_time": "2022-02-14T10:42:31.697Z"
   },
   {
    "duration": 6251,
    "start_time": "2022-02-14T10:42:45.289Z"
   },
   {
    "duration": 1861,
    "start_time": "2022-02-14T10:42:49.682Z"
   },
   {
    "duration": 58,
    "start_time": "2022-02-14T10:42:59.632Z"
   },
   {
    "duration": 87,
    "start_time": "2022-02-14T10:43:39.421Z"
   },
   {
    "duration": 125,
    "start_time": "2022-02-14T10:46:22.020Z"
   },
   {
    "duration": 4,
    "start_time": "2022-02-14T10:47:33.503Z"
   },
   {
    "duration": 7141,
    "start_time": "2022-02-14T10:47:39.556Z"
   },
   {
    "duration": 1882,
    "start_time": "2022-02-14T10:47:44.819Z"
   },
   {
    "duration": 5,
    "start_time": "2022-02-14T10:50:06.531Z"
   },
   {
    "duration": 7129,
    "start_time": "2022-02-14T10:50:10.099Z"
   },
   {
    "duration": 1872,
    "start_time": "2022-02-14T10:50:15.358Z"
   },
   {
    "duration": 6537,
    "start_time": "2022-02-14T10:50:34.572Z"
   },
   {
    "duration": 6,
    "start_time": "2022-02-14T10:52:31.001Z"
   },
   {
    "duration": 6166,
    "start_time": "2022-02-14T10:52:34.426Z"
   },
   {
    "duration": 1883,
    "start_time": "2022-02-14T10:52:38.712Z"
   },
   {
    "duration": 6237,
    "start_time": "2022-02-14T10:52:53.207Z"
   },
   {
    "duration": 4,
    "start_time": "2022-02-14T10:58:31.215Z"
   },
   {
    "duration": 6252,
    "start_time": "2022-02-14T10:58:35.481Z"
   },
   {
    "duration": 6665,
    "start_time": "2022-02-14T10:59:29.293Z"
   },
   {
    "duration": 87,
    "start_time": "2022-02-14T11:02:35.238Z"
   },
   {
    "duration": 4,
    "start_time": "2022-02-14T11:02:54.935Z"
   },
   {
    "duration": 6869,
    "start_time": "2022-02-14T11:03:26.242Z"
   },
   {
    "duration": 58,
    "start_time": "2022-02-14T11:03:33.752Z"
   },
   {
    "duration": 143,
    "start_time": "2022-02-14T11:04:11.587Z"
   },
   {
    "duration": 4,
    "start_time": "2022-02-14T11:04:17.865Z"
   },
   {
    "duration": 546,
    "start_time": "2022-02-14T11:04:21.724Z"
   },
   {
    "duration": 4,
    "start_time": "2022-02-14T11:04:35.547Z"
   },
   {
    "duration": 9,
    "start_time": "2022-02-14T11:04:39.879Z"
   },
   {
    "duration": 58,
    "start_time": "2022-02-14T11:04:43.094Z"
   },
   {
    "duration": 4,
    "start_time": "2022-02-14T11:05:26.608Z"
   },
   {
    "duration": 243,
    "start_time": "2022-02-14T11:05:50.681Z"
   },
   {
    "duration": 77,
    "start_time": "2022-02-14T11:06:09.761Z"
   },
   {
    "duration": 5,
    "start_time": "2022-02-14T11:06:28.662Z"
   },
   {
    "duration": 367,
    "start_time": "2022-02-14T11:06:38.091Z"
   },
   {
    "duration": 4,
    "start_time": "2022-02-14T11:07:41.363Z"
   },
   {
    "duration": 250,
    "start_time": "2022-02-14T11:07:44.595Z"
   },
   {
    "duration": 5,
    "start_time": "2022-02-14T11:07:55.249Z"
   },
   {
    "duration": 249,
    "start_time": "2022-02-14T11:07:57.678Z"
   },
   {
    "duration": 8,
    "start_time": "2022-02-14T11:08:07.849Z"
   },
   {
    "duration": 14,
    "start_time": "2022-02-14T11:10:03.742Z"
   },
   {
    "duration": 62,
    "start_time": "2022-02-14T11:10:11.330Z"
   },
   {
    "duration": 1870,
    "start_time": "2022-02-14T11:13:45.976Z"
   },
   {
    "duration": 5,
    "start_time": "2022-02-14T11:14:08.575Z"
   },
   {
    "duration": 23,
    "start_time": "2022-02-14T11:14:11.856Z"
   },
   {
    "duration": 20,
    "start_time": "2022-02-14T11:14:14.138Z"
   },
   {
    "duration": 21,
    "start_time": "2022-02-14T11:14:16.219Z"
   },
   {
    "duration": 20,
    "start_time": "2022-02-14T11:14:18.335Z"
   },
   {
    "duration": 24,
    "start_time": "2022-02-14T11:14:20.288Z"
   },
   {
    "duration": 22,
    "start_time": "2022-02-14T11:14:22.739Z"
   },
   {
    "duration": 114,
    "start_time": "2022-02-14T11:14:29.096Z"
   },
   {
    "duration": 7,
    "start_time": "2022-02-14T11:14:58.060Z"
   },
   {
    "duration": 12,
    "start_time": "2022-02-14T11:15:13.364Z"
   },
   {
    "duration": 7,
    "start_time": "2022-02-14T11:19:47.543Z"
   },
   {
    "duration": 277,
    "start_time": "2022-02-14T11:20:14.844Z"
   },
   {
    "duration": 31,
    "start_time": "2022-02-14T11:24:44.830Z"
   },
   {
    "duration": 35,
    "start_time": "2022-02-14T11:25:23.502Z"
   },
   {
    "duration": 28,
    "start_time": "2022-02-14T11:25:26.439Z"
   },
   {
    "duration": 6,
    "start_time": "2022-02-14T11:25:32.061Z"
   },
   {
    "duration": 571,
    "start_time": "2022-02-14T11:25:38.684Z"
   },
   {
    "duration": 585,
    "start_time": "2022-02-14T11:26:37.795Z"
   },
   {
    "duration": 6,
    "start_time": "2022-02-14T11:27:02.451Z"
   },
   {
    "duration": 33,
    "start_time": "2022-02-14T11:27:06.510Z"
   },
   {
    "duration": 6,
    "start_time": "2022-02-14T11:31:24.796Z"
   },
   {
    "duration": 613,
    "start_time": "2022-02-14T11:31:31.780Z"
   },
   {
    "duration": 6,
    "start_time": "2022-02-14T11:35:43.815Z"
   },
   {
    "duration": 26,
    "start_time": "2022-02-14T11:35:49.169Z"
   },
   {
    "duration": 6,
    "start_time": "2022-02-14T11:37:31.645Z"
   },
   {
    "duration": 26,
    "start_time": "2022-02-14T11:37:35.414Z"
   },
   {
    "duration": 19,
    "start_time": "2022-02-14T11:37:47.666Z"
   },
   {
    "duration": 25,
    "start_time": "2022-02-14T11:37:57.383Z"
   },
   {
    "duration": 17,
    "start_time": "2022-02-14T11:38:00.356Z"
   },
   {
    "duration": 10,
    "start_time": "2022-02-14T11:42:35.121Z"
   },
   {
    "duration": 7,
    "start_time": "2022-02-14T11:42:37.892Z"
   },
   {
    "duration": 11,
    "start_time": "2022-02-14T11:43:13.717Z"
   },
   {
    "duration": 7,
    "start_time": "2022-02-14T11:43:17.736Z"
   },
   {
    "duration": 10,
    "start_time": "2022-02-14T11:43:34.808Z"
   },
   {
    "duration": 6,
    "start_time": "2022-02-14T11:43:36.837Z"
   },
   {
    "duration": 620,
    "start_time": "2022-02-14T13:15:48.755Z"
   },
   {
    "duration": 142,
    "start_time": "2022-02-14T13:15:49.377Z"
   },
   {
    "duration": 18,
    "start_time": "2022-02-14T13:15:49.523Z"
   },
   {
    "duration": 37,
    "start_time": "2022-02-14T13:15:49.543Z"
   },
   {
    "duration": 4,
    "start_time": "2022-02-14T13:15:49.582Z"
   },
   {
    "duration": 43,
    "start_time": "2022-02-14T13:15:49.588Z"
   },
   {
    "duration": 4,
    "start_time": "2022-02-14T13:15:49.634Z"
   },
   {
    "duration": 37,
    "start_time": "2022-02-14T13:15:49.640Z"
   },
   {
    "duration": 29,
    "start_time": "2022-02-14T13:15:49.679Z"
   },
   {
    "duration": 42,
    "start_time": "2022-02-14T13:15:49.710Z"
   },
   {
    "duration": 75,
    "start_time": "2022-02-14T13:15:49.754Z"
   },
   {
    "duration": 68,
    "start_time": "2022-02-14T13:15:49.831Z"
   },
   {
    "duration": 60,
    "start_time": "2022-02-14T13:15:49.900Z"
   },
   {
    "duration": 57,
    "start_time": "2022-02-14T13:15:49.962Z"
   },
   {
    "duration": 3,
    "start_time": "2022-02-14T13:15:50.021Z"
   },
   {
    "duration": 28,
    "start_time": "2022-02-14T13:15:50.026Z"
   },
   {
    "duration": 52,
    "start_time": "2022-02-14T13:15:50.057Z"
   },
   {
    "duration": 13,
    "start_time": "2022-02-14T13:15:50.111Z"
   },
   {
    "duration": 30,
    "start_time": "2022-02-14T13:15:50.126Z"
   },
   {
    "duration": 4,
    "start_time": "2022-02-14T13:15:50.159Z"
   },
   {
    "duration": 32,
    "start_time": "2022-02-14T13:15:50.165Z"
   },
   {
    "duration": 16,
    "start_time": "2022-02-14T13:15:50.201Z"
   },
   {
    "duration": 16,
    "start_time": "2022-02-14T13:15:50.219Z"
   },
   {
    "duration": 16,
    "start_time": "2022-02-14T13:15:50.236Z"
   },
   {
    "duration": 17,
    "start_time": "2022-02-14T13:15:50.254Z"
   },
   {
    "duration": 46,
    "start_time": "2022-02-14T13:15:50.273Z"
   },
   {
    "duration": 8,
    "start_time": "2022-02-14T13:15:50.321Z"
   },
   {
    "duration": 25,
    "start_time": "2022-02-14T13:15:50.331Z"
   },
   {
    "duration": 28,
    "start_time": "2022-02-14T13:15:50.359Z"
   },
   {
    "duration": 29,
    "start_time": "2022-02-14T13:15:50.389Z"
   },
   {
    "duration": 28,
    "start_time": "2022-02-14T13:15:50.421Z"
   },
   {
    "duration": 18,
    "start_time": "2022-02-14T13:15:50.451Z"
   },
   {
    "duration": 50,
    "start_time": "2022-02-14T13:15:50.471Z"
   },
   {
    "duration": 17,
    "start_time": "2022-02-14T13:15:50.523Z"
   },
   {
    "duration": 13,
    "start_time": "2022-02-14T13:15:50.542Z"
   },
   {
    "duration": 6,
    "start_time": "2022-02-14T13:15:50.556Z"
   },
   {
    "duration": 10,
    "start_time": "2022-02-14T13:15:50.564Z"
   },
   {
    "duration": 5,
    "start_time": "2022-02-14T13:15:50.576Z"
   },
   {
    "duration": 95,
    "start_time": "2022-02-14T13:17:45.984Z"
   },
   {
    "duration": 81,
    "start_time": "2022-02-14T13:25:39.412Z"
   },
   {
    "duration": 82,
    "start_time": "2022-02-14T13:26:40.961Z"
   },
   {
    "duration": 311,
    "start_time": "2022-02-18T10:19:09.411Z"
   },
   {
    "duration": 654,
    "start_time": "2022-02-18T10:19:16.439Z"
   },
   {
    "duration": 149,
    "start_time": "2022-02-18T10:19:18.944Z"
   }
  ],
  "colab": {
   "collapsed_sections": [
    "E0vqbgi9ay0H",
    "VUC88oWjTJw2"
   ],
   "name": "yandex_music_project_2021.2.ipynb",
   "provenance": []
  },
  "kernelspec": {
   "display_name": "Python 3 (ipykernel)",
   "language": "python",
   "name": "python3"
  },
  "language_info": {
   "codemirror_mode": {
    "name": "ipython",
    "version": 3
   },
   "file_extension": ".py",
   "mimetype": "text/x-python",
   "name": "python",
   "nbconvert_exporter": "python",
   "pygments_lexer": "ipython3",
   "version": "3.9.13"
  },
  "toc": {
   "base_numbering": 1,
   "nav_menu": {},
   "number_sections": true,
   "sideBar": false,
   "skip_h1_title": true,
   "title_cell": "Table of Contents",
   "title_sidebar": "Contents",
   "toc_cell": false,
   "toc_position": {
    "height": "834px",
    "left": "24px",
    "top": "111.125px",
    "width": "366.391px"
   },
   "toc_section_display": true,
   "toc_window_display": true
  }
 },
 "nbformat": 4,
 "nbformat_minor": 1
}
